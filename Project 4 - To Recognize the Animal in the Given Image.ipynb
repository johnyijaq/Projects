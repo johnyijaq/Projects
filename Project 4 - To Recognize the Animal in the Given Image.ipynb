{
 "cells": [
  {
   "cell_type": "markdown",
   "metadata": {
    "colab_type": "text",
    "id": "mGihf5Gaph2j"
   },
   "source": [
    "# To Recognize the Animal in the Given Image"
   ]
  },
  {
   "cell_type": "markdown",
   "metadata": {
    "colab_type": "text",
    "id": "NxcicIdLpnqk"
   },
   "source": [
    "Name: Johny Ijaq  \n",
    "Course: Deep Learning Bootcamp  "
   ]
  },
  {
   "cell_type": "markdown",
   "metadata": {
    "colab_type": "text",
    "id": "D-_eGl7yp4p0"
   },
   "source": [
    "## **Contents**\n",
    "\n",
    "1. Introduction\n",
    "2. Data Description\n",
    "3. Loading the Data\n",
    "   *  Accessing the Zip File\n",
    "   *  Unzipping the Zip File\n",
    "   *  Accessing the CSV File\n",
    "   *  Getting the name and path of all image files\n",
    "   *  Confirming if no. of labels is equal to the no. of images\n",
    "   *  Creating a DataFrame for image names and image paths\n",
    "   *  Combining the labels with the images\n",
    "   *  Loading Images\n",
    "4. Pre-processing\n",
    "5. Building a Multi-Layer Perceptron\n",
    "6. Loss Function and Optimizer\n",
    "7. Training the model\n",
    "8. Tensorboard\n",
    "9. Optimization Techniques \n",
    "10. Loading the test data\n",
    "11. Prediction\n",
    "12. Downloading the Data"
   ]
  },
  {
   "cell_type": "markdown",
   "metadata": {
    "colab_type": "text",
    "id": "Qhvb3F_Xres_"
   },
   "source": [
    "# Introduction \n",
    "To build a deep learning model that recognizes the animal in the given images.\n"
   ]
  },
  {
   "cell_type": "markdown",
   "metadata": {
    "colab_type": "text",
    "id": "cSAoZbf-vSf8"
   },
   "source": [
    "# Data Description\n",
    "\n",
    "The training dataset consists of 1200 medium quality animal images belonging to 2 categories: mucca (cow) and pecora (sheep). All the images have been collected from \"google images\" and have been checked by humans. There is some erroneous data to simulate real conditions.\n",
    "\n",
    "**train_beg.zip**: Contains the images of cows and sheeps that are to be used for training and validation of the model. Each image has a unique name like - image_1, image_2, etc. \n",
    " \n",
    "**Training_set_animals.csv**: Contains the image’s filename and their corresponding target value (i.e. the actual animal name). \n",
    "\n",
    "**test_beg.zip**: Contains the images of cows and sheeps whose predictions are to be submitted.\n",
    " \n",
    "**Testing_set_animals.csv**: This is the order of the predictions for each image that is to be submitted on the platform. "
   ]
  },
  {
   "cell_type": "markdown",
   "metadata": {
    "colab_type": "text",
    "id": "uW5GykTIwThd"
   },
   "source": [
    "# Loading the Data"
   ]
  },
  {
   "cell_type": "markdown",
   "metadata": {
    "colab_type": "text",
    "id": "xrW5OKuowYo_"
   },
   "source": [
    "### 1. Accessing the Zip File\n",
    "\n",
    "Downloading the GitHub repository\n",
    "\n",
    "**_The first step is to download the repository 'Datasets' to the colab files. We can achieve this by executing the below code_**"
   ]
  },
  {
   "cell_type": "code",
   "execution_count": 2,
   "metadata": {
    "colab": {
     "base_uri": "https://localhost:8080/",
     "height": 119
    },
    "colab_type": "code",
    "id": "xVhYPcQ8p3xP",
    "outputId": "7e705295-75e1-4fef-9838-0caa88c2d746"
   },
   "outputs": [
    {
     "name": "stderr",
     "output_type": "stream",
     "text": [
      "Cloning into 'Datasets'...\n",
      "Updating files:   0% (14/9435)\n",
      "Updating files:   0% (29/9435)\n",
      "Updating files:   0% (30/9435)\n",
      "Updating files:   0% (72/9435)\n",
      "Updating files:   0% (90/9435)\n",
      "Updating files:   1% (95/9435)\n",
      "Updating files:   2% (189/9435)\n",
      "Updating files:   2% (231/9435)\n",
      "Updating files:   3% (284/9435)\n",
      "Updating files:   3% (339/9435)\n",
      "Updating files:   4% (378/9435)\n",
      "Updating files:   5% (472/9435)\n",
      "Updating files:   5% (528/9435)\n",
      "Updating files:   6% (567/9435)\n",
      "Updating files:   7% (661/9435)\n",
      "Updating files:   8% (755/9435)\n",
      "Updating files:   8% (773/9435)\n",
      "Updating files:   9% (850/9435)\n",
      "Updating files:  10% (944/9435)\n",
      "Updating files:  10% (1020/9435)\n",
      "Updating files:  11% (1038/9435)\n",
      "Updating files:  12% (1133/9435)\n",
      "Updating files:  12% (1197/9435)\n",
      "Updating files:  13% (1227/9435)\n",
      "Updating files:  14% (1321/9435)\n",
      "Updating files:  14% (1360/9435)\n",
      "Updating files:  15% (1416/9435)\n",
      "Updating files:  16% (1510/9435)\n",
      "Updating files:  16% (1576/9435)\n",
      "Updating files:  17% (1604/9435)\n",
      "Updating files:  18% (1699/9435)\n",
      "Updating files:  19% (1793/9435)\n",
      "Updating files:  19% (1882/9435)\n",
      "Updating files:  20% (1887/9435)\n",
      "Updating files:  21% (1982/9435)\n",
      "Updating files:  22% (2076/9435)\n",
      "Updating files:  22% (2148/9435)\n",
      "Updating files:  23% (2171/9435)\n",
      "Updating files:  24% (2265/9435)\n",
      "Updating files:  25% (2359/9435)\n",
      "Updating files:  25% (2452/9435)\n",
      "Updating files:  26% (2454/9435)\n",
      "Updating files:  27% (2548/9435)\n",
      "Updating files:  28% (2642/9435)\n",
      "Updating files:  28% (2662/9435)\n",
      "Updating files:  29% (2737/9435)\n",
      "Updating files:  30% (2831/9435)\n",
      "Updating files:  30% (2880/9435)\n",
      "Updating files:  31% (2925/9435)\n",
      "Updating files:  32% (3020/9435)\n",
      "Updating files:  32% (3048/9435)\n",
      "Updating files:  33% (3114/9435)\n",
      "Updating files:  33% (3171/9435)\n",
      "Updating files:  34% (3208/9435)\n",
      "Updating files:  35% (3303/9435)\n",
      "Updating files:  35% (3394/9435)\n",
      "Updating files:  36% (3397/9435)\n",
      "Updating files:  37% (3491/9435)\n",
      "Updating files:  38% (3586/9435)\n",
      "Updating files:  38% (3630/9435)\n",
      "Updating files:  39% (3680/9435)\n",
      "Updating files:  39% (3763/9435)\n",
      "Updating files:  40% (3774/9435)\n",
      "Updating files:  41% (3869/9435)\n",
      "Updating files:  41% (3879/9435)\n",
      "Updating files:  42% (3963/9435)\n",
      "Updating files:  42% (4052/9435)\n",
      "Updating files:  43% (4058/9435)\n",
      "Updating files:  44% (4152/9435)\n",
      "Updating files:  45% (4246/9435)\n",
      "Updating files:  45% (4322/9435)\n",
      "Updating files:  46% (4341/9435)\n",
      "Updating files:  47% (4435/9435)\n",
      "Updating files:  48% (4529/9435)\n",
      "Updating files:  48% (4592/9435)\n",
      "Updating files:  49% (4624/9435)\n",
      "Updating files:  50% (4718/9435)\n",
      "Updating files:  50% (4802/9435)\n",
      "Updating files:  51% (4812/9435)\n",
      "Updating files:  52% (4907/9435)\n",
      "Updating files:  53% (5001/9435)\n",
      "Updating files:  53% (5036/9435)\n",
      "Updating files:  54% (5095/9435)\n",
      "Updating files:  55% (5190/9435)\n",
      "Updating files:  55% (5264/9435)\n",
      "Updating files:  56% (5284/9435)\n",
      "Updating files:  57% (5378/9435)\n",
      "Updating files:  57% (5406/9435)\n",
      "Updating files:  58% (5473/9435)\n",
      "Updating files:  58% (5496/9435)\n",
      "Updating files:  59% (5567/9435)\n",
      "Updating files:  60% (5661/9435)\n",
      "Updating files:  60% (5720/9435)\n",
      "Updating files:  61% (5756/9435)\n",
      "Updating files:  62% (5850/9435)\n",
      "Updating files:  63% (5945/9435)\n",
      "Updating files:  63% (5975/9435)\n",
      "Updating files:  64% (6039/9435)\n",
      "Updating files:  65% (6133/9435)\n",
      "Updating files:  65% (6196/9435)\n",
      "Updating files:  66% (6228/9435)\n",
      "Updating files:  67% (6322/9435)\n",
      "Updating files:  68% (6416/9435)\n",
      "Updating files:  68% (6432/9435)\n",
      "Updating files:  69% (6511/9435)\n",
      "Updating files:  70% (6605/9435)\n",
      "Updating files:  70% (6673/9435)\n",
      "Updating files:  71% (6699/9435)\n",
      "Updating files:  71% (6783/9435)\n",
      "Updating files:  72% (6794/9435)\n",
      "Updating files:  73% (6888/9435)\n",
      "Updating files:  73% (6904/9435)\n",
      "Updating files:  74% (6982/9435)\n",
      "Updating files:  75% (7077/9435)\n",
      "Updating files:  75% (7078/9435)\n",
      "Updating files:  76% (7171/9435)\n",
      "Updating files:  76% (7231/9435)\n",
      "Updating files:  77% (7265/9435)\n",
      "Updating files:  77% (7320/9435)\n",
      "Updating files:  78% (7360/9435)\n",
      "Updating files:  78% (7418/9435)\n",
      "Updating files:  79% (7454/9435)\n",
      "Updating files:  80% (7548/9435)\n",
      "Updating files:  80% (7620/9435)\n",
      "Updating files:  81% (7643/9435)\n",
      "Updating files:  82% (7737/9435)\n",
      "Updating files:  83% (7832/9435)\n",
      "Updating files:  83% (7910/9435)\n",
      "Updating files:  84% (7926/9435)\n",
      "Updating files:  85% (8020/9435)\n",
      "Updating files:  85% (8080/9435)\n",
      "Updating files:  85% (8098/9435)\n",
      "Updating files:  85% (8109/9435)\n",
      "Updating files:  86% (8115/9435)\n",
      "Updating files:  86% (8162/9435)\n",
      "Updating files:  86% (8203/9435)\n",
      "Updating files:  87% (8209/9435)\n",
      "Updating files:  87% (8281/9435)\n",
      "Updating files:  88% (8303/9435)\n",
      "Updating files:  89% (8398/9435)\n",
      "Updating files:  89% (8468/9435)\n",
      "Updating files:  90% (8492/9435)\n",
      "Updating files:  91% (8586/9435)\n",
      "Updating files:  91% (8657/9435)\n",
      "Updating files:  92% (8681/9435)\n",
      "Updating files:  92% (8772/9435)\n",
      "Updating files:  93% (8775/9435)\n",
      "Updating files:  94% (8869/9435)\n",
      "Updating files:  94% (8928/9435)\n",
      "Updating files:  95% (8964/9435)\n",
      "Updating files:  95% (9009/9435)\n",
      "Updating files:  95% (9010/9435)\n",
      "Updating files:  96% (9058/9435)\n",
      "Updating files:  96% (9110/9435)\n",
      "Updating files:  97% (9152/9435)\n",
      "Updating files:  98% (9247/9435)\n",
      "Updating files:  98% (9331/9435)\n",
      "Updating files:  99% (9341/9435)\n",
      "Updating files:  99% (9389/9435)\n",
      "Updating files:  99% (9431/9435)\n",
      "Updating files: 100% (9435/9435)\n",
      "Updating files: 100% (9435/9435), done.\n",
      "cp: cannot create directory `/content/animal_data/': No such file or directory\n"
     ]
    }
   ],
   "source": [
    "# cloning the Datasets repository\n",
    "!git clone https://github.com/dphi-official/Datasets.git\n",
    "\n",
    "# copying the contents of the animal data folder to Google Drive\n",
    "!cp -r Datasets/animal_data /content/animal_data/"
   ]
  },
  {
   "cell_type": "markdown",
   "metadata": {
    "colab_type": "text",
    "id": "pmjoOAz9xBM7"
   },
   "source": [
    "### 2. Unzipping the Zip File"
   ]
  },
  {
   "cell_type": "markdown",
   "metadata": {},
   "source": [
    "**_We need to extract the two zip files 'test_beg.zip' which contains testing images and 'train_beg.zip' contains images for training the model_**."
   ]
  },
  {
   "cell_type": "code",
   "execution_count": 4,
   "metadata": {
    "colab": {
     "base_uri": "https://localhost:8080/",
     "height": 1000
    },
    "colab_type": "code",
    "id": "qa6fb-44w0pR",
    "outputId": "3f7f9580-a618-4b0e-f4ed-dcdb39bb2b9f"
   },
   "outputs": [
    {
     "name": "stderr",
     "output_type": "stream",
     "text": [
      "unzip:  cannot find either animal_data/train_beg.zip or animal_data/train_beg.zip.zip.\n"
     ]
    }
   ],
   "source": [
    "# unzipping the contents \n",
    "!unzip animal_data/train_beg.zip    # contains images for training the model."
   ]
  },
  {
   "cell_type": "markdown",
   "metadata": {
    "colab_type": "text",
    "id": "-tn5LCuyxdIB"
   },
   "source": [
    "### 3. Accessing the CSV File"
   ]
  },
  {
   "cell_type": "markdown",
   "metadata": {},
   "source": [
    "Training data was provided in two different files/folders:\n",
    "\n",
    "1. **train_beg** folder contains all the images to be used for training the model. This can be found under the files section of Colab.  \n",
    "\n",
    "2. **Training_set_animals.csv** - contains all the image ids from train_beg folder with their respective labels. This can be found in the **\"files --> Datasets --> animal_data --> Training_set_animals.csv\"**"
   ]
  },
  {
   "cell_type": "code",
   "execution_count": 3,
   "metadata": {
    "colab": {
     "base_uri": "https://localhost:8080/",
     "height": 204
    },
    "colab_type": "code",
    "id": "VmZQgwYkxLle",
    "outputId": "3ece375f-8805-47ca-ba8c-ac86ddce3691"
   },
   "outputs": [
    {
     "data": {
      "text/html": [
       "<div>\n",
       "<style scoped>\n",
       "    .dataframe tbody tr th:only-of-type {\n",
       "        vertical-align: middle;\n",
       "    }\n",
       "\n",
       "    .dataframe tbody tr th {\n",
       "        vertical-align: top;\n",
       "    }\n",
       "\n",
       "    .dataframe thead th {\n",
       "        text-align: right;\n",
       "    }\n",
       "</style>\n",
       "<table border=\"1\" class=\"dataframe\">\n",
       "  <thead>\n",
       "    <tr style=\"text-align: right;\">\n",
       "      <th></th>\n",
       "      <th>filename</th>\n",
       "      <th>animal_type</th>\n",
       "    </tr>\n",
       "  </thead>\n",
       "  <tbody>\n",
       "    <tr>\n",
       "      <th>0</th>\n",
       "      <td>Image_1.jpg</td>\n",
       "      <td>mucca</td>\n",
       "    </tr>\n",
       "    <tr>\n",
       "      <th>1</th>\n",
       "      <td>Image_2.jpg</td>\n",
       "      <td>mucca</td>\n",
       "    </tr>\n",
       "    <tr>\n",
       "      <th>2</th>\n",
       "      <td>Image_3.jpg</td>\n",
       "      <td>mucca</td>\n",
       "    </tr>\n",
       "    <tr>\n",
       "      <th>3</th>\n",
       "      <td>Image_4.jpg</td>\n",
       "      <td>mucca</td>\n",
       "    </tr>\n",
       "    <tr>\n",
       "      <th>4</th>\n",
       "      <td>Image_5.jpg</td>\n",
       "      <td>mucca</td>\n",
       "    </tr>\n",
       "  </tbody>\n",
       "</table>\n",
       "</div>"
      ],
      "text/plain": [
       "      filename animal_type\n",
       "0  Image_1.jpg       mucca\n",
       "1  Image_2.jpg       mucca\n",
       "2  Image_3.jpg       mucca\n",
       "3  Image_4.jpg       mucca\n",
       "4  Image_5.jpg       mucca"
      ]
     },
     "execution_count": 3,
     "metadata": {},
     "output_type": "execute_result"
    }
   ],
   "source": [
    "#loading the required libraries\n",
    "import pandas as pd\n",
    "import numpy as np\n",
    "\n",
    "# accessing the given csv file (loading the train data)\n",
    "train_labels = pd.read_csv('https://raw.githubusercontent.com/dphi-official/Datasets/master/animal_data/Training_set_animals.csv')\n",
    "train_labels.head()   # this file contains file name and corresponding labels"
   ]
  },
  {
   "cell_type": "markdown",
   "metadata": {
    "colab_type": "text",
    "id": "xiiqPfR2x9bG"
   },
   "source": [
    "### 4. Getting the name and path of all image files\n",
    "\n",
    "To get all the training images paths where the image is located"
   ]
  },
  {
   "cell_type": "code",
   "execution_count": 10,
   "metadata": {
    "colab": {
     "base_uri": "https://localhost:8080/",
     "height": 1000
    },
    "colab_type": "code",
    "id": "tBUFndXQyADR",
    "outputId": "dafc9807-9c80-40f7-b5c2-3cc374280e51"
   },
   "outputs": [
    {
     "data": {
      "text/plain": [
       "[['Image_1.jpg', '/content/train_beg/Image_1.jpg'],\n",
       " ['Image_2.jpg', '/content/train_beg/Image_2.jpg'],\n",
       " ['Image_3.jpg', '/content/train_beg/Image_3.jpg'],\n",
       " ['Image_4.jpg', '/content/train_beg/Image_4.jpg'],\n",
       " ['Image_5.jpg', '/content/train_beg/Image_5.jpg'],\n",
       " ['Image_6.jpg', '/content/train_beg/Image_6.jpg'],\n",
       " ['Image_7.jpg', '/content/train_beg/Image_7.jpg'],\n",
       " ['Image_8.jpg', '/content/train_beg/Image_8.jpg'],\n",
       " ['Image_9.jpg', '/content/train_beg/Image_9.jpg'],\n",
       " ['Image_10.jpg', '/content/train_beg/Image_10.jpg'],\n",
       " ['Image_11.jpg', '/content/train_beg/Image_11.jpg'],\n",
       " ['Image_12.jpg', '/content/train_beg/Image_12.jpg'],\n",
       " ['Image_13.jpg', '/content/train_beg/Image_13.jpg'],\n",
       " ['Image_14.jpg', '/content/train_beg/Image_14.jpg'],\n",
       " ['Image_15.jpg', '/content/train_beg/Image_15.jpg'],\n",
       " ['Image_16.jpg', '/content/train_beg/Image_16.jpg'],\n",
       " ['Image_17.jpg', '/content/train_beg/Image_17.jpg'],\n",
       " ['Image_18.jpg', '/content/train_beg/Image_18.jpg'],\n",
       " ['Image_19.jpg', '/content/train_beg/Image_19.jpg'],\n",
       " ['Image_20.jpg', '/content/train_beg/Image_20.jpg'],\n",
       " ['Image_21.jpg', '/content/train_beg/Image_21.jpg'],\n",
       " ['Image_22.jpg', '/content/train_beg/Image_22.jpg'],\n",
       " ['Image_23.jpg', '/content/train_beg/Image_23.jpg'],\n",
       " ['Image_24.jpg', '/content/train_beg/Image_24.jpg'],\n",
       " ['Image_25.jpg', '/content/train_beg/Image_25.jpg'],\n",
       " ['Image_26.jpg', '/content/train_beg/Image_26.jpg'],\n",
       " ['Image_27.jpg', '/content/train_beg/Image_27.jpg'],\n",
       " ['Image_28.jpg', '/content/train_beg/Image_28.jpg'],\n",
       " ['Image_29.jpg', '/content/train_beg/Image_29.jpg'],\n",
       " ['Image_30.jpg', '/content/train_beg/Image_30.jpg'],\n",
       " ['Image_31.jpg', '/content/train_beg/Image_31.jpg'],\n",
       " ['Image_32.jpg', '/content/train_beg/Image_32.jpg'],\n",
       " ['Image_33.jpg', '/content/train_beg/Image_33.jpg'],\n",
       " ['Image_34.jpg', '/content/train_beg/Image_34.jpg'],\n",
       " ['Image_35.jpg', '/content/train_beg/Image_35.jpg'],\n",
       " ['Image_36.jpg', '/content/train_beg/Image_36.jpg'],\n",
       " ['Image_37.jpg', '/content/train_beg/Image_37.jpg'],\n",
       " ['Image_38.jpg', '/content/train_beg/Image_38.jpg'],\n",
       " ['Image_39.jpg', '/content/train_beg/Image_39.jpg'],\n",
       " ['Image_40.jpg', '/content/train_beg/Image_40.jpg'],\n",
       " ['Image_41.jpg', '/content/train_beg/Image_41.jpg'],\n",
       " ['Image_42.jpg', '/content/train_beg/Image_42.jpg'],\n",
       " ['Image_43.jpg', '/content/train_beg/Image_43.jpg'],\n",
       " ['Image_44.jpg', '/content/train_beg/Image_44.jpg'],\n",
       " ['Image_45.jpg', '/content/train_beg/Image_45.jpg'],\n",
       " ['Image_46.jpg', '/content/train_beg/Image_46.jpg'],\n",
       " ['Image_47.jpg', '/content/train_beg/Image_47.jpg'],\n",
       " ['Image_48.jpg', '/content/train_beg/Image_48.jpg'],\n",
       " ['Image_49.jpg', '/content/train_beg/Image_49.jpg'],\n",
       " ['Image_50.jpg', '/content/train_beg/Image_50.jpg'],\n",
       " ['Image_51.jpg', '/content/train_beg/Image_51.jpg'],\n",
       " ['Image_52.jpg', '/content/train_beg/Image_52.jpg'],\n",
       " ['Image_53.jpg', '/content/train_beg/Image_53.jpg'],\n",
       " ['Image_54.jpg', '/content/train_beg/Image_54.jpg'],\n",
       " ['Image_55.jpg', '/content/train_beg/Image_55.jpg'],\n",
       " ['Image_56.jpg', '/content/train_beg/Image_56.jpg'],\n",
       " ['Image_57.jpg', '/content/train_beg/Image_57.jpg'],\n",
       " ['Image_58.jpg', '/content/train_beg/Image_58.jpg'],\n",
       " ['Image_59.jpg', '/content/train_beg/Image_59.jpg'],\n",
       " ['Image_60.jpg', '/content/train_beg/Image_60.jpg'],\n",
       " ['Image_61.jpg', '/content/train_beg/Image_61.jpg'],\n",
       " ['Image_62.jpg', '/content/train_beg/Image_62.jpg'],\n",
       " ['Image_63.jpg', '/content/train_beg/Image_63.jpg'],\n",
       " ['Image_64.jpg', '/content/train_beg/Image_64.jpg'],\n",
       " ['Image_65.jpg', '/content/train_beg/Image_65.jpg'],\n",
       " ['Image_66.jpg', '/content/train_beg/Image_66.jpg'],\n",
       " ['Image_67.jpg', '/content/train_beg/Image_67.jpg'],\n",
       " ['Image_68.jpg', '/content/train_beg/Image_68.jpg'],\n",
       " ['Image_69.jpg', '/content/train_beg/Image_69.jpg'],\n",
       " ['Image_70.jpg', '/content/train_beg/Image_70.jpg'],\n",
       " ['Image_71.jpg', '/content/train_beg/Image_71.jpg'],\n",
       " ['Image_72.jpg', '/content/train_beg/Image_72.jpg'],\n",
       " ['Image_73.jpg', '/content/train_beg/Image_73.jpg'],\n",
       " ['Image_74.jpg', '/content/train_beg/Image_74.jpg'],\n",
       " ['Image_75.jpg', '/content/train_beg/Image_75.jpg'],\n",
       " ['Image_76.jpg', '/content/train_beg/Image_76.jpg'],\n",
       " ['Image_77.jpg', '/content/train_beg/Image_77.jpg'],\n",
       " ['Image_78.jpg', '/content/train_beg/Image_78.jpg'],\n",
       " ['Image_79.jpg', '/content/train_beg/Image_79.jpg'],\n",
       " ['Image_80.jpg', '/content/train_beg/Image_80.jpg'],\n",
       " ['Image_81.jpg', '/content/train_beg/Image_81.jpg'],\n",
       " ['Image_82.jpg', '/content/train_beg/Image_82.jpg'],\n",
       " ['Image_83.jpg', '/content/train_beg/Image_83.jpg'],\n",
       " ['Image_84.jpg', '/content/train_beg/Image_84.jpg'],\n",
       " ['Image_85.jpg', '/content/train_beg/Image_85.jpg'],\n",
       " ['Image_86.jpg', '/content/train_beg/Image_86.jpg'],\n",
       " ['Image_87.jpg', '/content/train_beg/Image_87.jpg'],\n",
       " ['Image_88.jpg', '/content/train_beg/Image_88.jpg'],\n",
       " ['Image_89.jpg', '/content/train_beg/Image_89.jpg'],\n",
       " ['Image_90.jpg', '/content/train_beg/Image_90.jpg'],\n",
       " ['Image_91.jpg', '/content/train_beg/Image_91.jpg'],\n",
       " ['Image_92.jpg', '/content/train_beg/Image_92.jpg'],\n",
       " ['Image_93.jpg', '/content/train_beg/Image_93.jpg'],\n",
       " ['Image_94.jpg', '/content/train_beg/Image_94.jpg'],\n",
       " ['Image_95.jpg', '/content/train_beg/Image_95.jpg'],\n",
       " ['Image_96.jpg', '/content/train_beg/Image_96.jpg'],\n",
       " ['Image_97.jpg', '/content/train_beg/Image_97.jpg'],\n",
       " ['Image_98.jpg', '/content/train_beg/Image_98.jpg'],\n",
       " ['Image_99.jpg', '/content/train_beg/Image_99.jpg'],\n",
       " ['Image_100.jpg', '/content/train_beg/Image_100.jpg'],\n",
       " ['Image_101.jpg', '/content/train_beg/Image_101.jpg'],\n",
       " ['Image_102.jpg', '/content/train_beg/Image_102.jpg'],\n",
       " ['Image_103.jpg', '/content/train_beg/Image_103.jpg'],\n",
       " ['Image_104.jpg', '/content/train_beg/Image_104.jpg'],\n",
       " ['Image_105.jpg', '/content/train_beg/Image_105.jpg'],\n",
       " ['Image_106.jpg', '/content/train_beg/Image_106.jpg'],\n",
       " ['Image_107.jpg', '/content/train_beg/Image_107.jpg'],\n",
       " ['Image_108.jpg', '/content/train_beg/Image_108.jpg'],\n",
       " ['Image_109.jpg', '/content/train_beg/Image_109.jpg'],\n",
       " ['Image_110.jpg', '/content/train_beg/Image_110.jpg'],\n",
       " ['Image_111.jpg', '/content/train_beg/Image_111.jpg'],\n",
       " ['Image_112.jpg', '/content/train_beg/Image_112.jpg'],\n",
       " ['Image_113.jpg', '/content/train_beg/Image_113.jpg'],\n",
       " ['Image_114.jpg', '/content/train_beg/Image_114.jpg'],\n",
       " ['Image_115.jpg', '/content/train_beg/Image_115.jpg'],\n",
       " ['Image_116.jpg', '/content/train_beg/Image_116.jpg'],\n",
       " ['Image_117.jpg', '/content/train_beg/Image_117.jpg'],\n",
       " ['Image_118.jpg', '/content/train_beg/Image_118.jpg'],\n",
       " ['Image_119.jpg', '/content/train_beg/Image_119.jpg'],\n",
       " ['Image_120.jpg', '/content/train_beg/Image_120.jpg'],\n",
       " ['Image_121.jpg', '/content/train_beg/Image_121.jpg'],\n",
       " ['Image_122.jpg', '/content/train_beg/Image_122.jpg'],\n",
       " ['Image_123.jpg', '/content/train_beg/Image_123.jpg'],\n",
       " ['Image_124.jpg', '/content/train_beg/Image_124.jpg'],\n",
       " ['Image_125.jpg', '/content/train_beg/Image_125.jpg'],\n",
       " ['Image_126.jpg', '/content/train_beg/Image_126.jpg'],\n",
       " ['Image_127.jpg', '/content/train_beg/Image_127.jpg'],\n",
       " ['Image_128.jpg', '/content/train_beg/Image_128.jpg'],\n",
       " ['Image_129.jpg', '/content/train_beg/Image_129.jpg'],\n",
       " ['Image_130.jpg', '/content/train_beg/Image_130.jpg'],\n",
       " ['Image_131.jpg', '/content/train_beg/Image_131.jpg'],\n",
       " ['Image_132.jpg', '/content/train_beg/Image_132.jpg'],\n",
       " ['Image_133.jpg', '/content/train_beg/Image_133.jpg'],\n",
       " ['Image_134.jpg', '/content/train_beg/Image_134.jpg'],\n",
       " ['Image_135.jpg', '/content/train_beg/Image_135.jpg'],\n",
       " ['Image_136.jpg', '/content/train_beg/Image_136.jpg'],\n",
       " ['Image_137.jpg', '/content/train_beg/Image_137.jpg'],\n",
       " ['Image_138.jpg', '/content/train_beg/Image_138.jpg'],\n",
       " ['Image_139.jpg', '/content/train_beg/Image_139.jpg'],\n",
       " ['Image_140.jpg', '/content/train_beg/Image_140.jpg'],\n",
       " ['Image_141.jpg', '/content/train_beg/Image_141.jpg'],\n",
       " ['Image_142.jpg', '/content/train_beg/Image_142.jpg'],\n",
       " ['Image_143.jpg', '/content/train_beg/Image_143.jpg'],\n",
       " ['Image_144.jpg', '/content/train_beg/Image_144.jpg'],\n",
       " ['Image_145.jpg', '/content/train_beg/Image_145.jpg'],\n",
       " ['Image_146.jpg', '/content/train_beg/Image_146.jpg'],\n",
       " ['Image_147.jpg', '/content/train_beg/Image_147.jpg'],\n",
       " ['Image_148.jpg', '/content/train_beg/Image_148.jpg'],\n",
       " ['Image_149.jpg', '/content/train_beg/Image_149.jpg'],\n",
       " ['Image_150.jpg', '/content/train_beg/Image_150.jpg'],\n",
       " ['Image_151.jpg', '/content/train_beg/Image_151.jpg'],\n",
       " ['Image_152.jpg', '/content/train_beg/Image_152.jpg'],\n",
       " ['Image_153.jpg', '/content/train_beg/Image_153.jpg'],\n",
       " ['Image_154.jpg', '/content/train_beg/Image_154.jpg'],\n",
       " ['Image_155.jpg', '/content/train_beg/Image_155.jpg'],\n",
       " ['Image_156.jpg', '/content/train_beg/Image_156.jpg'],\n",
       " ['Image_157.jpg', '/content/train_beg/Image_157.jpg'],\n",
       " ['Image_158.jpg', '/content/train_beg/Image_158.jpg'],\n",
       " ['Image_159.jpg', '/content/train_beg/Image_159.jpg'],\n",
       " ['Image_160.jpg', '/content/train_beg/Image_160.jpg'],\n",
       " ['Image_161.jpg', '/content/train_beg/Image_161.jpg'],\n",
       " ['Image_162.jpg', '/content/train_beg/Image_162.jpg'],\n",
       " ['Image_163.jpg', '/content/train_beg/Image_163.jpg'],\n",
       " ['Image_164.jpg', '/content/train_beg/Image_164.jpg'],\n",
       " ['Image_165.jpg', '/content/train_beg/Image_165.jpg'],\n",
       " ['Image_166.jpg', '/content/train_beg/Image_166.jpg'],\n",
       " ['Image_167.jpg', '/content/train_beg/Image_167.jpg'],\n",
       " ['Image_168.jpg', '/content/train_beg/Image_168.jpg'],\n",
       " ['Image_169.jpg', '/content/train_beg/Image_169.jpg'],\n",
       " ['Image_170.jpg', '/content/train_beg/Image_170.jpg'],\n",
       " ['Image_171.jpg', '/content/train_beg/Image_171.jpg'],\n",
       " ['Image_172.jpg', '/content/train_beg/Image_172.jpg'],\n",
       " ['Image_173.jpg', '/content/train_beg/Image_173.jpg'],\n",
       " ['Image_174.jpg', '/content/train_beg/Image_174.jpg'],\n",
       " ['Image_175.jpg', '/content/train_beg/Image_175.jpg'],\n",
       " ['Image_176.jpg', '/content/train_beg/Image_176.jpg'],\n",
       " ['Image_177.jpg', '/content/train_beg/Image_177.jpg'],\n",
       " ['Image_178.jpg', '/content/train_beg/Image_178.jpg'],\n",
       " ['Image_179.jpg', '/content/train_beg/Image_179.jpg'],\n",
       " ['Image_180.jpg', '/content/train_beg/Image_180.jpg'],\n",
       " ['Image_181.jpg', '/content/train_beg/Image_181.jpg'],\n",
       " ['Image_182.jpg', '/content/train_beg/Image_182.jpg'],\n",
       " ['Image_183.jpg', '/content/train_beg/Image_183.jpg'],\n",
       " ['Image_184.jpg', '/content/train_beg/Image_184.jpg'],\n",
       " ['Image_185.jpg', '/content/train_beg/Image_185.jpg'],\n",
       " ['Image_186.jpg', '/content/train_beg/Image_186.jpg'],\n",
       " ['Image_187.jpg', '/content/train_beg/Image_187.jpg'],\n",
       " ['Image_188.jpg', '/content/train_beg/Image_188.jpg'],\n",
       " ['Image_189.jpg', '/content/train_beg/Image_189.jpg'],\n",
       " ['Image_190.jpg', '/content/train_beg/Image_190.jpg'],\n",
       " ['Image_191.jpg', '/content/train_beg/Image_191.jpg'],\n",
       " ['Image_192.jpg', '/content/train_beg/Image_192.jpg'],\n",
       " ['Image_193.jpg', '/content/train_beg/Image_193.jpg'],\n",
       " ['Image_194.jpg', '/content/train_beg/Image_194.jpg'],\n",
       " ['Image_195.jpg', '/content/train_beg/Image_195.jpg'],\n",
       " ['Image_196.jpg', '/content/train_beg/Image_196.jpg'],\n",
       " ['Image_197.jpg', '/content/train_beg/Image_197.jpg'],\n",
       " ['Image_198.jpg', '/content/train_beg/Image_198.jpg'],\n",
       " ['Image_199.jpg', '/content/train_beg/Image_199.jpg'],\n",
       " ['Image_200.jpg', '/content/train_beg/Image_200.jpg'],\n",
       " ['Image_201.jpg', '/content/train_beg/Image_201.jpg'],\n",
       " ['Image_202.jpg', '/content/train_beg/Image_202.jpg'],\n",
       " ['Image_203.jpg', '/content/train_beg/Image_203.jpg'],\n",
       " ['Image_204.jpg', '/content/train_beg/Image_204.jpg'],\n",
       " ['Image_205.jpg', '/content/train_beg/Image_205.jpg'],\n",
       " ['Image_206.jpg', '/content/train_beg/Image_206.jpg'],\n",
       " ['Image_207.jpg', '/content/train_beg/Image_207.jpg'],\n",
       " ['Image_208.jpg', '/content/train_beg/Image_208.jpg'],\n",
       " ['Image_209.jpg', '/content/train_beg/Image_209.jpg'],\n",
       " ['Image_210.jpg', '/content/train_beg/Image_210.jpg'],\n",
       " ['Image_211.jpg', '/content/train_beg/Image_211.jpg'],\n",
       " ['Image_212.jpg', '/content/train_beg/Image_212.jpg'],\n",
       " ['Image_213.jpg', '/content/train_beg/Image_213.jpg'],\n",
       " ['Image_214.jpg', '/content/train_beg/Image_214.jpg'],\n",
       " ['Image_215.jpg', '/content/train_beg/Image_215.jpg'],\n",
       " ['Image_216.jpg', '/content/train_beg/Image_216.jpg'],\n",
       " ['Image_217.jpg', '/content/train_beg/Image_217.jpg'],\n",
       " ['Image_218.jpg', '/content/train_beg/Image_218.jpg'],\n",
       " ['Image_219.jpg', '/content/train_beg/Image_219.jpg'],\n",
       " ['Image_220.jpg', '/content/train_beg/Image_220.jpg'],\n",
       " ['Image_221.jpg', '/content/train_beg/Image_221.jpg'],\n",
       " ['Image_222.jpg', '/content/train_beg/Image_222.jpg'],\n",
       " ['Image_223.jpg', '/content/train_beg/Image_223.jpg'],\n",
       " ['Image_224.jpg', '/content/train_beg/Image_224.jpg'],\n",
       " ['Image_225.jpg', '/content/train_beg/Image_225.jpg'],\n",
       " ['Image_226.jpg', '/content/train_beg/Image_226.jpg'],\n",
       " ['Image_227.jpg', '/content/train_beg/Image_227.jpg'],\n",
       " ['Image_228.jpg', '/content/train_beg/Image_228.jpg'],\n",
       " ['Image_229.jpg', '/content/train_beg/Image_229.jpg'],\n",
       " ['Image_230.jpg', '/content/train_beg/Image_230.jpg'],\n",
       " ['Image_231.jpg', '/content/train_beg/Image_231.jpg'],\n",
       " ['Image_232.jpg', '/content/train_beg/Image_232.jpg'],\n",
       " ['Image_233.jpg', '/content/train_beg/Image_233.jpg'],\n",
       " ['Image_234.jpg', '/content/train_beg/Image_234.jpg'],\n",
       " ['Image_235.jpg', '/content/train_beg/Image_235.jpg'],\n",
       " ['Image_236.jpg', '/content/train_beg/Image_236.jpg'],\n",
       " ['Image_237.jpg', '/content/train_beg/Image_237.jpg'],\n",
       " ['Image_238.jpg', '/content/train_beg/Image_238.jpg'],\n",
       " ['Image_239.jpg', '/content/train_beg/Image_239.jpg'],\n",
       " ['Image_240.jpg', '/content/train_beg/Image_240.jpg'],\n",
       " ['Image_241.jpg', '/content/train_beg/Image_241.jpg'],\n",
       " ['Image_242.jpg', '/content/train_beg/Image_242.jpg'],\n",
       " ['Image_243.jpg', '/content/train_beg/Image_243.jpg'],\n",
       " ['Image_244.jpg', '/content/train_beg/Image_244.jpg'],\n",
       " ['Image_245.jpg', '/content/train_beg/Image_245.jpg'],\n",
       " ['Image_246.jpg', '/content/train_beg/Image_246.jpg'],\n",
       " ['Image_247.jpg', '/content/train_beg/Image_247.jpg'],\n",
       " ['Image_248.jpg', '/content/train_beg/Image_248.jpg'],\n",
       " ['Image_249.jpg', '/content/train_beg/Image_249.jpg'],\n",
       " ['Image_250.jpg', '/content/train_beg/Image_250.jpg'],\n",
       " ['Image_251.jpg', '/content/train_beg/Image_251.jpg'],\n",
       " ['Image_252.jpg', '/content/train_beg/Image_252.jpg'],\n",
       " ['Image_253.jpg', '/content/train_beg/Image_253.jpg'],\n",
       " ['Image_254.jpg', '/content/train_beg/Image_254.jpg'],\n",
       " ['Image_255.jpg', '/content/train_beg/Image_255.jpg'],\n",
       " ['Image_256.jpg', '/content/train_beg/Image_256.jpg'],\n",
       " ['Image_257.jpg', '/content/train_beg/Image_257.jpg'],\n",
       " ['Image_258.jpg', '/content/train_beg/Image_258.jpg'],\n",
       " ['Image_259.jpg', '/content/train_beg/Image_259.jpg'],\n",
       " ['Image_260.jpg', '/content/train_beg/Image_260.jpg'],\n",
       " ['Image_261.jpg', '/content/train_beg/Image_261.jpg'],\n",
       " ['Image_262.jpg', '/content/train_beg/Image_262.jpg'],\n",
       " ['Image_263.jpg', '/content/train_beg/Image_263.jpg'],\n",
       " ['Image_264.jpg', '/content/train_beg/Image_264.jpg'],\n",
       " ['Image_265.jpg', '/content/train_beg/Image_265.jpg'],\n",
       " ['Image_266.jpg', '/content/train_beg/Image_266.jpg'],\n",
       " ['Image_267.jpg', '/content/train_beg/Image_267.jpg'],\n",
       " ['Image_268.jpg', '/content/train_beg/Image_268.jpg'],\n",
       " ['Image_269.jpg', '/content/train_beg/Image_269.jpg'],\n",
       " ['Image_270.jpg', '/content/train_beg/Image_270.jpg'],\n",
       " ['Image_271.jpg', '/content/train_beg/Image_271.jpg'],\n",
       " ['Image_272.jpg', '/content/train_beg/Image_272.jpg'],\n",
       " ['Image_273.jpg', '/content/train_beg/Image_273.jpg'],\n",
       " ['Image_274.jpg', '/content/train_beg/Image_274.jpg'],\n",
       " ['Image_275.jpg', '/content/train_beg/Image_275.jpg'],\n",
       " ['Image_276.jpg', '/content/train_beg/Image_276.jpg'],\n",
       " ['Image_277.jpg', '/content/train_beg/Image_277.jpg'],\n",
       " ['Image_278.jpg', '/content/train_beg/Image_278.jpg'],\n",
       " ['Image_279.jpg', '/content/train_beg/Image_279.jpg'],\n",
       " ['Image_280.jpg', '/content/train_beg/Image_280.jpg'],\n",
       " ['Image_281.jpg', '/content/train_beg/Image_281.jpg'],\n",
       " ['Image_282.jpg', '/content/train_beg/Image_282.jpg'],\n",
       " ['Image_283.jpg', '/content/train_beg/Image_283.jpg'],\n",
       " ['Image_284.jpg', '/content/train_beg/Image_284.jpg'],\n",
       " ['Image_285.jpg', '/content/train_beg/Image_285.jpg'],\n",
       " ['Image_286.jpg', '/content/train_beg/Image_286.jpg'],\n",
       " ['Image_287.jpg', '/content/train_beg/Image_287.jpg'],\n",
       " ['Image_288.jpg', '/content/train_beg/Image_288.jpg'],\n",
       " ['Image_289.jpg', '/content/train_beg/Image_289.jpg'],\n",
       " ['Image_290.jpg', '/content/train_beg/Image_290.jpg'],\n",
       " ['Image_291.jpg', '/content/train_beg/Image_291.jpg'],\n",
       " ['Image_292.jpg', '/content/train_beg/Image_292.jpg'],\n",
       " ['Image_293.jpg', '/content/train_beg/Image_293.jpg'],\n",
       " ['Image_294.jpg', '/content/train_beg/Image_294.jpg'],\n",
       " ['Image_295.jpg', '/content/train_beg/Image_295.jpg'],\n",
       " ['Image_296.jpg', '/content/train_beg/Image_296.jpg'],\n",
       " ['Image_297.jpg', '/content/train_beg/Image_297.jpg'],\n",
       " ['Image_298.jpg', '/content/train_beg/Image_298.jpg'],\n",
       " ['Image_299.jpg', '/content/train_beg/Image_299.jpg'],\n",
       " ['Image_300.jpg', '/content/train_beg/Image_300.jpg'],\n",
       " ['Image_301.jpg', '/content/train_beg/Image_301.jpg'],\n",
       " ['Image_302.jpg', '/content/train_beg/Image_302.jpg'],\n",
       " ['Image_303.jpg', '/content/train_beg/Image_303.jpg'],\n",
       " ['Image_304.jpg', '/content/train_beg/Image_304.jpg'],\n",
       " ['Image_305.jpg', '/content/train_beg/Image_305.jpg'],\n",
       " ['Image_306.jpg', '/content/train_beg/Image_306.jpg'],\n",
       " ['Image_307.jpg', '/content/train_beg/Image_307.jpg'],\n",
       " ['Image_308.jpg', '/content/train_beg/Image_308.jpg'],\n",
       " ['Image_309.jpg', '/content/train_beg/Image_309.jpg'],\n",
       " ['Image_310.jpg', '/content/train_beg/Image_310.jpg'],\n",
       " ['Image_311.jpg', '/content/train_beg/Image_311.jpg'],\n",
       " ['Image_312.jpg', '/content/train_beg/Image_312.jpg'],\n",
       " ['Image_313.jpg', '/content/train_beg/Image_313.jpg'],\n",
       " ['Image_314.jpg', '/content/train_beg/Image_314.jpg'],\n",
       " ['Image_315.jpg', '/content/train_beg/Image_315.jpg'],\n",
       " ['Image_316.jpg', '/content/train_beg/Image_316.jpg'],\n",
       " ['Image_317.jpg', '/content/train_beg/Image_317.jpg'],\n",
       " ['Image_318.jpg', '/content/train_beg/Image_318.jpg'],\n",
       " ['Image_319.jpg', '/content/train_beg/Image_319.jpg'],\n",
       " ['Image_320.jpg', '/content/train_beg/Image_320.jpg'],\n",
       " ['Image_321.jpg', '/content/train_beg/Image_321.jpg'],\n",
       " ['Image_322.jpg', '/content/train_beg/Image_322.jpg'],\n",
       " ['Image_323.jpg', '/content/train_beg/Image_323.jpg'],\n",
       " ['Image_324.jpg', '/content/train_beg/Image_324.jpg'],\n",
       " ['Image_325.jpg', '/content/train_beg/Image_325.jpg'],\n",
       " ['Image_326.jpg', '/content/train_beg/Image_326.jpg'],\n",
       " ['Image_327.jpg', '/content/train_beg/Image_327.jpg'],\n",
       " ['Image_328.jpg', '/content/train_beg/Image_328.jpg'],\n",
       " ['Image_329.jpg', '/content/train_beg/Image_329.jpg'],\n",
       " ['Image_330.jpg', '/content/train_beg/Image_330.jpg'],\n",
       " ['Image_331.jpg', '/content/train_beg/Image_331.jpg'],\n",
       " ['Image_332.jpg', '/content/train_beg/Image_332.jpg'],\n",
       " ['Image_333.jpg', '/content/train_beg/Image_333.jpg'],\n",
       " ['Image_334.jpg', '/content/train_beg/Image_334.jpg'],\n",
       " ['Image_335.jpg', '/content/train_beg/Image_335.jpg'],\n",
       " ['Image_336.jpg', '/content/train_beg/Image_336.jpg'],\n",
       " ['Image_337.jpg', '/content/train_beg/Image_337.jpg'],\n",
       " ['Image_338.jpg', '/content/train_beg/Image_338.jpg'],\n",
       " ['Image_339.jpg', '/content/train_beg/Image_339.jpg'],\n",
       " ['Image_340.jpg', '/content/train_beg/Image_340.jpg'],\n",
       " ['Image_341.jpg', '/content/train_beg/Image_341.jpg'],\n",
       " ['Image_342.jpg', '/content/train_beg/Image_342.jpg'],\n",
       " ['Image_343.jpg', '/content/train_beg/Image_343.jpg'],\n",
       " ['Image_344.jpg', '/content/train_beg/Image_344.jpg'],\n",
       " ['Image_345.jpg', '/content/train_beg/Image_345.jpg'],\n",
       " ['Image_346.jpg', '/content/train_beg/Image_346.jpg'],\n",
       " ['Image_347.jpg', '/content/train_beg/Image_347.jpg'],\n",
       " ['Image_348.jpg', '/content/train_beg/Image_348.jpg'],\n",
       " ['Image_349.jpg', '/content/train_beg/Image_349.jpg'],\n",
       " ['Image_350.jpg', '/content/train_beg/Image_350.jpg'],\n",
       " ['Image_351.jpg', '/content/train_beg/Image_351.jpg'],\n",
       " ['Image_352.jpg', '/content/train_beg/Image_352.jpg'],\n",
       " ['Image_353.jpg', '/content/train_beg/Image_353.jpg'],\n",
       " ['Image_354.jpg', '/content/train_beg/Image_354.jpg'],\n",
       " ['Image_355.jpg', '/content/train_beg/Image_355.jpg'],\n",
       " ['Image_356.jpg', '/content/train_beg/Image_356.jpg'],\n",
       " ['Image_357.jpg', '/content/train_beg/Image_357.jpg'],\n",
       " ['Image_358.jpg', '/content/train_beg/Image_358.jpg'],\n",
       " ['Image_359.jpg', '/content/train_beg/Image_359.jpg'],\n",
       " ['Image_360.jpg', '/content/train_beg/Image_360.jpg'],\n",
       " ['Image_361.jpg', '/content/train_beg/Image_361.jpg'],\n",
       " ['Image_362.jpg', '/content/train_beg/Image_362.jpg'],\n",
       " ['Image_363.jpg', '/content/train_beg/Image_363.jpg'],\n",
       " ['Image_364.jpg', '/content/train_beg/Image_364.jpg'],\n",
       " ['Image_365.jpg', '/content/train_beg/Image_365.jpg'],\n",
       " ['Image_366.jpg', '/content/train_beg/Image_366.jpg'],\n",
       " ['Image_367.jpg', '/content/train_beg/Image_367.jpg'],\n",
       " ['Image_368.jpg', '/content/train_beg/Image_368.jpg'],\n",
       " ['Image_369.jpg', '/content/train_beg/Image_369.jpg'],\n",
       " ['Image_370.jpg', '/content/train_beg/Image_370.jpg'],\n",
       " ['Image_371.jpg', '/content/train_beg/Image_371.jpg'],\n",
       " ['Image_372.jpg', '/content/train_beg/Image_372.jpg'],\n",
       " ['Image_373.jpg', '/content/train_beg/Image_373.jpg'],\n",
       " ['Image_374.jpg', '/content/train_beg/Image_374.jpg'],\n",
       " ['Image_375.jpg', '/content/train_beg/Image_375.jpg'],\n",
       " ['Image_376.jpg', '/content/train_beg/Image_376.jpg'],\n",
       " ['Image_377.jpg', '/content/train_beg/Image_377.jpg'],\n",
       " ['Image_378.jpg', '/content/train_beg/Image_378.jpg'],\n",
       " ['Image_379.jpg', '/content/train_beg/Image_379.jpg'],\n",
       " ['Image_380.jpg', '/content/train_beg/Image_380.jpg'],\n",
       " ['Image_381.jpg', '/content/train_beg/Image_381.jpg'],\n",
       " ['Image_382.jpg', '/content/train_beg/Image_382.jpg'],\n",
       " ['Image_383.jpg', '/content/train_beg/Image_383.jpg'],\n",
       " ['Image_384.jpg', '/content/train_beg/Image_384.jpg'],\n",
       " ['Image_385.jpg', '/content/train_beg/Image_385.jpg'],\n",
       " ['Image_386.jpg', '/content/train_beg/Image_386.jpg'],\n",
       " ['Image_387.jpg', '/content/train_beg/Image_387.jpg'],\n",
       " ['Image_388.jpg', '/content/train_beg/Image_388.jpg'],\n",
       " ['Image_389.jpg', '/content/train_beg/Image_389.jpg'],\n",
       " ['Image_390.jpg', '/content/train_beg/Image_390.jpg'],\n",
       " ['Image_391.jpg', '/content/train_beg/Image_391.jpg'],\n",
       " ['Image_392.jpg', '/content/train_beg/Image_392.jpg'],\n",
       " ['Image_393.jpg', '/content/train_beg/Image_393.jpg'],\n",
       " ['Image_394.jpg', '/content/train_beg/Image_394.jpg'],\n",
       " ['Image_395.jpg', '/content/train_beg/Image_395.jpg'],\n",
       " ['Image_396.jpg', '/content/train_beg/Image_396.jpg'],\n",
       " ['Image_397.jpg', '/content/train_beg/Image_397.jpg'],\n",
       " ['Image_398.jpg', '/content/train_beg/Image_398.jpg'],\n",
       " ['Image_399.jpg', '/content/train_beg/Image_399.jpg'],\n",
       " ['Image_400.jpg', '/content/train_beg/Image_400.jpg'],\n",
       " ['Image_401.jpg', '/content/train_beg/Image_401.jpg'],\n",
       " ['Image_402.jpg', '/content/train_beg/Image_402.jpg'],\n",
       " ['Image_403.jpg', '/content/train_beg/Image_403.jpg'],\n",
       " ['Image_404.jpg', '/content/train_beg/Image_404.jpg'],\n",
       " ['Image_405.jpg', '/content/train_beg/Image_405.jpg'],\n",
       " ['Image_406.jpg', '/content/train_beg/Image_406.jpg'],\n",
       " ['Image_407.jpg', '/content/train_beg/Image_407.jpg'],\n",
       " ['Image_408.jpg', '/content/train_beg/Image_408.jpg'],\n",
       " ['Image_409.jpg', '/content/train_beg/Image_409.jpg'],\n",
       " ['Image_410.jpg', '/content/train_beg/Image_410.jpg'],\n",
       " ['Image_411.jpg', '/content/train_beg/Image_411.jpg'],\n",
       " ['Image_412.jpg', '/content/train_beg/Image_412.jpg'],\n",
       " ['Image_413.jpg', '/content/train_beg/Image_413.jpg'],\n",
       " ['Image_414.jpg', '/content/train_beg/Image_414.jpg'],\n",
       " ['Image_415.jpg', '/content/train_beg/Image_415.jpg'],\n",
       " ['Image_416.jpg', '/content/train_beg/Image_416.jpg'],\n",
       " ['Image_417.jpg', '/content/train_beg/Image_417.jpg'],\n",
       " ['Image_418.jpg', '/content/train_beg/Image_418.jpg'],\n",
       " ['Image_419.jpg', '/content/train_beg/Image_419.jpg'],\n",
       " ['Image_420.jpg', '/content/train_beg/Image_420.jpg'],\n",
       " ['Image_421.jpg', '/content/train_beg/Image_421.jpg'],\n",
       " ['Image_422.jpg', '/content/train_beg/Image_422.jpg'],\n",
       " ['Image_423.jpg', '/content/train_beg/Image_423.jpg'],\n",
       " ['Image_424.jpg', '/content/train_beg/Image_424.jpg'],\n",
       " ['Image_425.jpg', '/content/train_beg/Image_425.jpg'],\n",
       " ['Image_426.jpg', '/content/train_beg/Image_426.jpg'],\n",
       " ['Image_427.jpg', '/content/train_beg/Image_427.jpg'],\n",
       " ['Image_428.jpg', '/content/train_beg/Image_428.jpg'],\n",
       " ['Image_429.jpg', '/content/train_beg/Image_429.jpg'],\n",
       " ['Image_430.jpg', '/content/train_beg/Image_430.jpg'],\n",
       " ['Image_431.jpg', '/content/train_beg/Image_431.jpg'],\n",
       " ['Image_432.jpg', '/content/train_beg/Image_432.jpg'],\n",
       " ['Image_433.jpg', '/content/train_beg/Image_433.jpg'],\n",
       " ['Image_434.jpg', '/content/train_beg/Image_434.jpg'],\n",
       " ['Image_435.jpg', '/content/train_beg/Image_435.jpg'],\n",
       " ['Image_436.jpg', '/content/train_beg/Image_436.jpg'],\n",
       " ['Image_437.jpg', '/content/train_beg/Image_437.jpg'],\n",
       " ['Image_438.jpg', '/content/train_beg/Image_438.jpg'],\n",
       " ['Image_439.jpg', '/content/train_beg/Image_439.jpg'],\n",
       " ['Image_440.jpg', '/content/train_beg/Image_440.jpg'],\n",
       " ['Image_441.jpg', '/content/train_beg/Image_441.jpg'],\n",
       " ['Image_442.jpg', '/content/train_beg/Image_442.jpg'],\n",
       " ['Image_443.jpg', '/content/train_beg/Image_443.jpg'],\n",
       " ['Image_444.jpg', '/content/train_beg/Image_444.jpg'],\n",
       " ['Image_445.jpg', '/content/train_beg/Image_445.jpg'],\n",
       " ['Image_446.jpg', '/content/train_beg/Image_446.jpg'],\n",
       " ['Image_447.jpg', '/content/train_beg/Image_447.jpg'],\n",
       " ['Image_448.jpg', '/content/train_beg/Image_448.jpg'],\n",
       " ['Image_449.jpg', '/content/train_beg/Image_449.jpg'],\n",
       " ['Image_450.jpg', '/content/train_beg/Image_450.jpg'],\n",
       " ['Image_451.jpg', '/content/train_beg/Image_451.jpg'],\n",
       " ['Image_452.jpg', '/content/train_beg/Image_452.jpg'],\n",
       " ['Image_453.jpg', '/content/train_beg/Image_453.jpg'],\n",
       " ['Image_454.jpg', '/content/train_beg/Image_454.jpg'],\n",
       " ['Image_455.jpg', '/content/train_beg/Image_455.jpg'],\n",
       " ['Image_456.jpg', '/content/train_beg/Image_456.jpg'],\n",
       " ['Image_457.jpg', '/content/train_beg/Image_457.jpg'],\n",
       " ['Image_458.jpg', '/content/train_beg/Image_458.jpg'],\n",
       " ['Image_459.jpg', '/content/train_beg/Image_459.jpg'],\n",
       " ['Image_460.jpg', '/content/train_beg/Image_460.jpg'],\n",
       " ['Image_461.jpg', '/content/train_beg/Image_461.jpg'],\n",
       " ['Image_462.jpg', '/content/train_beg/Image_462.jpg'],\n",
       " ['Image_463.jpg', '/content/train_beg/Image_463.jpg'],\n",
       " ['Image_464.jpg', '/content/train_beg/Image_464.jpg'],\n",
       " ['Image_465.jpg', '/content/train_beg/Image_465.jpg'],\n",
       " ['Image_466.jpg', '/content/train_beg/Image_466.jpg'],\n",
       " ['Image_467.jpg', '/content/train_beg/Image_467.jpg'],\n",
       " ['Image_468.jpg', '/content/train_beg/Image_468.jpg'],\n",
       " ['Image_469.jpg', '/content/train_beg/Image_469.jpg'],\n",
       " ['Image_470.jpg', '/content/train_beg/Image_470.jpg'],\n",
       " ['Image_471.jpg', '/content/train_beg/Image_471.jpg'],\n",
       " ['Image_472.jpg', '/content/train_beg/Image_472.jpg'],\n",
       " ['Image_473.jpg', '/content/train_beg/Image_473.jpg'],\n",
       " ['Image_474.jpg', '/content/train_beg/Image_474.jpg'],\n",
       " ['Image_475.jpg', '/content/train_beg/Image_475.jpg'],\n",
       " ['Image_476.jpg', '/content/train_beg/Image_476.jpg'],\n",
       " ['Image_477.jpg', '/content/train_beg/Image_477.jpg'],\n",
       " ['Image_478.jpg', '/content/train_beg/Image_478.jpg'],\n",
       " ['Image_479.jpg', '/content/train_beg/Image_479.jpg'],\n",
       " ['Image_480.jpg', '/content/train_beg/Image_480.jpg'],\n",
       " ['Image_481.jpg', '/content/train_beg/Image_481.jpg'],\n",
       " ['Image_482.jpg', '/content/train_beg/Image_482.jpg'],\n",
       " ['Image_483.jpg', '/content/train_beg/Image_483.jpg'],\n",
       " ['Image_484.jpg', '/content/train_beg/Image_484.jpg'],\n",
       " ['Image_485.jpg', '/content/train_beg/Image_485.jpg'],\n",
       " ['Image_486.jpg', '/content/train_beg/Image_486.jpg'],\n",
       " ['Image_487.jpg', '/content/train_beg/Image_487.jpg'],\n",
       " ['Image_488.jpg', '/content/train_beg/Image_488.jpg'],\n",
       " ['Image_489.jpg', '/content/train_beg/Image_489.jpg'],\n",
       " ['Image_490.jpg', '/content/train_beg/Image_490.jpg'],\n",
       " ['Image_491.jpg', '/content/train_beg/Image_491.jpg'],\n",
       " ['Image_492.jpg', '/content/train_beg/Image_492.jpg'],\n",
       " ['Image_493.jpg', '/content/train_beg/Image_493.jpg'],\n",
       " ['Image_494.jpg', '/content/train_beg/Image_494.jpg'],\n",
       " ['Image_495.jpg', '/content/train_beg/Image_495.jpg'],\n",
       " ['Image_496.jpg', '/content/train_beg/Image_496.jpg'],\n",
       " ['Image_497.jpg', '/content/train_beg/Image_497.jpg'],\n",
       " ['Image_498.jpg', '/content/train_beg/Image_498.jpg'],\n",
       " ['Image_499.jpg', '/content/train_beg/Image_499.jpg'],\n",
       " ['Image_500.jpg', '/content/train_beg/Image_500.jpg'],\n",
       " ['Image_501.jpg', '/content/train_beg/Image_501.jpg'],\n",
       " ['Image_502.jpg', '/content/train_beg/Image_502.jpg'],\n",
       " ['Image_503.jpg', '/content/train_beg/Image_503.jpg'],\n",
       " ['Image_504.jpg', '/content/train_beg/Image_504.jpg'],\n",
       " ['Image_505.jpg', '/content/train_beg/Image_505.jpg'],\n",
       " ['Image_506.jpg', '/content/train_beg/Image_506.jpg'],\n",
       " ['Image_507.jpg', '/content/train_beg/Image_507.jpg'],\n",
       " ['Image_508.jpg', '/content/train_beg/Image_508.jpg'],\n",
       " ['Image_509.jpg', '/content/train_beg/Image_509.jpg'],\n",
       " ['Image_510.jpg', '/content/train_beg/Image_510.jpg'],\n",
       " ['Image_511.jpg', '/content/train_beg/Image_511.jpg'],\n",
       " ['Image_512.jpg', '/content/train_beg/Image_512.jpg'],\n",
       " ['Image_513.jpg', '/content/train_beg/Image_513.jpg'],\n",
       " ['Image_514.jpg', '/content/train_beg/Image_514.jpg'],\n",
       " ['Image_515.jpg', '/content/train_beg/Image_515.jpg'],\n",
       " ['Image_516.jpg', '/content/train_beg/Image_516.jpg'],\n",
       " ['Image_517.jpg', '/content/train_beg/Image_517.jpg'],\n",
       " ['Image_518.jpg', '/content/train_beg/Image_518.jpg'],\n",
       " ['Image_519.jpg', '/content/train_beg/Image_519.jpg'],\n",
       " ['Image_520.jpg', '/content/train_beg/Image_520.jpg'],\n",
       " ['Image_521.jpg', '/content/train_beg/Image_521.jpg'],\n",
       " ['Image_522.jpg', '/content/train_beg/Image_522.jpg'],\n",
       " ['Image_523.jpg', '/content/train_beg/Image_523.jpg'],\n",
       " ['Image_524.jpg', '/content/train_beg/Image_524.jpg'],\n",
       " ['Image_525.jpg', '/content/train_beg/Image_525.jpg'],\n",
       " ['Image_526.jpg', '/content/train_beg/Image_526.jpg'],\n",
       " ['Image_527.jpg', '/content/train_beg/Image_527.jpg'],\n",
       " ['Image_528.jpg', '/content/train_beg/Image_528.jpg'],\n",
       " ['Image_529.jpg', '/content/train_beg/Image_529.jpg'],\n",
       " ['Image_530.jpg', '/content/train_beg/Image_530.jpg'],\n",
       " ['Image_531.jpg', '/content/train_beg/Image_531.jpg'],\n",
       " ['Image_532.jpg', '/content/train_beg/Image_532.jpg'],\n",
       " ['Image_533.jpg', '/content/train_beg/Image_533.jpg'],\n",
       " ['Image_534.jpg', '/content/train_beg/Image_534.jpg'],\n",
       " ['Image_535.jpg', '/content/train_beg/Image_535.jpg'],\n",
       " ['Image_536.jpg', '/content/train_beg/Image_536.jpg'],\n",
       " ['Image_537.jpg', '/content/train_beg/Image_537.jpg'],\n",
       " ['Image_538.jpg', '/content/train_beg/Image_538.jpg'],\n",
       " ['Image_539.jpg', '/content/train_beg/Image_539.jpg'],\n",
       " ['Image_540.jpg', '/content/train_beg/Image_540.jpg'],\n",
       " ['Image_541.jpg', '/content/train_beg/Image_541.jpg'],\n",
       " ['Image_542.jpg', '/content/train_beg/Image_542.jpg'],\n",
       " ['Image_543.jpg', '/content/train_beg/Image_543.jpg'],\n",
       " ['Image_544.jpg', '/content/train_beg/Image_544.jpg'],\n",
       " ['Image_545.jpg', '/content/train_beg/Image_545.jpg'],\n",
       " ['Image_546.jpg', '/content/train_beg/Image_546.jpg'],\n",
       " ['Image_547.jpg', '/content/train_beg/Image_547.jpg'],\n",
       " ['Image_548.jpg', '/content/train_beg/Image_548.jpg'],\n",
       " ['Image_549.jpg', '/content/train_beg/Image_549.jpg'],\n",
       " ['Image_550.jpg', '/content/train_beg/Image_550.jpg'],\n",
       " ['Image_551.jpg', '/content/train_beg/Image_551.jpg'],\n",
       " ['Image_552.jpg', '/content/train_beg/Image_552.jpg'],\n",
       " ['Image_553.jpg', '/content/train_beg/Image_553.jpg'],\n",
       " ['Image_554.jpg', '/content/train_beg/Image_554.jpg'],\n",
       " ['Image_555.jpg', '/content/train_beg/Image_555.jpg'],\n",
       " ['Image_556.jpg', '/content/train_beg/Image_556.jpg'],\n",
       " ['Image_557.jpg', '/content/train_beg/Image_557.jpg'],\n",
       " ['Image_558.jpg', '/content/train_beg/Image_558.jpg'],\n",
       " ['Image_559.jpg', '/content/train_beg/Image_559.jpg'],\n",
       " ['Image_560.jpg', '/content/train_beg/Image_560.jpg'],\n",
       " ['Image_561.jpg', '/content/train_beg/Image_561.jpg'],\n",
       " ['Image_562.jpg', '/content/train_beg/Image_562.jpg'],\n",
       " ['Image_563.jpg', '/content/train_beg/Image_563.jpg'],\n",
       " ['Image_564.jpg', '/content/train_beg/Image_564.jpg'],\n",
       " ['Image_565.jpg', '/content/train_beg/Image_565.jpg'],\n",
       " ['Image_566.jpg', '/content/train_beg/Image_566.jpg'],\n",
       " ['Image_567.jpg', '/content/train_beg/Image_567.jpg'],\n",
       " ['Image_568.jpg', '/content/train_beg/Image_568.jpg'],\n",
       " ['Image_569.jpg', '/content/train_beg/Image_569.jpg'],\n",
       " ['Image_570.jpg', '/content/train_beg/Image_570.jpg'],\n",
       " ['Image_571.jpg', '/content/train_beg/Image_571.jpg'],\n",
       " ['Image_572.jpg', '/content/train_beg/Image_572.jpg'],\n",
       " ['Image_573.jpg', '/content/train_beg/Image_573.jpg'],\n",
       " ['Image_574.jpg', '/content/train_beg/Image_574.jpg'],\n",
       " ['Image_575.jpg', '/content/train_beg/Image_575.jpg'],\n",
       " ['Image_576.jpg', '/content/train_beg/Image_576.jpg'],\n",
       " ['Image_577.jpg', '/content/train_beg/Image_577.jpg'],\n",
       " ['Image_578.jpg', '/content/train_beg/Image_578.jpg'],\n",
       " ['Image_579.jpg', '/content/train_beg/Image_579.jpg'],\n",
       " ['Image_580.jpg', '/content/train_beg/Image_580.jpg'],\n",
       " ['Image_581.jpg', '/content/train_beg/Image_581.jpg'],\n",
       " ['Image_582.jpg', '/content/train_beg/Image_582.jpg'],\n",
       " ['Image_583.jpg', '/content/train_beg/Image_583.jpg'],\n",
       " ['Image_584.jpg', '/content/train_beg/Image_584.jpg'],\n",
       " ['Image_585.jpg', '/content/train_beg/Image_585.jpg'],\n",
       " ['Image_586.jpg', '/content/train_beg/Image_586.jpg'],\n",
       " ['Image_587.jpg', '/content/train_beg/Image_587.jpg'],\n",
       " ['Image_588.jpg', '/content/train_beg/Image_588.jpg'],\n",
       " ['Image_589.jpg', '/content/train_beg/Image_589.jpg'],\n",
       " ['Image_590.jpg', '/content/train_beg/Image_590.jpg'],\n",
       " ['Image_591.jpg', '/content/train_beg/Image_591.jpg'],\n",
       " ['Image_592.jpg', '/content/train_beg/Image_592.jpg'],\n",
       " ['Image_593.jpg', '/content/train_beg/Image_593.jpg'],\n",
       " ['Image_594.jpg', '/content/train_beg/Image_594.jpg'],\n",
       " ['Image_595.jpg', '/content/train_beg/Image_595.jpg'],\n",
       " ['Image_596.jpg', '/content/train_beg/Image_596.jpg'],\n",
       " ['Image_597.jpg', '/content/train_beg/Image_597.jpg'],\n",
       " ['Image_598.jpg', '/content/train_beg/Image_598.jpg'],\n",
       " ['Image_599.jpg', '/content/train_beg/Image_599.jpg'],\n",
       " ['Image_600.jpg', '/content/train_beg/Image_600.jpg'],\n",
       " ['Image_601.jpg', '/content/train_beg/Image_601.jpg'],\n",
       " ['Image_602.jpg', '/content/train_beg/Image_602.jpg'],\n",
       " ['Image_603.jpg', '/content/train_beg/Image_603.jpg'],\n",
       " ['Image_604.jpg', '/content/train_beg/Image_604.jpg'],\n",
       " ['Image_605.jpg', '/content/train_beg/Image_605.jpg'],\n",
       " ['Image_606.jpg', '/content/train_beg/Image_606.jpg'],\n",
       " ['Image_607.jpg', '/content/train_beg/Image_607.jpg'],\n",
       " ['Image_608.jpg', '/content/train_beg/Image_608.jpg'],\n",
       " ['Image_609.jpg', '/content/train_beg/Image_609.jpg'],\n",
       " ['Image_610.jpg', '/content/train_beg/Image_610.jpg'],\n",
       " ['Image_611.jpg', '/content/train_beg/Image_611.jpg'],\n",
       " ['Image_612.jpg', '/content/train_beg/Image_612.jpg'],\n",
       " ['Image_613.jpg', '/content/train_beg/Image_613.jpg'],\n",
       " ['Image_614.jpg', '/content/train_beg/Image_614.jpg'],\n",
       " ['Image_615.jpg', '/content/train_beg/Image_615.jpg'],\n",
       " ['Image_616.jpg', '/content/train_beg/Image_616.jpg'],\n",
       " ['Image_617.jpg', '/content/train_beg/Image_617.jpg'],\n",
       " ['Image_618.jpg', '/content/train_beg/Image_618.jpg'],\n",
       " ['Image_619.jpg', '/content/train_beg/Image_619.jpg'],\n",
       " ['Image_620.jpg', '/content/train_beg/Image_620.jpg'],\n",
       " ['Image_621.jpg', '/content/train_beg/Image_621.jpg'],\n",
       " ['Image_622.jpg', '/content/train_beg/Image_622.jpg'],\n",
       " ['Image_623.jpg', '/content/train_beg/Image_623.jpg'],\n",
       " ['Image_624.jpg', '/content/train_beg/Image_624.jpg'],\n",
       " ['Image_625.jpg', '/content/train_beg/Image_625.jpg'],\n",
       " ['Image_626.jpg', '/content/train_beg/Image_626.jpg'],\n",
       " ['Image_627.jpg', '/content/train_beg/Image_627.jpg'],\n",
       " ['Image_628.jpg', '/content/train_beg/Image_628.jpg'],\n",
       " ['Image_629.jpg', '/content/train_beg/Image_629.jpg'],\n",
       " ['Image_630.jpg', '/content/train_beg/Image_630.jpg'],\n",
       " ['Image_631.jpg', '/content/train_beg/Image_631.jpg'],\n",
       " ['Image_632.jpg', '/content/train_beg/Image_632.jpg'],\n",
       " ['Image_633.jpg', '/content/train_beg/Image_633.jpg'],\n",
       " ['Image_634.jpg', '/content/train_beg/Image_634.jpg'],\n",
       " ['Image_635.jpg', '/content/train_beg/Image_635.jpg'],\n",
       " ['Image_636.jpg', '/content/train_beg/Image_636.jpg'],\n",
       " ['Image_637.jpg', '/content/train_beg/Image_637.jpg'],\n",
       " ['Image_638.jpg', '/content/train_beg/Image_638.jpg'],\n",
       " ['Image_639.jpg', '/content/train_beg/Image_639.jpg'],\n",
       " ['Image_640.jpg', '/content/train_beg/Image_640.jpg'],\n",
       " ['Image_641.jpg', '/content/train_beg/Image_641.jpg'],\n",
       " ['Image_642.jpg', '/content/train_beg/Image_642.jpg'],\n",
       " ['Image_643.jpg', '/content/train_beg/Image_643.jpg'],\n",
       " ['Image_644.jpg', '/content/train_beg/Image_644.jpg'],\n",
       " ['Image_645.jpg', '/content/train_beg/Image_645.jpg'],\n",
       " ['Image_646.jpg', '/content/train_beg/Image_646.jpg'],\n",
       " ['Image_647.jpg', '/content/train_beg/Image_647.jpg'],\n",
       " ['Image_648.jpg', '/content/train_beg/Image_648.jpg'],\n",
       " ['Image_649.jpg', '/content/train_beg/Image_649.jpg'],\n",
       " ['Image_650.jpg', '/content/train_beg/Image_650.jpg'],\n",
       " ['Image_651.jpg', '/content/train_beg/Image_651.jpg'],\n",
       " ['Image_652.jpg', '/content/train_beg/Image_652.jpg'],\n",
       " ['Image_653.jpg', '/content/train_beg/Image_653.jpg'],\n",
       " ['Image_654.jpg', '/content/train_beg/Image_654.jpg'],\n",
       " ['Image_655.jpg', '/content/train_beg/Image_655.jpg'],\n",
       " ['Image_656.jpg', '/content/train_beg/Image_656.jpg'],\n",
       " ['Image_657.jpg', '/content/train_beg/Image_657.jpg'],\n",
       " ['Image_658.jpg', '/content/train_beg/Image_658.jpg'],\n",
       " ['Image_659.jpg', '/content/train_beg/Image_659.jpg'],\n",
       " ['Image_660.jpg', '/content/train_beg/Image_660.jpg'],\n",
       " ['Image_661.jpg', '/content/train_beg/Image_661.jpg'],\n",
       " ['Image_662.jpg', '/content/train_beg/Image_662.jpg'],\n",
       " ['Image_663.jpg', '/content/train_beg/Image_663.jpg'],\n",
       " ['Image_664.jpg', '/content/train_beg/Image_664.jpg'],\n",
       " ['Image_665.jpg', '/content/train_beg/Image_665.jpg'],\n",
       " ['Image_666.jpg', '/content/train_beg/Image_666.jpg'],\n",
       " ['Image_667.jpg', '/content/train_beg/Image_667.jpg'],\n",
       " ['Image_668.jpg', '/content/train_beg/Image_668.jpg'],\n",
       " ['Image_669.jpg', '/content/train_beg/Image_669.jpg'],\n",
       " ['Image_670.jpg', '/content/train_beg/Image_670.jpg'],\n",
       " ['Image_671.jpg', '/content/train_beg/Image_671.jpg'],\n",
       " ['Image_672.jpg', '/content/train_beg/Image_672.jpg'],\n",
       " ['Image_673.jpg', '/content/train_beg/Image_673.jpg'],\n",
       " ['Image_674.jpg', '/content/train_beg/Image_674.jpg'],\n",
       " ['Image_675.jpg', '/content/train_beg/Image_675.jpg'],\n",
       " ['Image_676.jpg', '/content/train_beg/Image_676.jpg'],\n",
       " ['Image_677.jpg', '/content/train_beg/Image_677.jpg'],\n",
       " ['Image_678.jpg', '/content/train_beg/Image_678.jpg'],\n",
       " ['Image_679.jpg', '/content/train_beg/Image_679.jpg'],\n",
       " ['Image_680.jpg', '/content/train_beg/Image_680.jpg'],\n",
       " ['Image_681.jpg', '/content/train_beg/Image_681.jpg'],\n",
       " ['Image_682.jpg', '/content/train_beg/Image_682.jpg'],\n",
       " ['Image_683.jpg', '/content/train_beg/Image_683.jpg'],\n",
       " ['Image_684.jpg', '/content/train_beg/Image_684.jpg'],\n",
       " ['Image_685.jpg', '/content/train_beg/Image_685.jpg'],\n",
       " ['Image_686.jpg', '/content/train_beg/Image_686.jpg'],\n",
       " ['Image_687.jpg', '/content/train_beg/Image_687.jpg'],\n",
       " ['Image_688.jpg', '/content/train_beg/Image_688.jpg'],\n",
       " ['Image_689.jpg', '/content/train_beg/Image_689.jpg'],\n",
       " ['Image_690.jpg', '/content/train_beg/Image_690.jpg'],\n",
       " ['Image_691.jpg', '/content/train_beg/Image_691.jpg'],\n",
       " ['Image_692.jpg', '/content/train_beg/Image_692.jpg'],\n",
       " ['Image_693.jpg', '/content/train_beg/Image_693.jpg'],\n",
       " ['Image_694.jpg', '/content/train_beg/Image_694.jpg'],\n",
       " ['Image_695.jpg', '/content/train_beg/Image_695.jpg'],\n",
       " ['Image_696.jpg', '/content/train_beg/Image_696.jpg'],\n",
       " ['Image_697.jpg', '/content/train_beg/Image_697.jpg'],\n",
       " ['Image_698.jpg', '/content/train_beg/Image_698.jpg'],\n",
       " ['Image_699.jpg', '/content/train_beg/Image_699.jpg'],\n",
       " ['Image_700.jpg', '/content/train_beg/Image_700.jpg'],\n",
       " ['Image_701.jpg', '/content/train_beg/Image_701.jpg'],\n",
       " ['Image_702.jpg', '/content/train_beg/Image_702.jpg'],\n",
       " ['Image_703.jpg', '/content/train_beg/Image_703.jpg'],\n",
       " ['Image_704.jpg', '/content/train_beg/Image_704.jpg'],\n",
       " ['Image_705.jpg', '/content/train_beg/Image_705.jpg'],\n",
       " ['Image_706.jpg', '/content/train_beg/Image_706.jpg'],\n",
       " ['Image_707.jpg', '/content/train_beg/Image_707.jpg'],\n",
       " ['Image_708.jpg', '/content/train_beg/Image_708.jpg'],\n",
       " ['Image_709.jpg', '/content/train_beg/Image_709.jpg'],\n",
       " ['Image_710.jpg', '/content/train_beg/Image_710.jpg'],\n",
       " ['Image_711.jpg', '/content/train_beg/Image_711.jpg'],\n",
       " ['Image_712.jpg', '/content/train_beg/Image_712.jpg'],\n",
       " ['Image_713.jpg', '/content/train_beg/Image_713.jpg'],\n",
       " ['Image_714.jpg', '/content/train_beg/Image_714.jpg'],\n",
       " ['Image_715.jpg', '/content/train_beg/Image_715.jpg'],\n",
       " ['Image_716.jpg', '/content/train_beg/Image_716.jpg'],\n",
       " ['Image_717.jpg', '/content/train_beg/Image_717.jpg'],\n",
       " ['Image_718.jpg', '/content/train_beg/Image_718.jpg'],\n",
       " ['Image_719.jpg', '/content/train_beg/Image_719.jpg'],\n",
       " ['Image_720.jpg', '/content/train_beg/Image_720.jpg'],\n",
       " ['Image_721.jpg', '/content/train_beg/Image_721.jpg'],\n",
       " ['Image_722.jpg', '/content/train_beg/Image_722.jpg'],\n",
       " ['Image_723.jpg', '/content/train_beg/Image_723.jpg'],\n",
       " ['Image_724.jpg', '/content/train_beg/Image_724.jpg'],\n",
       " ['Image_725.jpg', '/content/train_beg/Image_725.jpg'],\n",
       " ['Image_726.jpg', '/content/train_beg/Image_726.jpg'],\n",
       " ['Image_727.jpg', '/content/train_beg/Image_727.jpg'],\n",
       " ['Image_728.jpg', '/content/train_beg/Image_728.jpg'],\n",
       " ['Image_729.jpg', '/content/train_beg/Image_729.jpg'],\n",
       " ['Image_730.jpg', '/content/train_beg/Image_730.jpg'],\n",
       " ['Image_731.jpg', '/content/train_beg/Image_731.jpg'],\n",
       " ['Image_732.jpg', '/content/train_beg/Image_732.jpg'],\n",
       " ['Image_733.jpg', '/content/train_beg/Image_733.jpg'],\n",
       " ['Image_734.jpg', '/content/train_beg/Image_734.jpg'],\n",
       " ['Image_735.jpg', '/content/train_beg/Image_735.jpg'],\n",
       " ['Image_736.jpg', '/content/train_beg/Image_736.jpg'],\n",
       " ['Image_737.jpg', '/content/train_beg/Image_737.jpg'],\n",
       " ['Image_738.jpg', '/content/train_beg/Image_738.jpg'],\n",
       " ['Image_739.jpg', '/content/train_beg/Image_739.jpg'],\n",
       " ['Image_740.jpg', '/content/train_beg/Image_740.jpg'],\n",
       " ['Image_741.jpg', '/content/train_beg/Image_741.jpg'],\n",
       " ['Image_742.jpg', '/content/train_beg/Image_742.jpg'],\n",
       " ['Image_743.jpg', '/content/train_beg/Image_743.jpg'],\n",
       " ['Image_744.jpg', '/content/train_beg/Image_744.jpg'],\n",
       " ['Image_745.jpg', '/content/train_beg/Image_745.jpg'],\n",
       " ['Image_746.jpg', '/content/train_beg/Image_746.jpg'],\n",
       " ['Image_747.jpg', '/content/train_beg/Image_747.jpg'],\n",
       " ['Image_748.jpg', '/content/train_beg/Image_748.jpg'],\n",
       " ['Image_749.jpg', '/content/train_beg/Image_749.jpg'],\n",
       " ['Image_750.jpg', '/content/train_beg/Image_750.jpg'],\n",
       " ['Image_751.jpg', '/content/train_beg/Image_751.jpg'],\n",
       " ['Image_752.jpg', '/content/train_beg/Image_752.jpg'],\n",
       " ['Image_753.jpg', '/content/train_beg/Image_753.jpg'],\n",
       " ['Image_754.jpg', '/content/train_beg/Image_754.jpg'],\n",
       " ['Image_755.jpg', '/content/train_beg/Image_755.jpg'],\n",
       " ['Image_756.jpg', '/content/train_beg/Image_756.jpg'],\n",
       " ['Image_757.jpg', '/content/train_beg/Image_757.jpg'],\n",
       " ['Image_758.jpg', '/content/train_beg/Image_758.jpg'],\n",
       " ['Image_759.jpg', '/content/train_beg/Image_759.jpg'],\n",
       " ['Image_760.jpg', '/content/train_beg/Image_760.jpg'],\n",
       " ['Image_761.jpg', '/content/train_beg/Image_761.jpg'],\n",
       " ['Image_762.jpg', '/content/train_beg/Image_762.jpg'],\n",
       " ['Image_763.jpg', '/content/train_beg/Image_763.jpg'],\n",
       " ['Image_764.jpg', '/content/train_beg/Image_764.jpg'],\n",
       " ['Image_765.jpg', '/content/train_beg/Image_765.jpg'],\n",
       " ['Image_766.jpg', '/content/train_beg/Image_766.jpg'],\n",
       " ['Image_767.jpg', '/content/train_beg/Image_767.jpg'],\n",
       " ['Image_768.jpg', '/content/train_beg/Image_768.jpg'],\n",
       " ['Image_769.jpg', '/content/train_beg/Image_769.jpg'],\n",
       " ['Image_770.jpg', '/content/train_beg/Image_770.jpg'],\n",
       " ['Image_771.jpg', '/content/train_beg/Image_771.jpg'],\n",
       " ['Image_772.jpg', '/content/train_beg/Image_772.jpg'],\n",
       " ['Image_773.jpg', '/content/train_beg/Image_773.jpg'],\n",
       " ['Image_774.jpg', '/content/train_beg/Image_774.jpg'],\n",
       " ['Image_775.jpg', '/content/train_beg/Image_775.jpg'],\n",
       " ['Image_776.jpg', '/content/train_beg/Image_776.jpg'],\n",
       " ['Image_777.jpg', '/content/train_beg/Image_777.jpg'],\n",
       " ['Image_778.jpg', '/content/train_beg/Image_778.jpg'],\n",
       " ['Image_779.jpg', '/content/train_beg/Image_779.jpg'],\n",
       " ['Image_780.jpg', '/content/train_beg/Image_780.jpg'],\n",
       " ['Image_781.jpg', '/content/train_beg/Image_781.jpg'],\n",
       " ['Image_782.jpg', '/content/train_beg/Image_782.jpg'],\n",
       " ['Image_783.jpg', '/content/train_beg/Image_783.jpg'],\n",
       " ['Image_784.jpg', '/content/train_beg/Image_784.jpg'],\n",
       " ['Image_785.jpg', '/content/train_beg/Image_785.jpg'],\n",
       " ['Image_786.jpg', '/content/train_beg/Image_786.jpg'],\n",
       " ['Image_787.jpg', '/content/train_beg/Image_787.jpg'],\n",
       " ['Image_788.jpg', '/content/train_beg/Image_788.jpg'],\n",
       " ['Image_789.jpg', '/content/train_beg/Image_789.jpg'],\n",
       " ['Image_790.jpg', '/content/train_beg/Image_790.jpg'],\n",
       " ['Image_791.jpg', '/content/train_beg/Image_791.jpg'],\n",
       " ['Image_792.jpg', '/content/train_beg/Image_792.jpg'],\n",
       " ['Image_793.jpg', '/content/train_beg/Image_793.jpg'],\n",
       " ['Image_794.jpg', '/content/train_beg/Image_794.jpg'],\n",
       " ['Image_795.jpg', '/content/train_beg/Image_795.jpg'],\n",
       " ['Image_796.jpg', '/content/train_beg/Image_796.jpg'],\n",
       " ['Image_797.jpg', '/content/train_beg/Image_797.jpg'],\n",
       " ['Image_798.jpg', '/content/train_beg/Image_798.jpg'],\n",
       " ['Image_799.jpg', '/content/train_beg/Image_799.jpg'],\n",
       " ['Image_800.jpg', '/content/train_beg/Image_800.jpg'],\n",
       " ['Image_801.jpg', '/content/train_beg/Image_801.jpg'],\n",
       " ['Image_802.jpg', '/content/train_beg/Image_802.jpg'],\n",
       " ['Image_803.jpg', '/content/train_beg/Image_803.jpg'],\n",
       " ['Image_804.jpg', '/content/train_beg/Image_804.jpg'],\n",
       " ['Image_805.jpg', '/content/train_beg/Image_805.jpg'],\n",
       " ['Image_806.jpg', '/content/train_beg/Image_806.jpg'],\n",
       " ['Image_807.jpg', '/content/train_beg/Image_807.jpg'],\n",
       " ['Image_808.jpg', '/content/train_beg/Image_808.jpg'],\n",
       " ['Image_809.jpg', '/content/train_beg/Image_809.jpg'],\n",
       " ['Image_810.jpg', '/content/train_beg/Image_810.jpg'],\n",
       " ['Image_811.jpg', '/content/train_beg/Image_811.jpg'],\n",
       " ['Image_812.jpg', '/content/train_beg/Image_812.jpg'],\n",
       " ['Image_813.jpg', '/content/train_beg/Image_813.jpg'],\n",
       " ['Image_814.jpg', '/content/train_beg/Image_814.jpg'],\n",
       " ['Image_815.jpg', '/content/train_beg/Image_815.jpg'],\n",
       " ['Image_816.jpg', '/content/train_beg/Image_816.jpg'],\n",
       " ['Image_817.jpg', '/content/train_beg/Image_817.jpg'],\n",
       " ['Image_818.jpg', '/content/train_beg/Image_818.jpg'],\n",
       " ['Image_819.jpg', '/content/train_beg/Image_819.jpg'],\n",
       " ['Image_820.jpg', '/content/train_beg/Image_820.jpg'],\n",
       " ['Image_821.jpg', '/content/train_beg/Image_821.jpg'],\n",
       " ['Image_822.jpg', '/content/train_beg/Image_822.jpg'],\n",
       " ['Image_823.jpg', '/content/train_beg/Image_823.jpg'],\n",
       " ['Image_824.jpg', '/content/train_beg/Image_824.jpg'],\n",
       " ['Image_825.jpg', '/content/train_beg/Image_825.jpg'],\n",
       " ['Image_826.jpg', '/content/train_beg/Image_826.jpg'],\n",
       " ['Image_827.jpg', '/content/train_beg/Image_827.jpg'],\n",
       " ['Image_828.jpg', '/content/train_beg/Image_828.jpg'],\n",
       " ['Image_829.jpg', '/content/train_beg/Image_829.jpg'],\n",
       " ['Image_830.jpg', '/content/train_beg/Image_830.jpg'],\n",
       " ['Image_831.jpg', '/content/train_beg/Image_831.jpg'],\n",
       " ['Image_832.jpg', '/content/train_beg/Image_832.jpg'],\n",
       " ['Image_833.jpg', '/content/train_beg/Image_833.jpg'],\n",
       " ['Image_834.jpg', '/content/train_beg/Image_834.jpg'],\n",
       " ['Image_835.jpg', '/content/train_beg/Image_835.jpg'],\n",
       " ['Image_836.jpg', '/content/train_beg/Image_836.jpg'],\n",
       " ['Image_837.jpg', '/content/train_beg/Image_837.jpg'],\n",
       " ['Image_838.jpg', '/content/train_beg/Image_838.jpg'],\n",
       " ['Image_839.jpg', '/content/train_beg/Image_839.jpg'],\n",
       " ['Image_840.jpg', '/content/train_beg/Image_840.jpg'],\n",
       " ['Image_841.jpg', '/content/train_beg/Image_841.jpg'],\n",
       " ['Image_842.jpg', '/content/train_beg/Image_842.jpg'],\n",
       " ['Image_843.jpg', '/content/train_beg/Image_843.jpg'],\n",
       " ['Image_844.jpg', '/content/train_beg/Image_844.jpg'],\n",
       " ['Image_845.jpg', '/content/train_beg/Image_845.jpg'],\n",
       " ['Image_846.jpg', '/content/train_beg/Image_846.jpg'],\n",
       " ['Image_847.jpg', '/content/train_beg/Image_847.jpg'],\n",
       " ['Image_848.jpg', '/content/train_beg/Image_848.jpg'],\n",
       " ['Image_849.jpg', '/content/train_beg/Image_849.jpg'],\n",
       " ['Image_850.jpg', '/content/train_beg/Image_850.jpg'],\n",
       " ['Image_851.jpg', '/content/train_beg/Image_851.jpg'],\n",
       " ['Image_852.jpg', '/content/train_beg/Image_852.jpg'],\n",
       " ['Image_853.jpg', '/content/train_beg/Image_853.jpg'],\n",
       " ['Image_854.jpg', '/content/train_beg/Image_854.jpg'],\n",
       " ['Image_855.jpg', '/content/train_beg/Image_855.jpg'],\n",
       " ['Image_856.jpg', '/content/train_beg/Image_856.jpg'],\n",
       " ['Image_857.jpg', '/content/train_beg/Image_857.jpg'],\n",
       " ['Image_858.jpg', '/content/train_beg/Image_858.jpg'],\n",
       " ['Image_859.jpg', '/content/train_beg/Image_859.jpg'],\n",
       " ['Image_860.jpg', '/content/train_beg/Image_860.jpg'],\n",
       " ['Image_861.jpg', '/content/train_beg/Image_861.jpg'],\n",
       " ['Image_862.jpg', '/content/train_beg/Image_862.jpg'],\n",
       " ['Image_863.jpg', '/content/train_beg/Image_863.jpg'],\n",
       " ['Image_864.jpg', '/content/train_beg/Image_864.jpg'],\n",
       " ['Image_865.jpg', '/content/train_beg/Image_865.jpg'],\n",
       " ['Image_866.jpg', '/content/train_beg/Image_866.jpg'],\n",
       " ['Image_867.jpg', '/content/train_beg/Image_867.jpg'],\n",
       " ['Image_868.jpg', '/content/train_beg/Image_868.jpg'],\n",
       " ['Image_869.jpg', '/content/train_beg/Image_869.jpg'],\n",
       " ['Image_870.jpg', '/content/train_beg/Image_870.jpg'],\n",
       " ['Image_871.jpg', '/content/train_beg/Image_871.jpg'],\n",
       " ['Image_872.jpg', '/content/train_beg/Image_872.jpg'],\n",
       " ['Image_873.jpg', '/content/train_beg/Image_873.jpg'],\n",
       " ['Image_874.jpg', '/content/train_beg/Image_874.jpg'],\n",
       " ['Image_875.jpg', '/content/train_beg/Image_875.jpg'],\n",
       " ['Image_876.jpg', '/content/train_beg/Image_876.jpg'],\n",
       " ['Image_877.jpg', '/content/train_beg/Image_877.jpg'],\n",
       " ['Image_878.jpg', '/content/train_beg/Image_878.jpg'],\n",
       " ['Image_879.jpg', '/content/train_beg/Image_879.jpg'],\n",
       " ['Image_880.jpg', '/content/train_beg/Image_880.jpg'],\n",
       " ['Image_881.jpg', '/content/train_beg/Image_881.jpg'],\n",
       " ['Image_882.jpg', '/content/train_beg/Image_882.jpg'],\n",
       " ['Image_883.jpg', '/content/train_beg/Image_883.jpg'],\n",
       " ['Image_884.jpg', '/content/train_beg/Image_884.jpg'],\n",
       " ['Image_885.jpg', '/content/train_beg/Image_885.jpg'],\n",
       " ['Image_886.jpg', '/content/train_beg/Image_886.jpg'],\n",
       " ['Image_887.jpg', '/content/train_beg/Image_887.jpg'],\n",
       " ['Image_888.jpg', '/content/train_beg/Image_888.jpg'],\n",
       " ['Image_889.jpg', '/content/train_beg/Image_889.jpg'],\n",
       " ['Image_890.jpg', '/content/train_beg/Image_890.jpg'],\n",
       " ['Image_891.jpg', '/content/train_beg/Image_891.jpg'],\n",
       " ['Image_892.jpg', '/content/train_beg/Image_892.jpg'],\n",
       " ['Image_893.jpg', '/content/train_beg/Image_893.jpg'],\n",
       " ['Image_894.jpg', '/content/train_beg/Image_894.jpg'],\n",
       " ['Image_895.jpg', '/content/train_beg/Image_895.jpg'],\n",
       " ['Image_896.jpg', '/content/train_beg/Image_896.jpg'],\n",
       " ['Image_897.jpg', '/content/train_beg/Image_897.jpg'],\n",
       " ['Image_898.jpg', '/content/train_beg/Image_898.jpg'],\n",
       " ['Image_899.jpg', '/content/train_beg/Image_899.jpg'],\n",
       " ['Image_900.jpg', '/content/train_beg/Image_900.jpg'],\n",
       " ['Image_901.jpg', '/content/train_beg/Image_901.jpg'],\n",
       " ['Image_902.jpg', '/content/train_beg/Image_902.jpg'],\n",
       " ['Image_903.jpg', '/content/train_beg/Image_903.jpg'],\n",
       " ['Image_904.jpg', '/content/train_beg/Image_904.jpg'],\n",
       " ['Image_905.jpg', '/content/train_beg/Image_905.jpg'],\n",
       " ['Image_906.jpg', '/content/train_beg/Image_906.jpg'],\n",
       " ['Image_907.jpg', '/content/train_beg/Image_907.jpg'],\n",
       " ['Image_908.jpg', '/content/train_beg/Image_908.jpg'],\n",
       " ['Image_909.jpg', '/content/train_beg/Image_909.jpg'],\n",
       " ['Image_910.jpg', '/content/train_beg/Image_910.jpg'],\n",
       " ['Image_911.jpg', '/content/train_beg/Image_911.jpg'],\n",
       " ['Image_912.jpg', '/content/train_beg/Image_912.jpg'],\n",
       " ['Image_913.jpg', '/content/train_beg/Image_913.jpg'],\n",
       " ['Image_914.jpg', '/content/train_beg/Image_914.jpg'],\n",
       " ['Image_915.jpg', '/content/train_beg/Image_915.jpg'],\n",
       " ['Image_916.jpg', '/content/train_beg/Image_916.jpg'],\n",
       " ['Image_917.jpg', '/content/train_beg/Image_917.jpg'],\n",
       " ['Image_918.jpg', '/content/train_beg/Image_918.jpg'],\n",
       " ['Image_919.jpg', '/content/train_beg/Image_919.jpg'],\n",
       " ['Image_920.jpg', '/content/train_beg/Image_920.jpg'],\n",
       " ['Image_921.jpg', '/content/train_beg/Image_921.jpg'],\n",
       " ['Image_922.jpg', '/content/train_beg/Image_922.jpg'],\n",
       " ['Image_923.jpg', '/content/train_beg/Image_923.jpg'],\n",
       " ['Image_924.jpg', '/content/train_beg/Image_924.jpg'],\n",
       " ['Image_925.jpg', '/content/train_beg/Image_925.jpg'],\n",
       " ['Image_926.jpg', '/content/train_beg/Image_926.jpg'],\n",
       " ['Image_927.jpg', '/content/train_beg/Image_927.jpg'],\n",
       " ['Image_928.jpg', '/content/train_beg/Image_928.jpg'],\n",
       " ['Image_929.jpg', '/content/train_beg/Image_929.jpg'],\n",
       " ['Image_930.jpg', '/content/train_beg/Image_930.jpg'],\n",
       " ['Image_931.jpg', '/content/train_beg/Image_931.jpg'],\n",
       " ['Image_932.jpg', '/content/train_beg/Image_932.jpg'],\n",
       " ['Image_933.jpg', '/content/train_beg/Image_933.jpg'],\n",
       " ['Image_934.jpg', '/content/train_beg/Image_934.jpg'],\n",
       " ['Image_935.jpg', '/content/train_beg/Image_935.jpg'],\n",
       " ['Image_936.jpg', '/content/train_beg/Image_936.jpg'],\n",
       " ['Image_937.jpg', '/content/train_beg/Image_937.jpg'],\n",
       " ['Image_938.jpg', '/content/train_beg/Image_938.jpg'],\n",
       " ['Image_939.jpg', '/content/train_beg/Image_939.jpg'],\n",
       " ['Image_940.jpg', '/content/train_beg/Image_940.jpg'],\n",
       " ['Image_941.jpg', '/content/train_beg/Image_941.jpg'],\n",
       " ['Image_942.jpg', '/content/train_beg/Image_942.jpg'],\n",
       " ['Image_943.jpg', '/content/train_beg/Image_943.jpg'],\n",
       " ['Image_944.jpg', '/content/train_beg/Image_944.jpg'],\n",
       " ['Image_945.jpg', '/content/train_beg/Image_945.jpg'],\n",
       " ['Image_946.jpg', '/content/train_beg/Image_946.jpg'],\n",
       " ['Image_947.jpg', '/content/train_beg/Image_947.jpg'],\n",
       " ['Image_948.jpg', '/content/train_beg/Image_948.jpg'],\n",
       " ['Image_949.jpg', '/content/train_beg/Image_949.jpg'],\n",
       " ['Image_950.jpg', '/content/train_beg/Image_950.jpg'],\n",
       " ['Image_951.jpg', '/content/train_beg/Image_951.jpg'],\n",
       " ['Image_952.jpg', '/content/train_beg/Image_952.jpg'],\n",
       " ['Image_953.jpg', '/content/train_beg/Image_953.jpg'],\n",
       " ['Image_954.jpg', '/content/train_beg/Image_954.jpg'],\n",
       " ['Image_955.jpg', '/content/train_beg/Image_955.jpg'],\n",
       " ['Image_956.jpg', '/content/train_beg/Image_956.jpg'],\n",
       " ['Image_957.jpg', '/content/train_beg/Image_957.jpg'],\n",
       " ['Image_958.jpg', '/content/train_beg/Image_958.jpg'],\n",
       " ['Image_959.jpg', '/content/train_beg/Image_959.jpg'],\n",
       " ['Image_960.jpg', '/content/train_beg/Image_960.jpg'],\n",
       " ['Image_961.jpg', '/content/train_beg/Image_961.jpg'],\n",
       " ['Image_962.jpg', '/content/train_beg/Image_962.jpg'],\n",
       " ['Image_963.jpg', '/content/train_beg/Image_963.jpg'],\n",
       " ['Image_964.jpg', '/content/train_beg/Image_964.jpg'],\n",
       " ['Image_965.jpg', '/content/train_beg/Image_965.jpg'],\n",
       " ['Image_966.jpg', '/content/train_beg/Image_966.jpg'],\n",
       " ['Image_967.jpg', '/content/train_beg/Image_967.jpg'],\n",
       " ['Image_968.jpg', '/content/train_beg/Image_968.jpg'],\n",
       " ['Image_969.jpg', '/content/train_beg/Image_969.jpg'],\n",
       " ['Image_970.jpg', '/content/train_beg/Image_970.jpg'],\n",
       " ['Image_971.jpg', '/content/train_beg/Image_971.jpg'],\n",
       " ['Image_972.jpg', '/content/train_beg/Image_972.jpg'],\n",
       " ['Image_973.jpg', '/content/train_beg/Image_973.jpg'],\n",
       " ['Image_974.jpg', '/content/train_beg/Image_974.jpg'],\n",
       " ['Image_975.jpg', '/content/train_beg/Image_975.jpg'],\n",
       " ['Image_976.jpg', '/content/train_beg/Image_976.jpg'],\n",
       " ['Image_977.jpg', '/content/train_beg/Image_977.jpg'],\n",
       " ['Image_978.jpg', '/content/train_beg/Image_978.jpg'],\n",
       " ['Image_979.jpg', '/content/train_beg/Image_979.jpg'],\n",
       " ['Image_980.jpg', '/content/train_beg/Image_980.jpg'],\n",
       " ['Image_981.jpg', '/content/train_beg/Image_981.jpg'],\n",
       " ['Image_982.jpg', '/content/train_beg/Image_982.jpg'],\n",
       " ['Image_983.jpg', '/content/train_beg/Image_983.jpg'],\n",
       " ['Image_984.jpg', '/content/train_beg/Image_984.jpg'],\n",
       " ['Image_985.jpg', '/content/train_beg/Image_985.jpg'],\n",
       " ['Image_986.jpg', '/content/train_beg/Image_986.jpg'],\n",
       " ['Image_987.jpg', '/content/train_beg/Image_987.jpg'],\n",
       " ['Image_988.jpg', '/content/train_beg/Image_988.jpg'],\n",
       " ['Image_989.jpg', '/content/train_beg/Image_989.jpg'],\n",
       " ['Image_990.jpg', '/content/train_beg/Image_990.jpg'],\n",
       " ['Image_991.jpg', '/content/train_beg/Image_991.jpg'],\n",
       " ['Image_992.jpg', '/content/train_beg/Image_992.jpg'],\n",
       " ['Image_993.jpg', '/content/train_beg/Image_993.jpg'],\n",
       " ['Image_994.jpg', '/content/train_beg/Image_994.jpg'],\n",
       " ['Image_995.jpg', '/content/train_beg/Image_995.jpg'],\n",
       " ['Image_996.jpg', '/content/train_beg/Image_996.jpg'],\n",
       " ['Image_997.jpg', '/content/train_beg/Image_997.jpg'],\n",
       " ['Image_998.jpg', '/content/train_beg/Image_998.jpg'],\n",
       " ['Image_999.jpg', '/content/train_beg/Image_999.jpg'],\n",
       " ['Image_1000.jpg', '/content/train_beg/Image_1000.jpg'],\n",
       " ...]"
      ]
     },
     "execution_count": 10,
     "metadata": {},
     "output_type": "execute_result"
    }
   ],
   "source": [
    "image_paths = [[fname, '/content/train_beg/' + fname[:-4] + '.jpg'] for fname in train_labels['filename']]\n",
    "image_paths\n",
    "\n",
    "\n",
    "#For Jupyter Notebook\n",
    "#folder = r\"\" ### Add the path where your folder of images is stored inside the quotes\n",
    "#For eg. folder = r\"C:\\Users\\Johny\\Downloads\\train_beg\\train_beg\"\n",
    "\n",
    "#image_paths = [[fname, folder + fname[:-4] + '.jpg'] for fname in labels_csv['filename']] \n",
    "#image_paths    \n",
    "\n",
    "\n",
    "\n",
    "#The reason behind using the filename from train_labels is that \n",
    "#- it will help us to get all the images whose labels we already have in train_labels.\n",
    "#- It will also help to maintain the order of the images. If we notice the images ids in train_labels, they are\n",
    "#in some specific order, this will help us load all the images location in the list in the same order.\n"
   ]
  },
  {
   "cell_type": "markdown",
   "metadata": {
    "colab_type": "text",
    "id": "eqsC6zgo1Eei"
   },
   "source": [
    "**train_labels:** includes labels for the images  \n",
    "**image_paths:** includes file paths"
   ]
  },
  {
   "cell_type": "markdown",
   "metadata": {
    "colab_type": "text",
    "id": "GDGLcjxwzub7"
   },
   "source": [
    "### 5. Confirming if no. of labels is equal to the no. of images"
   ]
  },
  {
   "cell_type": "code",
   "execution_count": 10,
   "metadata": {
    "colab": {
     "base_uri": "https://localhost:8080/",
     "height": 34
    },
    "colab_type": "code",
    "id": "yzIXYin1yUDl",
    "outputId": "523f51c0-4448-46f7-f3e9-d63675ea9dc0"
   },
   "outputs": [
    {
     "name": "stdout",
     "output_type": "stream",
     "text": [
      "Number of labels i.e. 1200 matches the number of filenames 1200\n"
     ]
    }
   ],
   "source": [
    "# Confirm if number of labels(from train_labels) is equal to the number of images(from image_paths) \n",
    "if len(train_labels) == len(image_paths):\n",
    "  print(\"Number of labels i.e.\", len (train_labels), \"matches the number of filenames\", len(image_paths))\n",
    "else:\n",
    "  print(\"Number of labels does not match the number of file names\")\n"
   ]
  },
  {
   "cell_type": "markdown",
   "metadata": {
    "colab_type": "text",
    "id": "MitSvHMF3ZeO"
   },
   "source": [
    "### 6. Creating a DataFrame for image names and image paths"
   ]
  },
  {
   "cell_type": "markdown",
   "metadata": {},
   "source": [
    "Mapping all the image paths to their respective labels in dataframe."
   ]
  },
  {
   "cell_type": "code",
   "execution_count": 11,
   "metadata": {
    "colab": {
     "base_uri": "https://localhost:8080/",
     "height": 204
    },
    "colab_type": "code",
    "id": "E5b6q4jV3VyI",
    "outputId": "ea34c880-6922-4454-b4a1-6d7c4f4d8c3d"
   },
   "outputs": [
    {
     "data": {
      "text/html": [
       "<div>\n",
       "<style scoped>\n",
       "    .dataframe tbody tr th:only-of-type {\n",
       "        vertical-align: middle;\n",
       "    }\n",
       "\n",
       "    .dataframe tbody tr th {\n",
       "        vertical-align: top;\n",
       "    }\n",
       "\n",
       "    .dataframe thead th {\n",
       "        text-align: right;\n",
       "    }\n",
       "</style>\n",
       "<table border=\"1\" class=\"dataframe\">\n",
       "  <thead>\n",
       "    <tr style=\"text-align: right;\">\n",
       "      <th></th>\n",
       "      <th>filename</th>\n",
       "      <th>filepath</th>\n",
       "    </tr>\n",
       "  </thead>\n",
       "  <tbody>\n",
       "    <tr>\n",
       "      <th>0</th>\n",
       "      <td>Image_1.jpg</td>\n",
       "      <td>/content/train_beg/Image_1.jpg</td>\n",
       "    </tr>\n",
       "    <tr>\n",
       "      <th>1</th>\n",
       "      <td>Image_2.jpg</td>\n",
       "      <td>/content/train_beg/Image_2.jpg</td>\n",
       "    </tr>\n",
       "    <tr>\n",
       "      <th>2</th>\n",
       "      <td>Image_3.jpg</td>\n",
       "      <td>/content/train_beg/Image_3.jpg</td>\n",
       "    </tr>\n",
       "    <tr>\n",
       "      <th>3</th>\n",
       "      <td>Image_4.jpg</td>\n",
       "      <td>/content/train_beg/Image_4.jpg</td>\n",
       "    </tr>\n",
       "    <tr>\n",
       "      <th>4</th>\n",
       "      <td>Image_5.jpg</td>\n",
       "      <td>/content/train_beg/Image_5.jpg</td>\n",
       "    </tr>\n",
       "  </tbody>\n",
       "</table>\n",
       "</div>"
      ],
      "text/plain": [
       "      filename                        filepath\n",
       "0  Image_1.jpg  /content/train_beg/Image_1.jpg\n",
       "1  Image_2.jpg  /content/train_beg/Image_2.jpg\n",
       "2  Image_3.jpg  /content/train_beg/Image_3.jpg\n",
       "3  Image_4.jpg  /content/train_beg/Image_4.jpg\n",
       "4  Image_5.jpg  /content/train_beg/Image_5.jpg"
      ]
     },
     "execution_count": 11,
     "metadata": {
      "tags": []
     },
     "output_type": "execute_result"
    }
   ],
   "source": [
    "images = pd.DataFrame(image_paths)\n",
    "images.columns = ['filename', 'filepath']\n",
    "images.head()"
   ]
  },
  {
   "cell_type": "markdown",
   "metadata": {
    "colab_type": "text",
    "id": "kSgYzbuM4VKc"
   },
   "source": [
    "### 7. Combining the labels with the images"
   ]
  },
  {
   "cell_type": "code",
   "execution_count": 13,
   "metadata": {
    "colab": {
     "base_uri": "https://localhost:8080/",
     "height": 204
    },
    "colab_type": "code",
    "id": "6oH28ts04bsO",
    "outputId": "70d51e3b-abd7-4e1e-cbaa-8229bfa64dd9"
   },
   "outputs": [
    {
     "data": {
      "text/html": [
       "<div>\n",
       "<style scoped>\n",
       "    .dataframe tbody tr th:only-of-type {\n",
       "        vertical-align: middle;\n",
       "    }\n",
       "\n",
       "    .dataframe tbody tr th {\n",
       "        vertical-align: top;\n",
       "    }\n",
       "\n",
       "    .dataframe thead th {\n",
       "        text-align: right;\n",
       "    }\n",
       "</style>\n",
       "<table border=\"1\" class=\"dataframe\">\n",
       "  <thead>\n",
       "    <tr style=\"text-align: right;\">\n",
       "      <th></th>\n",
       "      <th>filename</th>\n",
       "      <th>filepath</th>\n",
       "      <th>animal_type</th>\n",
       "    </tr>\n",
       "  </thead>\n",
       "  <tbody>\n",
       "    <tr>\n",
       "      <th>0</th>\n",
       "      <td>Image_1.jpg</td>\n",
       "      <td>/content/train_beg/Image_1.jpg</td>\n",
       "      <td>mucca</td>\n",
       "    </tr>\n",
       "    <tr>\n",
       "      <th>1</th>\n",
       "      <td>Image_2.jpg</td>\n",
       "      <td>/content/train_beg/Image_2.jpg</td>\n",
       "      <td>mucca</td>\n",
       "    </tr>\n",
       "    <tr>\n",
       "      <th>2</th>\n",
       "      <td>Image_3.jpg</td>\n",
       "      <td>/content/train_beg/Image_3.jpg</td>\n",
       "      <td>mucca</td>\n",
       "    </tr>\n",
       "    <tr>\n",
       "      <th>3</th>\n",
       "      <td>Image_4.jpg</td>\n",
       "      <td>/content/train_beg/Image_4.jpg</td>\n",
       "      <td>mucca</td>\n",
       "    </tr>\n",
       "    <tr>\n",
       "      <th>4</th>\n",
       "      <td>Image_5.jpg</td>\n",
       "      <td>/content/train_beg/Image_5.jpg</td>\n",
       "      <td>mucca</td>\n",
       "    </tr>\n",
       "  </tbody>\n",
       "</table>\n",
       "</div>"
      ],
      "text/plain": [
       "      filename                        filepath animal_type\n",
       "0  Image_1.jpg  /content/train_beg/Image_1.jpg       mucca\n",
       "1  Image_2.jpg  /content/train_beg/Image_2.jpg       mucca\n",
       "2  Image_3.jpg  /content/train_beg/Image_3.jpg       mucca\n",
       "3  Image_4.jpg  /content/train_beg/Image_4.jpg       mucca\n",
       "4  Image_5.jpg  /content/train_beg/Image_5.jpg       mucca"
      ]
     },
     "execution_count": 13,
     "metadata": {
      "tags": []
     },
     "output_type": "execute_result"
    }
   ],
   "source": [
    "#combining 'images' dataset with 'labels_csv' dataset\n",
    "train_data = pd.merge(images, train_labels, how = \"inner\", on = \"filename\")  # inner: use intersection of keys from both frames.\n",
    "train_data.head()                                                          # on: column or index level names to join on. These must be found in both DataFrames."
   ]
  },
  {
   "cell_type": "code",
   "execution_count": 14,
   "metadata": {
    "colab": {
     "base_uri": "https://localhost:8080/",
     "height": 34
    },
    "colab_type": "code",
    "id": "CF1N8FB3V-o8",
    "outputId": "72f06b97-7d32-4d92-d616-f5c7f8f471f0"
   },
   "outputs": [
    {
     "data": {
      "text/plain": [
       "(1200, 3)"
      ]
     },
     "execution_count": 14,
     "metadata": {
      "tags": []
     },
     "output_type": "execute_result"
    }
   ],
   "source": [
    "train_data.shape"
   ]
  },
  {
   "cell_type": "code",
   "execution_count": 23,
   "metadata": {
    "colab": {
     "base_uri": "https://localhost:8080/",
     "height": 85
    },
    "colab_type": "code",
    "id": "OqAo9edqEg9b",
    "outputId": "f9194cf9-b1a6-4ee0-a965-3e3e153a0aa9"
   },
   "outputs": [
    {
     "data": {
      "text/plain": [
       "filename                          Image_26.jpg\n",
       "filepath       /content/train_beg/Image_26.jpg\n",
       "animal_type                              mucca\n",
       "Name: 25, dtype: object"
      ]
     },
     "execution_count": 23,
     "metadata": {
      "tags": []
     },
     "output_type": "execute_result"
    }
   ],
   "source": [
    "train_data.iloc[25]"
   ]
  },
  {
   "cell_type": "markdown",
   "metadata": {
    "colab_type": "text",
    "id": "NvwIKfrx7IPE"
   },
   "source": [
    "### 8. Loading Images\n",
    "\n",
    "OpenCV's imread method helps in reading an image and getting its pixel values. Path of each image has to be provided inside imread()."
   ]
  },
  {
   "cell_type": "code",
   "execution_count": 27,
   "metadata": {
    "colab": {},
    "colab_type": "code",
    "id": "ErDu-JQdY8NJ"
   },
   "outputs": [],
   "source": [
    "#imread() takes two arguments - imread(path, flag)\n",
    "#The 1 in the flag parameter denotes that it is a color image, whereas 0 denotes graysacale.\n",
    "\n",
    "#Import OpenCV module\n",
    "import cv2\n",
    "\n",
    "img_size = 100    \n",
    "\n",
    "X_train = []   #images\n",
    "y_train = []   #labels\n",
    "\n",
    "for i in range(len(train_data)):\n",
    "  image = cv2.imread(train_data[\"filepath\"][i],1) #reading the file\n",
    "  image = cv2.resize(image,(img_size,img_size)) #resize the image\n",
    "  label = train_data['animal_type'] [i]\n",
    "  X_train.append(image)\n",
    "  y_train.append(label)"
   ]
  },
  {
   "cell_type": "code",
   "execution_count": 28,
   "metadata": {
    "colab": {
     "base_uri": "https://localhost:8080/",
     "height": 51
    },
    "colab_type": "code",
    "id": "1jloS77gY1J-",
    "outputId": "b187103a-d5c5-4ca5-c0f7-70f63c439898"
   },
   "outputs": [
    {
     "name": "stdout",
     "output_type": "stream",
     "text": [
      "Length of X_train: 1200\n",
      "Length of y_train: 1200\n"
     ]
    }
   ],
   "source": [
    "print(\"Length of X_train:\", len(X_train))  # checking total number of records / data points available in the X_train dataset\n",
    "print(\"Length of y_train:\", len(y_train))  # checking total number of records / data points available in the y_train dataset"
   ]
  },
  {
   "cell_type": "code",
   "execution_count": 20,
   "metadata": {
    "colab": {
     "base_uri": "https://localhost:8080/",
     "height": 34
    },
    "colab_type": "code",
    "id": "sEqOXFRSrT1e",
    "outputId": "7ccf1553-ff7d-4bf9-b656-f92f79959a4a"
   },
   "outputs": [
    {
     "data": {
      "text/plain": [
       "(100, 100, 3)"
      ]
     },
     "execution_count": 20,
     "metadata": {
      "tags": []
     },
     "output_type": "execute_result"
    }
   ],
   "source": [
    "X_train[2].shape      # Checking the shape of one image"
   ]
  },
  {
   "cell_type": "code",
   "execution_count": 29,
   "metadata": {
    "colab": {
     "base_uri": "https://localhost:8080/",
     "height": 34
    },
    "colab_type": "code",
    "id": "9Tq8DghBW5rF",
    "outputId": "267ce4fa-32bd-40c4-c43e-91f36153512c"
   },
   "outputs": [
    {
     "data": {
      "text/plain": [
       "30000"
      ]
     },
     "execution_count": 29,
     "metadata": {
      "tags": []
     },
     "output_type": "execute_result"
    }
   ],
   "source": [
    "X_train[24].size  # Number of Pixels"
   ]
  },
  {
   "cell_type": "markdown",
   "metadata": {
    "colab_type": "text",
    "id": "TdyZfsQGsgrc"
   },
   "source": [
    "By shape of the image, we mean the shape of the NumPy array. As you see from executing the code, the matrix consists of 200 rows and 300 columns. The last value 3 indicates the no. of channels (3 for coloured image and 1 for grayscale/black & white image).\n"
   ]
  },
  {
   "cell_type": "code",
   "execution_count": 30,
   "metadata": {
    "colab": {
     "base_uri": "https://localhost:8080/",
     "height": 850
    },
    "colab_type": "code",
    "id": "RWWoJlX1rcdA",
    "outputId": "7fe6bca2-dd30-4465-bcff-b959d35a4a7d"
   },
   "outputs": [
    {
     "data": {
      "text/plain": [
       "array([[[206, 204, 204],\n",
       "        [207, 205, 205],\n",
       "        [209, 207, 207],\n",
       "        ...,\n",
       "        [205, 204, 206],\n",
       "        [206, 205, 207],\n",
       "        [205, 204, 206]],\n",
       "\n",
       "       [[205, 203, 203],\n",
       "        [207, 205, 205],\n",
       "        [211, 209, 209],\n",
       "        ...,\n",
       "        [209, 208, 210],\n",
       "        [201, 200, 202],\n",
       "        [206, 205, 207]],\n",
       "\n",
       "       [[203, 201, 201],\n",
       "        [211, 209, 209],\n",
       "        [210, 208, 208],\n",
       "        ...,\n",
       "        [205, 204, 206],\n",
       "        [204, 203, 205],\n",
       "        [204, 203, 205]],\n",
       "\n",
       "       ...,\n",
       "\n",
       "       [[248, 255, 250],\n",
       "        [170, 237, 222],\n",
       "        [ 90, 191, 167],\n",
       "        ...,\n",
       "        [254, 254, 254],\n",
       "        [252, 252, 252],\n",
       "        [253, 253, 253]],\n",
       "\n",
       "       [[246, 255, 251],\n",
       "        [164, 234, 220],\n",
       "        [102, 202, 180],\n",
       "        ...,\n",
       "        [253, 253, 253],\n",
       "        [251, 251, 251],\n",
       "        [254, 254, 254]],\n",
       "\n",
       "       [[242, 255, 250],\n",
       "        [158, 232, 218],\n",
       "        [ 87, 194, 172],\n",
       "        ...,\n",
       "        [252, 252, 252],\n",
       "        [255, 255, 255],\n",
       "        [254, 254, 254]]], dtype=uint8)"
      ]
     },
     "execution_count": 30,
     "metadata": {
      "tags": []
     },
     "output_type": "execute_result"
    }
   ],
   "source": [
    "# To check how one image looks like\n",
    "\n",
    "X_train[0]"
   ]
  },
  {
   "cell_type": "code",
   "execution_count": 31,
   "metadata": {
    "colab": {
     "base_uri": "https://localhost:8080/",
     "height": 117
    },
    "colab_type": "code",
    "id": "OIi9ZqHFrpDz",
    "outputId": "b95ce51e-1d54-499a-ad08-40aa01d41890"
   },
   "outputs": [
    {
     "data": {
      "image/png": "[encoded data removed]",
      "text/plain": [
       "<PIL.Image.Image image mode=RGB size=100x100 at 0x7F2A9B7B5048>"
      ]
     },
     "metadata": {
      "tags": []
     },
     "output_type": "display_data"
    }
   ],
   "source": [
    "from google.colab.patches import cv2_imshow\n",
    "\n",
    "cv2_imshow(X_train[0])\n",
    "\n",
    "# Alternative: There is a function in matplotlib called as 'matshow()' which also helps to display the image of the array of numbers\n",
    "# plt.matshow(X_train[0])"
   ]
  },
  {
   "cell_type": "code",
   "execution_count": 32,
   "metadata": {
    "colab": {
     "base_uri": "https://localhost:8080/",
     "height": 35
    },
    "colab_type": "code",
    "id": "FOLg3i59sIKb",
    "outputId": "30008f26-aa64-453d-9e09-aaf90690eca2"
   },
   "outputs": [
    {
     "data": {
      "application/vnd.google.colaboratory.intrinsic+json": {
       "type": "string"
      },
      "text/plain": [
       "'mucca'"
      ]
     },
     "execution_count": 32,
     "metadata": {
      "tags": []
     },
     "output_type": "execute_result"
    }
   ],
   "source": [
    "# Using y_train to cross check the label of the animal\n",
    "\n",
    "y_train[0]"
   ]
  },
  {
   "cell_type": "code",
   "execution_count": 33,
   "metadata": {
    "colab": {
     "base_uri": "https://localhost:8080/",
     "height": 419
    },
    "colab_type": "code",
    "id": "9eBo1w-IaI5z",
    "outputId": "608052c1-496a-4a7f-a14f-3af75a2de8e2"
   },
   "outputs": [
    {
     "name": "stdout",
     "output_type": "stream",
     "text": [
      "Label: mucca\n",
      "Animal in the image 0\n"
     ]
    },
    {
     "data": {
      "image/png": "[encoded data removed]",
      "text/plain": [
       "<PIL.Image.Image image mode=RGB size=100x100 at 0x7F2A9B7B3160>"
      ]
     },
     "metadata": {
      "tags": []
     },
     "output_type": "display_data"
    },
    {
     "name": "stdout",
     "output_type": "stream",
     "text": [
      "Label: mucca\n",
      "Animal in the image 0\n"
     ]
    },
    {
     "data": {
      "image/png": "[encoded data removed]",
      "text/plain": [
       "<PIL.Image.Image image mode=RGB size=100x100 at 0x7F2A9B7B30B8>"
      ]
     },
     "metadata": {
      "tags": []
     },
     "output_type": "display_data"
    },
    {
     "name": "stdout",
     "output_type": "stream",
     "text": [
      "Label: mucca\n",
      "Animal in the image 0\n"
     ]
    },
    {
     "data": {
      "image/png": "[encoded data removed]",
      "text/plain": [
       "<PIL.Image.Image image mode=RGB size=100x100 at 0x7F2A9B7B30F0>"
      ]
     },
     "metadata": {
      "tags": []
     },
     "output_type": "display_data"
    }
   ],
   "source": [
    "# Displaying the  images using OpenCVs imshow function along with corresponding labels from the training data\n",
    "\n",
    "#Required libraries\n",
    "import numpy as np\n",
    "import matplotlib.pyplot as plt\n",
    "%matplotlib inline\n",
    "\n",
    "import gc         # garbage collector for cleaning deleted data from the memory\n",
    "\n",
    "images = X_train[1:4]\n",
    "labels = y_train[1:4]\n",
    "\n",
    "for index, image in enumerate(images):\n",
    "    print ('Label:', labels[index])\n",
    "    print ('Animal in the image', np.argmax(labels[index]))  #argmax picks out the label with highest probability\n",
    "    #plt.imshow(image)\n",
    "    cv2_imshow(image)\n",
    "    #plt.show()\n",
    "\n",
    "#Alternative: import matplotlib.image as mpimg\n",
    "#for img in images[1:4]:\n",
    "#  image = mpimg.imread(img)\n",
    "#  imgplot = plt.imshow(image)\n",
    "#  plt.show()\n",
    "   "
   ]
  },
  {
   "cell_type": "markdown",
   "metadata": {
    "colab_type": "text",
    "id": "HJGA3ztCkOOr"
   },
   "source": [
    "# Data Pre-processing"
   ]
  },
  {
   "cell_type": "markdown",
   "metadata": {
    "colab_type": "text",
    "id": "gU6cZKQTvV0u"
   },
   "source": [
    "#### Normalizing the Data"
   ]
  },
  {
   "cell_type": "code",
   "execution_count": 34,
   "metadata": {
    "colab": {},
    "colab_type": "code",
    "id": "rj-35O8iX1aB"
   },
   "outputs": [],
   "source": [
    "train_images = X_train  #renaming\n",
    "train_labels = y_train"
   ]
  },
  {
   "cell_type": "code",
   "execution_count": 35,
   "metadata": {
    "colab": {},
    "colab_type": "code",
    "id": "-PRlqerSvZcn"
   },
   "outputs": [],
   "source": [
    "#Normalization is a process that changes the range of pixel intensity values to the range 0 to 1.\n",
    "#The pixel value lie in the range 0 - 255 representing the RGB (Red Green Blue) value.\n",
    "\n",
    "#First we have to transfer the arrays into Numpy arrays\n",
    "\n",
    "train_images = np.array(train_images)/ 255\n",
    "#train_labels = np.array(train_labels)\n"
   ]
  },
  {
   "cell_type": "code",
   "execution_count": 36,
   "metadata": {
    "colab": {},
    "colab_type": "code",
    "id": "uIJD_cTbeH2j"
   },
   "outputs": [],
   "source": [
    "# Transforming the labels 'mucca' and 'pecora' into 1 and 0\n",
    "\n",
    "#for label in train_labels:\n",
    "#   if 'mucca' in label:\n",
    "#      train_labels.append(1)\n",
    "#   elif:\n",
    "#       train_labels.append(0)"
   ]
  },
  {
   "cell_type": "code",
   "execution_count": 37,
   "metadata": {
    "colab": {},
    "colab_type": "code",
    "id": "29Y0euYulRVa"
   },
   "outputs": [],
   "source": [
    "# Transforming the labels 'mucca' and 'pecora' into 1 and 0\n",
    "# label encoding\n",
    "\n",
    "from sklearn import preprocessing\n",
    "le = preprocessing.LabelEncoder()\n",
    "\n",
    "train_labels = le.fit_transform(train_labels)\n"
   ]
  },
  {
   "cell_type": "code",
   "execution_count": 38,
   "metadata": {
    "colab": {
     "base_uri": "https://localhost:8080/",
     "height": 34
    },
    "colab_type": "code",
    "id": "TXAHyOUhlo-w",
    "outputId": "70cc51b6-6a79-4b35-a92f-2b11c67f10b7"
   },
   "outputs": [
    {
     "data": {
      "text/plain": [
       "0"
      ]
     },
     "execution_count": 38,
     "metadata": {
      "tags": []
     },
     "output_type": "execute_result"
    }
   ],
   "source": [
    "train_labels[1]  #check"
   ]
  },
  {
   "cell_type": "code",
   "execution_count": 39,
   "metadata": {
    "colab": {
     "base_uri": "https://localhost:8080/",
     "height": 34
    },
    "colab_type": "code",
    "id": "bnl6pEKNifnQ",
    "outputId": "2c54c1b8-beab-4a8a-9724-f4ff8fbcf3cb"
   },
   "outputs": [
    {
     "data": {
      "text/plain": [
       "array([0, 0, 0, ..., 1, 1, 1])"
      ]
     },
     "execution_count": 39,
     "metadata": {
      "tags": []
     },
     "output_type": "execute_result"
    }
   ],
   "source": [
    "train_labels = np.array(train_labels)\n",
    "train_labels"
   ]
  },
  {
   "cell_type": "code",
   "execution_count": 40,
   "metadata": {
    "colab": {
     "base_uri": "https://localhost:8080/",
     "height": 850
    },
    "colab_type": "code",
    "id": "HgXs1_Pj5YBr",
    "outputId": "56e6e4ea-c3e4-4096-e9f0-85a4ee42f0f0"
   },
   "outputs": [
    {
     "data": {
      "text/plain": [
       "array([[[0.99215686, 0.99215686, 0.99215686],\n",
       "        [0.99215686, 0.99215686, 0.99215686],\n",
       "        [0.99215686, 0.99215686, 0.99215686],\n",
       "        ...,\n",
       "        [0.70588235, 0.68235294, 0.6627451 ],\n",
       "        [0.6745098 , 0.63921569, 0.62352941],\n",
       "        [0.67843137, 0.63529412, 0.62352941]],\n",
       "\n",
       "       [[0.99215686, 0.99215686, 0.99215686],\n",
       "        [0.99215686, 0.99215686, 0.99215686],\n",
       "        [0.99215686, 0.99215686, 0.99215686],\n",
       "        ...,\n",
       "        [0.56862745, 0.54117647, 0.51372549],\n",
       "        [0.54901961, 0.51764706, 0.49019608],\n",
       "        [0.68235294, 0.64313725, 0.61176471]],\n",
       "\n",
       "       [[0.99215686, 0.99215686, 0.99215686],\n",
       "        [0.99215686, 0.99215686, 0.99215686],\n",
       "        [0.99215686, 0.99215686, 0.99215686],\n",
       "        ...,\n",
       "        [0.54117647, 0.50196078, 0.4745098 ],\n",
       "        [0.49803922, 0.47058824, 0.43529412],\n",
       "        [0.42745098, 0.40392157, 0.36862745]],\n",
       "\n",
       "       ...,\n",
       "\n",
       "       [[0.31764706, 0.71372549, 0.7254902 ],\n",
       "        [0.29803922, 0.69411765, 0.70588235],\n",
       "        [0.31372549, 0.70980392, 0.72156863],\n",
       "        ...,\n",
       "        [0.29019608, 0.68235294, 0.63529412],\n",
       "        [0.25882353, 0.65098039, 0.60392157],\n",
       "        [0.22352941, 0.61568627, 0.56862745]],\n",
       "\n",
       "       [[0.32156863, 0.7254902 , 0.71372549],\n",
       "        [0.31764706, 0.72156863, 0.71372549],\n",
       "        [0.31764706, 0.71372549, 0.70196078],\n",
       "        ...,\n",
       "        [0.33333333, 0.72156863, 0.68235294],\n",
       "        [0.30196078, 0.69019608, 0.65098039],\n",
       "        [0.29019608, 0.67843137, 0.63921569]],\n",
       "\n",
       "       [[0.31372549, 0.72156863, 0.69411765],\n",
       "        [0.33333333, 0.73333333, 0.70980392],\n",
       "        [0.32941176, 0.73333333, 0.70588235],\n",
       "        ...,\n",
       "        [0.31372549, 0.69411765, 0.65490196],\n",
       "        [0.29019608, 0.67058824, 0.63137255],\n",
       "        [0.31372549, 0.70196078, 0.6627451 ]]])"
      ]
     },
     "execution_count": 40,
     "metadata": {
      "tags": []
     },
     "output_type": "execute_result"
    }
   ],
   "source": [
    "train_images[1]  #check"
   ]
  },
  {
   "cell_type": "code",
   "execution_count": 41,
   "metadata": {
    "colab": {
     "base_uri": "https://localhost:8080/",
     "height": 51
    },
    "colab_type": "code",
    "id": "yw2sUPqYSFLX",
    "outputId": "0d85624a-2177-49d1-b7b8-33303831c673"
   },
   "outputs": [
    {
     "name": "stdout",
     "output_type": "stream",
     "text": [
      "No.of train_images: 1200 \n",
      " No.of train_labels: 1200\n"
     ]
    }
   ],
   "source": [
    "print(\"No.of train_images:\", len(train_images),\"\\n\", \"No.of train_labels:\", len(train_labels))"
   ]
  },
  {
   "cell_type": "code",
   "execution_count": 42,
   "metadata": {
    "colab": {
     "base_uri": "https://localhost:8080/",
     "height": 352
    },
    "colab_type": "code",
    "id": "XlL66P7M5non",
    "outputId": "28a118fe-81ef-45f1-db91-187e618a7c7b"
   },
   "outputs": [
    {
     "name": "stderr",
     "output_type": "stream",
     "text": [
      "/usr/local/lib/python3.6/dist-packages/statsmodels/tools/_testing.py:19: FutureWarning: pandas.util.testing is deprecated. Use the functions in the public API at pandas.testing instead.\n",
      "  import pandas.util.testing as tm\n"
     ]
    },
    {
     "data": {
      "text/plain": [
       "Text(0.5, 1.0, 'Labels')"
      ]
     },
     "execution_count": 42,
     "metadata": {
      "tags": []
     },
     "output_type": "execute_result"
    },
    {
     "data": {
      "image/png": "[encoded data removed]",
      "text/plain": [
       "<Figure size 432x288 with 1 Axes>"
      ]
     },
     "metadata": {
      "needs_background": "light",
      "tags": []
     },
     "output_type": "display_data"
    }
   ],
   "source": [
    "# crosschecking classes in train_labels. There are total 1200 labels, so there should be 600 1s and 600 0s.\n",
    "import seaborn as sns\n",
    "\n",
    "sns.countplot(train_labels)\n",
    "plt.title(\"Labels\")"
   ]
  },
  {
   "cell_type": "code",
   "execution_count": 43,
   "metadata": {
    "colab": {
     "base_uri": "https://localhost:8080/",
     "height": 34
    },
    "colab_type": "code",
    "id": "MiIuFJim7NZN",
    "outputId": "9214fdef-5eee-4968-e01f-e0f74254f551"
   },
   "outputs": [
    {
     "data": {
      "text/plain": [
       "0"
      ]
     },
     "execution_count": 43,
     "metadata": {
      "tags": []
     },
     "output_type": "execute_result"
    }
   ],
   "source": [
    "gc.collect() #collect garbage to save memory"
   ]
  },
  {
   "cell_type": "code",
   "execution_count": 44,
   "metadata": {
    "colab": {
     "base_uri": "https://localhost:8080/",
     "height": 51
    },
    "colab_type": "code",
    "id": "oNwkuUDO60oy",
    "outputId": "5664f918-3864-4b44-fa48-4b63ecabbc08"
   },
   "outputs": [
    {
     "name": "stdout",
     "output_type": "stream",
     "text": [
      "Shape of train_images is: (1200, 100, 100, 3)\n",
      "Shape of train_labels is: (1200,)\n"
     ]
    }
   ],
   "source": [
    "#check the shape of the data\n",
    "\n",
    "print(\"Shape of train_images is:\", train_images.shape)\n",
    "print(\"Shape of train_labels is:\", train_labels.shape)"
   ]
  },
  {
   "cell_type": "markdown",
   "metadata": {
    "colab_type": "text",
    "id": "PqnG_CPhUkgR"
   },
   "source": [
    "# Building a Multi-Layer Perceptron"
   ]
  },
  {
   "cell_type": "code",
   "execution_count": 45,
   "metadata": {
    "colab": {
     "base_uri": "https://localhost:8080/",
     "height": 34
    },
    "colab_type": "code",
    "id": "V5dTUqWse9mW",
    "outputId": "70436657-3552-4d79-9ccc-1db15dee403f"
   },
   "outputs": [
    {
     "name": "stdout",
     "output_type": "stream",
     "text": [
      "2.3.0\n"
     ]
    }
   ],
   "source": [
    "#Tensorflow and tf.keras\n",
    "import tensorflow as tf  \n",
    "from tensorflow import keras  \n",
    "from tensorflow.keras.models import Sequential \n",
    "from tensorflow.keras.layers import Dense, Dropout, Flatten\n",
    "from tensorflow.keras.optimizers import Adam\n",
    "from tensorflow.keras.losses import SparseCategoricalCrossentropy\n",
    "from tensorflow.keras.callbacks import TensorBoard, EarlyStopping\n",
    "%load_ext tensorboard\n",
    "\n",
    "#Helper libraries\n",
    "import numpy as np\n",
    "import random\n",
    "import matplotlib.pyplot as plt\n",
    "import datetime\n",
    "\n",
    "print(tf.__version__)\n"
   ]
  },
  {
   "cell_type": "markdown",
   "metadata": {
    "colab_type": "text",
    "id": "u4aPVYfS2vyn"
   },
   "source": [
    "#### Splitting the Data into Train and Test sets"
   ]
  },
  {
   "cell_type": "code",
   "execution_count": 46,
   "metadata": {
    "colab": {},
    "colab_type": "code",
    "id": "wk5iwumb2urr"
   },
   "outputs": [],
   "source": [
    "from sklearn.model_selection import train_test_split\n",
    "train_images, test_images, train_labels, test_labels = train_test_split(train_images, train_labels, test_size=0.2, random_state=42)"
   ]
  },
  {
   "cell_type": "code",
   "execution_count": 47,
   "metadata": {
    "colab": {
     "base_uri": "https://localhost:8080/",
     "height": 85
    },
    "colab_type": "code",
    "id": "Ns_BHzw6Cj8x",
    "outputId": "552c3b8f-684d-4a45-c52b-d752016f0fd4"
   },
   "outputs": [
    {
     "name": "stdout",
     "output_type": "stream",
     "text": [
      "Shape of train_images: (960, 100, 100, 3)\n",
      "Shape of test_images: (240, 100, 100, 3)\n",
      "Shape of train_labels: (960,)\n",
      "Shape of test_labels: (240,)\n"
     ]
    }
   ],
   "source": [
    "print(\"Shape of train_images:\", train_images.shape)\n",
    "print(\"Shape of test_images:\", test_images.shape)\n",
    "print(\"Shape of train_labels:\", train_labels.shape)\n",
    "print(\"Shape of test_labels:\", test_labels.shape)"
   ]
  },
  {
   "cell_type": "markdown",
   "metadata": {
    "colab_type": "text",
    "id": "q7VDLmYcsiW7"
   },
   "source": [
    "#### Define the Model"
   ]
  },
  {
   "cell_type": "markdown",
   "metadata": {
    "colab_type": "text",
    "id": "uFXVhUc4GQgi"
   },
   "source": [
    "##### Model 1"
   ]
  },
  {
   "cell_type": "code",
   "execution_count": 48,
   "metadata": {
    "colab": {},
    "colab_type": "code",
    "id": "YRRJYSg6YJIh"
   },
   "outputs": [],
   "source": [
    "#Single hidden layer\n",
    "\n",
    "# Clear any logs from previous runs\n",
    "!rm -rf ./logs/ \n",
    "\n",
    "model1 = Sequential()\n",
    "#Input layer\n",
    "model1.add(Flatten(input_shape=(100, 100,3)))\n",
    "#Hidden layer\n",
    "model1.add(Dense(512, activation = 'relu'))\n",
    "model1.add(Dense(1, activation='sigmoid'))"
   ]
  },
  {
   "cell_type": "code",
   "execution_count": 49,
   "metadata": {
    "colab": {
     "base_uri": "https://localhost:8080/",
     "height": 255
    },
    "colab_type": "code",
    "id": "LAZ8KK5VszAV",
    "outputId": "404c6277-f1e0-45f3-b0d6-03f7b30de2dc"
   },
   "outputs": [
    {
     "name": "stdout",
     "output_type": "stream",
     "text": [
      "Model: \"sequential\"\n",
      "_________________________________________________________________\n",
      "Layer (type)                 Output Shape              Param #   \n",
      "=================================================================\n",
      "flatten (Flatten)            (None, 30000)             0         \n",
      "_________________________________________________________________\n",
      "dense (Dense)                (None, 512)               15360512  \n",
      "_________________________________________________________________\n",
      "dense_1 (Dense)              (None, 1)                 513       \n",
      "=================================================================\n",
      "Total params: 15,361,025\n",
      "Trainable params: 15,361,025\n",
      "Non-trainable params: 0\n",
      "_________________________________________________________________\n"
     ]
    }
   ],
   "source": [
    "model1.summary()"
   ]
  },
  {
   "cell_type": "code",
   "execution_count": null,
   "metadata": {
    "colab": {},
    "colab_type": "code",
    "id": "LgRLau52W9zZ"
   },
   "outputs": [],
   "source": [
    "#Alternative\n",
    "#data_augmentation = tf.keras.Sequential(\n",
    "#    [\n",
    "#        tf.keras.layers.experimental.preprocessing.RandomFlip(\"horizontal\"),\n",
    "#        tf.keras.layers.experimental.preprocessing.RandomRotation(0.1),\n",
    "#        tf.keras.layers.experimental.preprocessing.RandomZoom(0.2)\n",
    "#    ]\n",
    "#)"
   ]
  },
  {
   "cell_type": "code",
   "execution_count": null,
   "metadata": {
    "colab": {},
    "colab_type": "code",
    "id": "YJ2KHIVfWxFm"
   },
   "outputs": [],
   "source": [
    "#model = Sequential()\n",
    "#model.add(data_augmentation)\n",
    "#model.add(tf.keras.layers.experimental.preprocessing.Rescaling(1./255))\n",
    "#model.add(tf.keras.layers.Dense(1024,activation='relu'))\n",
    "#model.add(tf.keras.layers.Dropout(0.2))\n",
    "#model.add(tf.keras.layers.Dense(1,activation='sigmoid'))"
   ]
  },
  {
   "cell_type": "markdown",
   "metadata": {
    "colab_type": "text",
    "id": "IfSFdcOhsnr_"
   },
   "source": [
    "#### Compile the Model"
   ]
  },
  {
   "cell_type": "code",
   "execution_count": 50,
   "metadata": {
    "colab": {},
    "colab_type": "code",
    "id": "JDoli3lDeuNO"
   },
   "outputs": [],
   "source": [
    "optimizer = Adam(0.001) \n",
    "model1.compile(optimizer=optimizer,loss='binary_crossentropy', metrics=['accuracy'])"
   ]
  },
  {
   "cell_type": "markdown",
   "metadata": {
    "colab_type": "text",
    "id": "pIvrhVB3RYyr"
   },
   "source": [
    "Optimizer: I chose **Adam** as it converges very fast and the learning speed of the model is quite fast and efficient.  \n",
    "Loss function: Since I'm working with a two-class problem, I used **binary cross-entropy loss.**  \n",
    "Metrics: Since I'm doing a classification problem, the **accuracy** metric (acc) is a good choice."
   ]
  },
  {
   "cell_type": "markdown",
   "metadata": {
    "colab_type": "text",
    "id": "qMJKGeS_pxVx"
   },
   "source": [
    "# Tensorboard"
   ]
  },
  {
   "cell_type": "code",
   "execution_count": 70,
   "metadata": {
    "colab": {},
    "colab_type": "code",
    "id": "VpMMrKgYp0Wa"
   },
   "outputs": [],
   "source": [
    "from tensorflow.keras.callbacks import TensorBoard\n",
    "from tensorflow.keras.utils import to_categorical\n",
    "import datetime \n",
    "\n",
    "log_dir = \"logs/fit/\" + datetime.datetime.now().strftime(\"%Y%m%d-%H%M%S\") \n",
    "tensorboard_callback = TensorBoard(log_dir=log_dir, histogram_freq=1)\n"
   ]
  },
  {
   "cell_type": "markdown",
   "metadata": {
    "colab_type": "text",
    "id": "0U7pPiZKgsg0"
   },
   "source": [
    "# Training the Model"
   ]
  },
  {
   "cell_type": "code",
   "execution_count": 59,
   "metadata": {
    "colab": {
     "base_uri": "https://localhost:8080/",
     "height": 1000
    },
    "colab_type": "code",
    "id": "9i6EwvLQfOQq",
    "outputId": "96f978a8-5e89-4453-8b05-516b572d8c70"
   },
   "outputs": [
    {
     "name": "stdout",
     "output_type": "stream",
     "text": [
      "Epoch 1/100\n",
      "24/24 [==============================] - 0s 9ms/step - loss: 6.6520e-04 - accuracy: 1.0000 - val_loss: 1.5058 - val_accuracy: 0.6562\n",
      "Epoch 2/100\n",
      "24/24 [==============================] - 0s 8ms/step - loss: 6.8379e-04 - accuracy: 1.0000 - val_loss: 1.5208 - val_accuracy: 0.6562\n",
      "Epoch 3/100\n",
      "24/24 [==============================] - 0s 8ms/step - loss: 6.5065e-04 - accuracy: 1.0000 - val_loss: 1.5021 - val_accuracy: 0.6458\n",
      "Epoch 4/100\n",
      "24/24 [==============================] - 0s 7ms/step - loss: 6.5355e-04 - accuracy: 1.0000 - val_loss: 1.5195 - val_accuracy: 0.6562\n",
      "Epoch 5/100\n",
      "24/24 [==============================] - 0s 7ms/step - loss: 6.1956e-04 - accuracy: 1.0000 - val_loss: 1.5032 - val_accuracy: 0.6406\n",
      "Epoch 6/100\n",
      "24/24 [==============================] - 0s 7ms/step - loss: 6.0583e-04 - accuracy: 1.0000 - val_loss: 1.5190 - val_accuracy: 0.6510\n",
      "Epoch 7/100\n",
      "24/24 [==============================] - 0s 7ms/step - loss: 5.9836e-04 - accuracy: 1.0000 - val_loss: 1.5036 - val_accuracy: 0.6562\n",
      "Epoch 8/100\n",
      "24/24 [==============================] - 0s 7ms/step - loss: 6.9251e-04 - accuracy: 1.0000 - val_loss: 1.5120 - val_accuracy: 0.6562\n",
      "Epoch 9/100\n",
      "24/24 [==============================] - 0s 7ms/step - loss: 6.0624e-04 - accuracy: 1.0000 - val_loss: 1.5263 - val_accuracy: 0.6562\n",
      "Epoch 10/100\n",
      "24/24 [==============================] - 0s 7ms/step - loss: 5.6646e-04 - accuracy: 1.0000 - val_loss: 1.5386 - val_accuracy: 0.6562\n",
      "Epoch 11/100\n",
      "24/24 [==============================] - 0s 7ms/step - loss: 5.7199e-04 - accuracy: 1.0000 - val_loss: 1.5192 - val_accuracy: 0.6510\n",
      "Epoch 12/100\n",
      "24/24 [==============================] - 0s 7ms/step - loss: 6.0566e-04 - accuracy: 1.0000 - val_loss: 1.5195 - val_accuracy: 0.6562\n",
      "Epoch 13/100\n",
      "24/24 [==============================] - 0s 7ms/step - loss: 5.8047e-04 - accuracy: 1.0000 - val_loss: 1.5392 - val_accuracy: 0.6562\n",
      "Epoch 14/100\n",
      "24/24 [==============================] - 0s 8ms/step - loss: 5.3923e-04 - accuracy: 1.0000 - val_loss: 1.5743 - val_accuracy: 0.6667\n",
      "Epoch 15/100\n",
      "24/24 [==============================] - 0s 7ms/step - loss: 5.6804e-04 - accuracy: 1.0000 - val_loss: 1.6010 - val_accuracy: 0.6667\n",
      "Epoch 16/100\n",
      "24/24 [==============================] - 0s 7ms/step - loss: 5.1419e-04 - accuracy: 1.0000 - val_loss: 1.5521 - val_accuracy: 0.6615\n",
      "Epoch 17/100\n",
      "24/24 [==============================] - 0s 7ms/step - loss: 5.0893e-04 - accuracy: 1.0000 - val_loss: 1.5483 - val_accuracy: 0.6562\n",
      "Epoch 18/100\n",
      "24/24 [==============================] - 0s 7ms/step - loss: 5.1211e-04 - accuracy: 1.0000 - val_loss: 1.5281 - val_accuracy: 0.6562\n",
      "Epoch 19/100\n",
      "24/24 [==============================] - 0s 7ms/step - loss: 5.1969e-04 - accuracy: 1.0000 - val_loss: 1.5356 - val_accuracy: 0.6562\n",
      "Epoch 20/100\n",
      "24/24 [==============================] - 0s 7ms/step - loss: 5.0952e-04 - accuracy: 1.0000 - val_loss: 1.5574 - val_accuracy: 0.6562\n",
      "Epoch 21/100\n",
      "24/24 [==============================] - 0s 7ms/step - loss: 4.8270e-04 - accuracy: 1.0000 - val_loss: 1.5540 - val_accuracy: 0.6458\n",
      "Epoch 22/100\n",
      "24/24 [==============================] - 0s 7ms/step - loss: 4.5861e-04 - accuracy: 1.0000 - val_loss: 1.5576 - val_accuracy: 0.6510\n",
      "Epoch 23/100\n",
      "24/24 [==============================] - 0s 7ms/step - loss: 4.5702e-04 - accuracy: 1.0000 - val_loss: 1.5742 - val_accuracy: 0.6615\n",
      "Epoch 24/100\n",
      "24/24 [==============================] - 0s 7ms/step - loss: 4.4329e-04 - accuracy: 1.0000 - val_loss: 1.5675 - val_accuracy: 0.6562\n",
      "Epoch 25/100\n",
      "24/24 [==============================] - 0s 7ms/step - loss: 4.5191e-04 - accuracy: 1.0000 - val_loss: 1.5655 - val_accuracy: 0.6510\n",
      "Epoch 26/100\n",
      "24/24 [==============================] - 0s 7ms/step - loss: 4.4844e-04 - accuracy: 1.0000 - val_loss: 1.5910 - val_accuracy: 0.6615\n",
      "Epoch 27/100\n",
      "24/24 [==============================] - 0s 7ms/step - loss: 4.2975e-04 - accuracy: 1.0000 - val_loss: 1.5708 - val_accuracy: 0.6510\n",
      "Epoch 28/100\n",
      "24/24 [==============================] - 0s 7ms/step - loss: 4.3338e-04 - accuracy: 1.0000 - val_loss: 1.5668 - val_accuracy: 0.6458\n",
      "Epoch 29/100\n",
      "24/24 [==============================] - 0s 7ms/step - loss: 4.2393e-04 - accuracy: 1.0000 - val_loss: 1.5794 - val_accuracy: 0.6510\n",
      "Epoch 30/100\n",
      "24/24 [==============================] - 0s 7ms/step - loss: 4.0590e-04 - accuracy: 1.0000 - val_loss: 1.5674 - val_accuracy: 0.6562\n",
      "Epoch 31/100\n",
      "24/24 [==============================] - 0s 7ms/step - loss: 4.8006e-04 - accuracy: 1.0000 - val_loss: 1.5659 - val_accuracy: 0.6562\n",
      "Epoch 32/100\n",
      "24/24 [==============================] - 0s 7ms/step - loss: 4.6777e-04 - accuracy: 1.0000 - val_loss: 1.5830 - val_accuracy: 0.6562\n",
      "Epoch 33/100\n",
      "24/24 [==============================] - 0s 7ms/step - loss: 4.0477e-04 - accuracy: 1.0000 - val_loss: 1.6183 - val_accuracy: 0.6562\n",
      "Epoch 34/100\n",
      "24/24 [==============================] - 0s 7ms/step - loss: 3.8643e-04 - accuracy: 1.0000 - val_loss: 1.5928 - val_accuracy: 0.6562\n",
      "Epoch 35/100\n",
      "24/24 [==============================] - 0s 7ms/step - loss: 3.7334e-04 - accuracy: 1.0000 - val_loss: 1.5814 - val_accuracy: 0.6510\n",
      "Epoch 36/100\n",
      "24/24 [==============================] - 0s 7ms/step - loss: 4.0837e-04 - accuracy: 1.0000 - val_loss: 1.5880 - val_accuracy: 0.6562\n",
      "Epoch 37/100\n",
      "24/24 [==============================] - 0s 7ms/step - loss: 3.6230e-04 - accuracy: 1.0000 - val_loss: 1.6170 - val_accuracy: 0.6615\n",
      "Epoch 38/100\n",
      "24/24 [==============================] - 0s 7ms/step - loss: 3.6563e-04 - accuracy: 1.0000 - val_loss: 1.6030 - val_accuracy: 0.6510\n",
      "Epoch 39/100\n",
      "24/24 [==============================] - 0s 7ms/step - loss: 3.5245e-04 - accuracy: 1.0000 - val_loss: 1.5921 - val_accuracy: 0.6510\n",
      "Epoch 40/100\n",
      "24/24 [==============================] - 0s 7ms/step - loss: 3.5318e-04 - accuracy: 1.0000 - val_loss: 1.6088 - val_accuracy: 0.6510\n",
      "Epoch 41/100\n",
      "24/24 [==============================] - 0s 7ms/step - loss: 3.3628e-04 - accuracy: 1.0000 - val_loss: 1.6129 - val_accuracy: 0.6562\n",
      "Epoch 42/100\n",
      "24/24 [==============================] - 0s 7ms/step - loss: 3.3736e-04 - accuracy: 1.0000 - val_loss: 1.6184 - val_accuracy: 0.6562\n",
      "Epoch 43/100\n",
      "24/24 [==============================] - 0s 8ms/step - loss: 3.2015e-04 - accuracy: 1.0000 - val_loss: 1.6328 - val_accuracy: 0.6562\n",
      "Epoch 44/100\n",
      "24/24 [==============================] - 0s 8ms/step - loss: 3.2658e-04 - accuracy: 1.0000 - val_loss: 1.6376 - val_accuracy: 0.6615\n",
      "Epoch 45/100\n",
      "24/24 [==============================] - 0s 7ms/step - loss: 3.1721e-04 - accuracy: 1.0000 - val_loss: 1.6370 - val_accuracy: 0.6615\n",
      "Epoch 46/100\n",
      "24/24 [==============================] - 0s 7ms/step - loss: 3.1861e-04 - accuracy: 1.0000 - val_loss: 1.6336 - val_accuracy: 0.6615\n",
      "Epoch 47/100\n",
      "24/24 [==============================] - 0s 7ms/step - loss: 3.0380e-04 - accuracy: 1.0000 - val_loss: 1.6325 - val_accuracy: 0.6562\n",
      "Epoch 48/100\n",
      "24/24 [==============================] - 0s 7ms/step - loss: 3.0023e-04 - accuracy: 1.0000 - val_loss: 1.6375 - val_accuracy: 0.6615\n",
      "Epoch 49/100\n",
      "24/24 [==============================] - 0s 7ms/step - loss: 3.0060e-04 - accuracy: 1.0000 - val_loss: 1.6371 - val_accuracy: 0.6615\n",
      "Epoch 50/100\n",
      "24/24 [==============================] - 0s 7ms/step - loss: 2.8977e-04 - accuracy: 1.0000 - val_loss: 1.6455 - val_accuracy: 0.6562\n",
      "Epoch 51/100\n",
      "24/24 [==============================] - 0s 7ms/step - loss: 3.0381e-04 - accuracy: 1.0000 - val_loss: 1.6473 - val_accuracy: 0.6615\n",
      "Epoch 52/100\n",
      "24/24 [==============================] - 0s 7ms/step - loss: 3.0468e-04 - accuracy: 1.0000 - val_loss: 1.6322 - val_accuracy: 0.6458\n",
      "Epoch 53/100\n",
      "24/24 [==============================] - 0s 7ms/step - loss: 2.7804e-04 - accuracy: 1.0000 - val_loss: 1.6392 - val_accuracy: 0.6510\n",
      "Epoch 54/100\n",
      "24/24 [==============================] - 0s 7ms/step - loss: 2.8162e-04 - accuracy: 1.0000 - val_loss: 1.6339 - val_accuracy: 0.6458\n",
      "Epoch 55/100\n",
      "24/24 [==============================] - 0s 7ms/step - loss: 2.7000e-04 - accuracy: 1.0000 - val_loss: 1.6940 - val_accuracy: 0.6615\n",
      "Epoch 56/100\n",
      "24/24 [==============================] - 0s 7ms/step - loss: 2.7877e-04 - accuracy: 1.0000 - val_loss: 1.6346 - val_accuracy: 0.6510\n",
      "Epoch 57/100\n",
      "24/24 [==============================] - 0s 7ms/step - loss: 2.6111e-04 - accuracy: 1.0000 - val_loss: 1.7077 - val_accuracy: 0.6615\n",
      "Epoch 58/100\n",
      "24/24 [==============================] - 0s 7ms/step - loss: 2.6384e-04 - accuracy: 1.0000 - val_loss: 1.6450 - val_accuracy: 0.6510\n",
      "Epoch 59/100\n",
      "24/24 [==============================] - 0s 7ms/step - loss: 2.5779e-04 - accuracy: 1.0000 - val_loss: 1.6610 - val_accuracy: 0.6615\n",
      "Epoch 60/100\n",
      "24/24 [==============================] - 0s 7ms/step - loss: 2.5187e-04 - accuracy: 1.0000 - val_loss: 1.6618 - val_accuracy: 0.6615\n",
      "Epoch 61/100\n",
      "24/24 [==============================] - 0s 7ms/step - loss: 2.4170e-04 - accuracy: 1.0000 - val_loss: 1.6708 - val_accuracy: 0.6615\n",
      "Epoch 62/100\n",
      "24/24 [==============================] - 0s 7ms/step - loss: 2.3822e-04 - accuracy: 1.0000 - val_loss: 1.6742 - val_accuracy: 0.6510\n",
      "Epoch 63/100\n",
      "24/24 [==============================] - 0s 7ms/step - loss: 2.4056e-04 - accuracy: 1.0000 - val_loss: 1.6786 - val_accuracy: 0.6562\n",
      "Epoch 64/100\n",
      "24/24 [==============================] - 0s 7ms/step - loss: 2.3082e-04 - accuracy: 1.0000 - val_loss: 1.6699 - val_accuracy: 0.6510\n",
      "Epoch 65/100\n",
      "24/24 [==============================] - 0s 7ms/step - loss: 2.4036e-04 - accuracy: 1.0000 - val_loss: 1.6482 - val_accuracy: 0.6458\n",
      "Epoch 66/100\n",
      "24/24 [==============================] - 0s 7ms/step - loss: 2.2971e-04 - accuracy: 1.0000 - val_loss: 1.6785 - val_accuracy: 0.6562\n",
      "Epoch 67/100\n",
      "24/24 [==============================] - 0s 7ms/step - loss: 2.2154e-04 - accuracy: 1.0000 - val_loss: 1.6964 - val_accuracy: 0.6510\n",
      "Epoch 68/100\n",
      "24/24 [==============================] - 0s 7ms/step - loss: 2.1742e-04 - accuracy: 1.0000 - val_loss: 1.6865 - val_accuracy: 0.6510\n",
      "Epoch 69/100\n",
      "24/24 [==============================] - 0s 7ms/step - loss: 2.1284e-04 - accuracy: 1.0000 - val_loss: 1.6703 - val_accuracy: 0.6562\n",
      "Epoch 70/100\n",
      "24/24 [==============================] - 0s 7ms/step - loss: 2.2144e-04 - accuracy: 1.0000 - val_loss: 1.6822 - val_accuracy: 0.6510\n",
      "Epoch 71/100\n",
      "24/24 [==============================] - 0s 7ms/step - loss: 2.0969e-04 - accuracy: 1.0000 - val_loss: 1.6888 - val_accuracy: 0.6562\n",
      "Epoch 72/100\n",
      "24/24 [==============================] - 0s 7ms/step - loss: 2.0710e-04 - accuracy: 1.0000 - val_loss: 1.6857 - val_accuracy: 0.6510\n",
      "Epoch 73/100\n",
      "24/24 [==============================] - 0s 7ms/step - loss: 2.0851e-04 - accuracy: 1.0000 - val_loss: 1.6960 - val_accuracy: 0.6562\n",
      "Epoch 74/100\n",
      "24/24 [==============================] - 0s 7ms/step - loss: 2.0326e-04 - accuracy: 1.0000 - val_loss: 1.6910 - val_accuracy: 0.6406\n",
      "Epoch 75/100\n",
      "24/24 [==============================] - 0s 7ms/step - loss: 1.9918e-04 - accuracy: 1.0000 - val_loss: 1.7165 - val_accuracy: 0.6562\n",
      "Epoch 76/100\n",
      "24/24 [==============================] - 0s 7ms/step - loss: 1.9515e-04 - accuracy: 1.0000 - val_loss: 1.7080 - val_accuracy: 0.6562\n",
      "Epoch 77/100\n",
      "24/24 [==============================] - 0s 7ms/step - loss: 1.9323e-04 - accuracy: 1.0000 - val_loss: 1.6995 - val_accuracy: 0.6510\n",
      "Epoch 78/100\n",
      "24/24 [==============================] - 0s 7ms/step - loss: 1.8898e-04 - accuracy: 1.0000 - val_loss: 1.7225 - val_accuracy: 0.6510\n",
      "Epoch 79/100\n",
      "24/24 [==============================] - 0s 7ms/step - loss: 1.8558e-04 - accuracy: 1.0000 - val_loss: 1.7127 - val_accuracy: 0.6510\n",
      "Epoch 80/100\n",
      "24/24 [==============================] - 0s 7ms/step - loss: 1.8050e-04 - accuracy: 1.0000 - val_loss: 1.7432 - val_accuracy: 0.6615\n",
      "Epoch 81/100\n",
      "24/24 [==============================] - 0s 7ms/step - loss: 1.8301e-04 - accuracy: 1.0000 - val_loss: 1.7110 - val_accuracy: 0.6510\n",
      "Epoch 82/100\n",
      "24/24 [==============================] - 0s 7ms/step - loss: 1.7947e-04 - accuracy: 1.0000 - val_loss: 1.7145 - val_accuracy: 0.6458\n",
      "Epoch 83/100\n",
      "24/24 [==============================] - 0s 7ms/step - loss: 1.7388e-04 - accuracy: 1.0000 - val_loss: 1.7402 - val_accuracy: 0.6510\n",
      "Epoch 84/100\n",
      "24/24 [==============================] - 0s 7ms/step - loss: 1.7375e-04 - accuracy: 1.0000 - val_loss: 1.7290 - val_accuracy: 0.6562\n",
      "Epoch 85/100\n",
      "24/24 [==============================] - 0s 7ms/step - loss: 1.7239e-04 - accuracy: 1.0000 - val_loss: 1.7186 - val_accuracy: 0.6458\n",
      "Epoch 86/100\n",
      "24/24 [==============================] - 0s 7ms/step - loss: 1.6738e-04 - accuracy: 1.0000 - val_loss: 1.7238 - val_accuracy: 0.6562\n",
      "Epoch 87/100\n",
      "24/24 [==============================] - 0s 7ms/step - loss: 1.6401e-04 - accuracy: 1.0000 - val_loss: 1.7453 - val_accuracy: 0.6510\n",
      "Epoch 88/100\n",
      "24/24 [==============================] - 0s 7ms/step - loss: 1.6629e-04 - accuracy: 1.0000 - val_loss: 1.7085 - val_accuracy: 0.6510\n",
      "Epoch 89/100\n",
      "24/24 [==============================] - 0s 7ms/step - loss: 1.5494e-04 - accuracy: 1.0000 - val_loss: 1.7496 - val_accuracy: 0.6562\n",
      "Epoch 90/100\n",
      "24/24 [==============================] - 0s 7ms/step - loss: 1.5912e-04 - accuracy: 1.0000 - val_loss: 1.7291 - val_accuracy: 0.6458\n",
      "Epoch 91/100\n",
      "24/24 [==============================] - 0s 7ms/step - loss: 1.5432e-04 - accuracy: 1.0000 - val_loss: 1.7454 - val_accuracy: 0.6562\n",
      "Epoch 92/100\n",
      "24/24 [==============================] - 0s 7ms/step - loss: 1.5212e-04 - accuracy: 1.0000 - val_loss: 1.7392 - val_accuracy: 0.6510\n",
      "Epoch 93/100\n",
      "24/24 [==============================] - 0s 7ms/step - loss: 1.5119e-04 - accuracy: 1.0000 - val_loss: 1.7355 - val_accuracy: 0.6458\n",
      "Epoch 94/100\n",
      "24/24 [==============================] - 0s 7ms/step - loss: 1.4588e-04 - accuracy: 1.0000 - val_loss: 1.7542 - val_accuracy: 0.6562\n",
      "Epoch 95/100\n",
      "24/24 [==============================] - 0s 7ms/step - loss: 1.4382e-04 - accuracy: 1.0000 - val_loss: 1.7472 - val_accuracy: 0.6458\n",
      "Epoch 96/100\n",
      "24/24 [==============================] - 0s 7ms/step - loss: 1.4778e-04 - accuracy: 1.0000 - val_loss: 1.7864 - val_accuracy: 0.6562\n",
      "Epoch 97/100\n",
      "24/24 [==============================] - 0s 7ms/step - loss: 1.4358e-04 - accuracy: 1.0000 - val_loss: 1.7655 - val_accuracy: 0.6510\n",
      "Epoch 98/100\n",
      "24/24 [==============================] - 0s 7ms/step - loss: 1.3867e-04 - accuracy: 1.0000 - val_loss: 1.7606 - val_accuracy: 0.6562\n",
      "Epoch 99/100\n",
      "24/24 [==============================] - 0s 7ms/step - loss: 1.3540e-04 - accuracy: 1.0000 - val_loss: 1.7641 - val_accuracy: 0.6510\n",
      "Epoch 100/100\n",
      "24/24 [==============================] - 0s 7ms/step - loss: 1.3320e-04 - accuracy: 1.0000 - val_loss: 1.7828 - val_accuracy: 0.6510\n"
     ]
    }
   ],
   "source": [
    "history = model1.fit(x=train_images, \n",
    "          y=train_labels, \n",
    "          epochs=100, \n",
    "          validation_split=0.2)"
   ]
  },
  {
   "cell_type": "markdown",
   "metadata": {
    "colab_type": "text",
    "id": "--8MU45Hp_3g"
   },
   "source": [
    "# Model Evaluation"
   ]
  },
  {
   "cell_type": "code",
   "execution_count": null,
   "metadata": {
    "colab": {
     "base_uri": "https://localhost:8080/",
     "height": 821
    },
    "colab_type": "code",
    "id": "Ai_AhoXCtedZ",
    "outputId": "8336ded7-0530-4025-a3a3-6a2873501fd8"
   },
   "outputs": [
    {
     "data": {
      "application/javascript": [
       "\n",
       "        (async () => {\n",
       "            const url = await google.colab.kernel.proxyPort(6006, {\"cache\": true});\n",
       "            const iframe = document.createElement('iframe');\n",
       "            iframe.src = url;\n",
       "            iframe.setAttribute('width', '100%');\n",
       "            iframe.setAttribute('height', '800');\n",
       "            iframe.setAttribute('frameborder', 0);\n",
       "            document.body.appendChild(iframe);\n",
       "        })();\n",
       "    "
      ],
      "text/plain": [
       "<IPython.core.display.Javascript object>"
      ]
     },
     "metadata": {
      "tags": []
     },
     "output_type": "display_data"
    }
   ],
   "source": [
    "# Clear any logs from previous runs\n",
    "!rm -rf ./logs/ \n",
    "\n",
    "%tensorboard --logdir logs/fit"
   ]
  },
  {
   "cell_type": "code",
   "execution_count": null,
   "metadata": {
    "colab": {},
    "colab_type": "code",
    "id": "u7nNDaq3HvMx"
   },
   "outputs": [],
   "source": [
    "! kill 325"
   ]
  },
  {
   "cell_type": "code",
   "execution_count": 60,
   "metadata": {
    "colab": {
     "base_uri": "https://localhost:8080/",
     "height": 68
    },
    "colab_type": "code",
    "id": "2demYIZ_fnIR",
    "outputId": "38180e47-1cff-4eeb-a5ae-21b79d65814c"
   },
   "outputs": [
    {
     "name": "stdout",
     "output_type": "stream",
     "text": [
      "8/8 - 0s - loss: 1.6045 - accuracy: 0.6958\n",
      "\n",
      "Test accuracy: 0.6958333253860474\n"
     ]
    }
   ],
   "source": [
    "test_loss, test_accuracy = model1.evaluate(test_images, test_labels, verbose = 2)\n",
    "print('\\nTest accuracy:', test_accuracy)"
   ]
  },
  {
   "cell_type": "code",
   "execution_count": 55,
   "metadata": {
    "colab": {
     "base_uri": "https://localhost:8080/",
     "height": 295
    },
    "colab_type": "code",
    "id": "AeTT_T2E38V7",
    "outputId": "e2812f02-8be6-4b92-fb76-03e295107ccb"
   },
   "outputs": [
    {
     "data": {
      "image/png": "[encoded data removed]",
      "text/plain": [
       "<Figure size 432x288 with 1 Axes>"
      ]
     },
     "metadata": {
      "needs_background": "light",
      "tags": []
     },
     "output_type": "display_data"
    }
   ],
   "source": [
    "import matplotlib.pyplot as plt \n",
    "plt.plot(history.history['accuracy'])\n",
    "plt.plot(history.history['val_accuracy'])\n",
    "plt.title('Model Accuracy')\n",
    "plt.ylabel('accuracy')\n",
    "plt.xlabel('epoch')\n",
    "plt.legend(['Train', 'Validation'])\n",
    "plt.show()"
   ]
  },
  {
   "cell_type": "code",
   "execution_count": 56,
   "metadata": {
    "colab": {
     "base_uri": "https://localhost:8080/",
     "height": 295
    },
    "colab_type": "code",
    "id": "TnVs5GnS5CFP",
    "outputId": "524bb467-9aba-4119-eb18-2242e9d5d39f"
   },
   "outputs": [
    {
     "data": {
      "image/png": "[encoded data removed]",
      "text/plain": [
       "<Figure size 432x288 with 1 Axes>"
      ]
     },
     "metadata": {
      "needs_background": "light",
      "tags": []
     },
     "output_type": "display_data"
    }
   ],
   "source": [
    "plt.plot(history.history['loss'])\n",
    "plt.plot(history.history['val_loss'])\n",
    "plt.title('Model Loss')\n",
    "plt.ylabel('loss')\n",
    "plt.xlabel('epoch')\n",
    "plt.legend(['Train', 'Validation'])\n",
    "plt.show()"
   ]
  },
  {
   "cell_type": "markdown",
   "metadata": {
    "colab_type": "text",
    "id": "2PBxLK2YMiYP"
   },
   "source": [
    "Overfitting was observed as the model performed well on the training data but poorly on the validation data. I selected **Early stopping** as an optimization technique to combat overfitting."
   ]
  },
  {
   "cell_type": "markdown",
   "metadata": {
    "colab_type": "text",
    "id": "bKHM7BkZLMCN"
   },
   "source": [
    "# Model Optimization \n",
    "\n",
    "#### Early Stopping"
   ]
  },
  {
   "cell_type": "code",
   "execution_count": 61,
   "metadata": {
    "colab": {},
    "colab_type": "code",
    "id": "EPbVIt4ILKYM"
   },
   "outputs": [],
   "source": [
    "earlystopping_callback = EarlyStopping(monitor = \"val_loss\", \n",
    "                                       min_delta = 0, \n",
    "                                       patience = 5, \n",
    "                                       verbose = 1, \n",
    "                                       mode = \"auto\", \n",
    "                                       baseline = None, \n",
    "                                       restore_best_weights = False)"
   ]
  },
  {
   "cell_type": "code",
   "execution_count": 71,
   "metadata": {
    "colab": {
     "base_uri": "https://localhost:8080/",
     "height": 275
    },
    "colab_type": "code",
    "id": "COuh0KFrOROH",
    "outputId": "817f32d7-ba07-4e03-af38-a53250c4036f"
   },
   "outputs": [
    {
     "name": "stdout",
     "output_type": "stream",
     "text": [
      "Epoch 1/100\n",
      " 1/24 [>.............................] - ETA: 0s - loss: 8.7587e-05 - accuracy: 1.0000WARNING:tensorflow:Callbacks method `on_train_batch_end` is slow compared to the batch time (batch time: 0.0064s vs `on_train_batch_end` time: 0.0167s). Check your callbacks.\n",
      "24/24 [==============================] - 1s 55ms/step - loss: 9.6407e-05 - accuracy: 1.0000 - val_loss: 1.8229 - val_accuracy: 0.6562\n",
      "Epoch 2/100\n",
      "24/24 [==============================] - 1s 51ms/step - loss: 9.3259e-05 - accuracy: 1.0000 - val_loss: 1.8234 - val_accuracy: 0.6510\n",
      "Epoch 3/100\n",
      "24/24 [==============================] - 1s 51ms/step - loss: 9.4262e-05 - accuracy: 1.0000 - val_loss: 1.8289 - val_accuracy: 0.6510\n",
      "Epoch 4/100\n",
      "24/24 [==============================] - 1s 51ms/step - loss: 9.1624e-05 - accuracy: 1.0000 - val_loss: 1.8293 - val_accuracy: 0.6510\n",
      "Epoch 5/100\n",
      "24/24 [==============================] - 1s 51ms/step - loss: 9.3647e-05 - accuracy: 1.0000 - val_loss: 1.8328 - val_accuracy: 0.6510\n",
      "Epoch 6/100\n",
      "24/24 [==============================] - 1s 51ms/step - loss: 8.9827e-05 - accuracy: 1.0000 - val_loss: 1.8573 - val_accuracy: 0.6562\n",
      "Epoch 00006: early stopping\n"
     ]
    }
   ],
   "source": [
    "history = model1.fit(x=train_images, \n",
    "          y=train_labels, \n",
    "          epochs=100, \n",
    "          validation_split=0.2,\n",
    "          callbacks = [tensorboard_callback, earlystopping_callback])"
   ]
  },
  {
   "cell_type": "code",
   "execution_count": 72,
   "metadata": {
    "colab": {
     "base_uri": "https://localhost:8080/",
     "height": 68
    },
    "colab_type": "code",
    "id": "6SM2gSIeOZNr",
    "outputId": "766e63cc-c76e-4d94-8a1c-cfcc1860ceba"
   },
   "outputs": [
    {
     "name": "stdout",
     "output_type": "stream",
     "text": [
      "8/8 - 0s - loss: 1.6531 - accuracy: 0.6917\n",
      "\n",
      "Test accuracy: 0.6916666626930237\n"
     ]
    }
   ],
   "source": [
    "test_loss, test_accuracy = model1.evaluate(test_images, test_labels, verbose = 2)\n",
    "print('\\nTest accuracy:', test_accuracy)"
   ]
  },
  {
   "cell_type": "markdown",
   "metadata": {
    "colab_type": "text",
    "id": "s-K3GOlAPAcv"
   },
   "source": [
    "**Summary**: There is no major change in accuracy even after optimizing the model. hence Model2 was tried with multipe layers."
   ]
  },
  {
   "cell_type": "markdown",
   "metadata": {
    "colab_type": "text",
    "id": "WjUWBoqF0ISD"
   },
   "source": [
    "#### Model 2"
   ]
  },
  {
   "cell_type": "code",
   "execution_count": 75,
   "metadata": {
    "colab": {
     "base_uri": "https://localhost:8080/",
     "height": 765
    },
    "colab_type": "code",
    "id": "uJmYelMnx95l",
    "outputId": "219535ba-18d6-4817-ff25-c65dcf73ab9b"
   },
   "outputs": [
    {
     "name": "stdout",
     "output_type": "stream",
     "text": [
      "Epoch 1/100\n"
     ]
    },
    {
     "ename": "ValueError",
     "evalue": "ignored",
     "output_type": "error",
     "traceback": [
      "\u001b[0;31m---------------------------------------------------------------------------\u001b[0m",
      "\u001b[0;31mValueError\u001b[0m                                Traceback (most recent call last)",
      "\u001b[0;32m<ipython-input-75-bec21e534d69>\u001b[0m in \u001b[0;36m<module>\u001b[0;34m()\u001b[0m\n\u001b[1;32m     28\u001b[0m                      \u001b[0mverbose\u001b[0m \u001b[0;34m=\u001b[0m \u001b[0;36m1\u001b[0m\u001b[0;34m,\u001b[0m\u001b[0;34m\u001b[0m\u001b[0;34m\u001b[0m\u001b[0m\n\u001b[1;32m     29\u001b[0m                      \u001b[0mvalidation_split\u001b[0m \u001b[0;34m=\u001b[0m \u001b[0;36m0.2\u001b[0m\u001b[0;34m,\u001b[0m\u001b[0;34m\u001b[0m\u001b[0;34m\u001b[0m\u001b[0m\n\u001b[0;32m---> 30\u001b[0;31m                      callbacks = earlystopping_callback)\n\u001b[0m\u001b[1;32m     31\u001b[0m \u001b[0;34m\u001b[0m\u001b[0m\n\u001b[1;32m     32\u001b[0m \u001b[0;31m#Evaluate the model\u001b[0m\u001b[0;34m\u001b[0m\u001b[0;34m\u001b[0m\u001b[0;34m\u001b[0m\u001b[0m\n",
      "\u001b[0;32m/usr/local/lib/python3.6/dist-packages/tensorflow/python/keras/engine/training.py\u001b[0m in \u001b[0;36m_method_wrapper\u001b[0;34m(self, *args, **kwargs)\u001b[0m\n\u001b[1;32m    106\u001b[0m   \u001b[0;32mdef\u001b[0m \u001b[0m_method_wrapper\u001b[0m\u001b[0;34m(\u001b[0m\u001b[0mself\u001b[0m\u001b[0;34m,\u001b[0m \u001b[0;34m*\u001b[0m\u001b[0margs\u001b[0m\u001b[0;34m,\u001b[0m \u001b[0;34m**\u001b[0m\u001b[0mkwargs\u001b[0m\u001b[0;34m)\u001b[0m\u001b[0;34m:\u001b[0m\u001b[0;34m\u001b[0m\u001b[0;34m\u001b[0m\u001b[0m\n\u001b[1;32m    107\u001b[0m     \u001b[0;32mif\u001b[0m \u001b[0;32mnot\u001b[0m \u001b[0mself\u001b[0m\u001b[0;34m.\u001b[0m\u001b[0m_in_multi_worker_mode\u001b[0m\u001b[0;34m(\u001b[0m\u001b[0;34m)\u001b[0m\u001b[0;34m:\u001b[0m  \u001b[0;31m# pylint: disable=protected-access\u001b[0m\u001b[0;34m\u001b[0m\u001b[0;34m\u001b[0m\u001b[0m\n\u001b[0;32m--> 108\u001b[0;31m       \u001b[0;32mreturn\u001b[0m \u001b[0mmethod\u001b[0m\u001b[0;34m(\u001b[0m\u001b[0mself\u001b[0m\u001b[0;34m,\u001b[0m \u001b[0;34m*\u001b[0m\u001b[0margs\u001b[0m\u001b[0;34m,\u001b[0m \u001b[0;34m**\u001b[0m\u001b[0mkwargs\u001b[0m\u001b[0;34m)\u001b[0m\u001b[0;34m\u001b[0m\u001b[0;34m\u001b[0m\u001b[0m\n\u001b[0m\u001b[1;32m    109\u001b[0m \u001b[0;34m\u001b[0m\u001b[0m\n\u001b[1;32m    110\u001b[0m     \u001b[0;31m# Running inside `run_distribute_coordinator` already.\u001b[0m\u001b[0;34m\u001b[0m\u001b[0;34m\u001b[0m\u001b[0;34m\u001b[0m\u001b[0m\n",
      "\u001b[0;32m/usr/local/lib/python3.6/dist-packages/tensorflow/python/keras/engine/training.py\u001b[0m in \u001b[0;36mfit\u001b[0;34m(self, x, y, batch_size, epochs, verbose, callbacks, validation_split, validation_data, shuffle, class_weight, sample_weight, initial_epoch, steps_per_epoch, validation_steps, validation_batch_size, validation_freq, max_queue_size, workers, use_multiprocessing)\u001b[0m\n\u001b[1;32m   1096\u001b[0m                 batch_size=batch_size):\n\u001b[1;32m   1097\u001b[0m               \u001b[0mcallbacks\u001b[0m\u001b[0;34m.\u001b[0m\u001b[0mon_train_batch_begin\u001b[0m\u001b[0;34m(\u001b[0m\u001b[0mstep\u001b[0m\u001b[0;34m)\u001b[0m\u001b[0;34m\u001b[0m\u001b[0;34m\u001b[0m\u001b[0m\n\u001b[0;32m-> 1098\u001b[0;31m               \u001b[0mtmp_logs\u001b[0m \u001b[0;34m=\u001b[0m \u001b[0mtrain_function\u001b[0m\u001b[0;34m(\u001b[0m\u001b[0miterator\u001b[0m\u001b[0;34m)\u001b[0m\u001b[0;34m\u001b[0m\u001b[0;34m\u001b[0m\u001b[0m\n\u001b[0m\u001b[1;32m   1099\u001b[0m               \u001b[0;32mif\u001b[0m \u001b[0mdata_handler\u001b[0m\u001b[0;34m.\u001b[0m\u001b[0mshould_sync\u001b[0m\u001b[0;34m:\u001b[0m\u001b[0;34m\u001b[0m\u001b[0;34m\u001b[0m\u001b[0m\n\u001b[1;32m   1100\u001b[0m                 \u001b[0mcontext\u001b[0m\u001b[0;34m.\u001b[0m\u001b[0masync_wait\u001b[0m\u001b[0;34m(\u001b[0m\u001b[0;34m)\u001b[0m\u001b[0;34m\u001b[0m\u001b[0;34m\u001b[0m\u001b[0m\n",
      "\u001b[0;32m/usr/local/lib/python3.6/dist-packages/tensorflow/python/eager/def_function.py\u001b[0m in \u001b[0;36m__call__\u001b[0;34m(self, *args, **kwds)\u001b[0m\n\u001b[1;32m    778\u001b[0m       \u001b[0;32melse\u001b[0m\u001b[0;34m:\u001b[0m\u001b[0;34m\u001b[0m\u001b[0;34m\u001b[0m\u001b[0m\n\u001b[1;32m    779\u001b[0m         \u001b[0mcompiler\u001b[0m \u001b[0;34m=\u001b[0m \u001b[0;34m\"nonXla\"\u001b[0m\u001b[0;34m\u001b[0m\u001b[0;34m\u001b[0m\u001b[0m\n\u001b[0;32m--> 780\u001b[0;31m         \u001b[0mresult\u001b[0m \u001b[0;34m=\u001b[0m \u001b[0mself\u001b[0m\u001b[0;34m.\u001b[0m\u001b[0m_call\u001b[0m\u001b[0;34m(\u001b[0m\u001b[0;34m*\u001b[0m\u001b[0margs\u001b[0m\u001b[0;34m,\u001b[0m \u001b[0;34m**\u001b[0m\u001b[0mkwds\u001b[0m\u001b[0;34m)\u001b[0m\u001b[0;34m\u001b[0m\u001b[0;34m\u001b[0m\u001b[0m\n\u001b[0m\u001b[1;32m    781\u001b[0m \u001b[0;34m\u001b[0m\u001b[0m\n\u001b[1;32m    782\u001b[0m       \u001b[0mnew_tracing_count\u001b[0m \u001b[0;34m=\u001b[0m \u001b[0mself\u001b[0m\u001b[0;34m.\u001b[0m\u001b[0m_get_tracing_count\u001b[0m\u001b[0;34m(\u001b[0m\u001b[0;34m)\u001b[0m\u001b[0;34m\u001b[0m\u001b[0;34m\u001b[0m\u001b[0m\n",
      "\u001b[0;32m/usr/local/lib/python3.6/dist-packages/tensorflow/python/eager/def_function.py\u001b[0m in \u001b[0;36m_call\u001b[0;34m(self, *args, **kwds)\u001b[0m\n\u001b[1;32m    821\u001b[0m       \u001b[0;31m# This is the first call of __call__, so we have to initialize.\u001b[0m\u001b[0;34m\u001b[0m\u001b[0;34m\u001b[0m\u001b[0;34m\u001b[0m\u001b[0m\n\u001b[1;32m    822\u001b[0m       \u001b[0minitializers\u001b[0m \u001b[0;34m=\u001b[0m \u001b[0;34m[\u001b[0m\u001b[0;34m]\u001b[0m\u001b[0;34m\u001b[0m\u001b[0;34m\u001b[0m\u001b[0m\n\u001b[0;32m--> 823\u001b[0;31m       \u001b[0mself\u001b[0m\u001b[0;34m.\u001b[0m\u001b[0m_initialize\u001b[0m\u001b[0;34m(\u001b[0m\u001b[0margs\u001b[0m\u001b[0;34m,\u001b[0m \u001b[0mkwds\u001b[0m\u001b[0;34m,\u001b[0m \u001b[0madd_initializers_to\u001b[0m\u001b[0;34m=\u001b[0m\u001b[0minitializers\u001b[0m\u001b[0;34m)\u001b[0m\u001b[0;34m\u001b[0m\u001b[0;34m\u001b[0m\u001b[0m\n\u001b[0m\u001b[1;32m    824\u001b[0m     \u001b[0;32mfinally\u001b[0m\u001b[0;34m:\u001b[0m\u001b[0;34m\u001b[0m\u001b[0;34m\u001b[0m\u001b[0m\n\u001b[1;32m    825\u001b[0m       \u001b[0;31m# At this point we know that the initialization is complete (or less\u001b[0m\u001b[0;34m\u001b[0m\u001b[0;34m\u001b[0m\u001b[0;34m\u001b[0m\u001b[0m\n",
      "\u001b[0;32m/usr/local/lib/python3.6/dist-packages/tensorflow/python/eager/def_function.py\u001b[0m in \u001b[0;36m_initialize\u001b[0;34m(self, args, kwds, add_initializers_to)\u001b[0m\n\u001b[1;32m    695\u001b[0m     self._concrete_stateful_fn = (\n\u001b[1;32m    696\u001b[0m         self._stateful_fn._get_concrete_function_internal_garbage_collected(  # pylint: disable=protected-access\n\u001b[0;32m--> 697\u001b[0;31m             *args, **kwds))\n\u001b[0m\u001b[1;32m    698\u001b[0m \u001b[0;34m\u001b[0m\u001b[0m\n\u001b[1;32m    699\u001b[0m     \u001b[0;32mdef\u001b[0m \u001b[0minvalid_creator_scope\u001b[0m\u001b[0;34m(\u001b[0m\u001b[0;34m*\u001b[0m\u001b[0munused_args\u001b[0m\u001b[0;34m,\u001b[0m \u001b[0;34m**\u001b[0m\u001b[0munused_kwds\u001b[0m\u001b[0;34m)\u001b[0m\u001b[0;34m:\u001b[0m\u001b[0;34m\u001b[0m\u001b[0;34m\u001b[0m\u001b[0m\n",
      "\u001b[0;32m/usr/local/lib/python3.6/dist-packages/tensorflow/python/eager/function.py\u001b[0m in \u001b[0;36m_get_concrete_function_internal_garbage_collected\u001b[0;34m(self, *args, **kwargs)\u001b[0m\n\u001b[1;32m   2853\u001b[0m       \u001b[0margs\u001b[0m\u001b[0;34m,\u001b[0m \u001b[0mkwargs\u001b[0m \u001b[0;34m=\u001b[0m \u001b[0;32mNone\u001b[0m\u001b[0;34m,\u001b[0m \u001b[0;32mNone\u001b[0m\u001b[0;34m\u001b[0m\u001b[0;34m\u001b[0m\u001b[0m\n\u001b[1;32m   2854\u001b[0m     \u001b[0;32mwith\u001b[0m \u001b[0mself\u001b[0m\u001b[0;34m.\u001b[0m\u001b[0m_lock\u001b[0m\u001b[0;34m:\u001b[0m\u001b[0;34m\u001b[0m\u001b[0;34m\u001b[0m\u001b[0m\n\u001b[0;32m-> 2855\u001b[0;31m       \u001b[0mgraph_function\u001b[0m\u001b[0;34m,\u001b[0m \u001b[0m_\u001b[0m\u001b[0;34m,\u001b[0m \u001b[0m_\u001b[0m \u001b[0;34m=\u001b[0m \u001b[0mself\u001b[0m\u001b[0;34m.\u001b[0m\u001b[0m_maybe_define_function\u001b[0m\u001b[0;34m(\u001b[0m\u001b[0margs\u001b[0m\u001b[0;34m,\u001b[0m \u001b[0mkwargs\u001b[0m\u001b[0;34m)\u001b[0m\u001b[0;34m\u001b[0m\u001b[0;34m\u001b[0m\u001b[0m\n\u001b[0m\u001b[1;32m   2856\u001b[0m     \u001b[0;32mreturn\u001b[0m \u001b[0mgraph_function\u001b[0m\u001b[0;34m\u001b[0m\u001b[0;34m\u001b[0m\u001b[0m\n\u001b[1;32m   2857\u001b[0m \u001b[0;34m\u001b[0m\u001b[0m\n",
      "\u001b[0;32m/usr/local/lib/python3.6/dist-packages/tensorflow/python/eager/function.py\u001b[0m in \u001b[0;36m_maybe_define_function\u001b[0;34m(self, args, kwargs)\u001b[0m\n\u001b[1;32m   3211\u001b[0m \u001b[0;34m\u001b[0m\u001b[0m\n\u001b[1;32m   3212\u001b[0m       \u001b[0mself\u001b[0m\u001b[0;34m.\u001b[0m\u001b[0m_function_cache\u001b[0m\u001b[0;34m.\u001b[0m\u001b[0mmissed\u001b[0m\u001b[0;34m.\u001b[0m\u001b[0madd\u001b[0m\u001b[0;34m(\u001b[0m\u001b[0mcall_context_key\u001b[0m\u001b[0;34m)\u001b[0m\u001b[0;34m\u001b[0m\u001b[0;34m\u001b[0m\u001b[0m\n\u001b[0;32m-> 3213\u001b[0;31m       \u001b[0mgraph_function\u001b[0m \u001b[0;34m=\u001b[0m \u001b[0mself\u001b[0m\u001b[0;34m.\u001b[0m\u001b[0m_create_graph_function\u001b[0m\u001b[0;34m(\u001b[0m\u001b[0margs\u001b[0m\u001b[0;34m,\u001b[0m \u001b[0mkwargs\u001b[0m\u001b[0;34m)\u001b[0m\u001b[0;34m\u001b[0m\u001b[0;34m\u001b[0m\u001b[0m\n\u001b[0m\u001b[1;32m   3214\u001b[0m       \u001b[0mself\u001b[0m\u001b[0;34m.\u001b[0m\u001b[0m_function_cache\u001b[0m\u001b[0;34m.\u001b[0m\u001b[0mprimary\u001b[0m\u001b[0;34m[\u001b[0m\u001b[0mcache_key\u001b[0m\u001b[0;34m]\u001b[0m \u001b[0;34m=\u001b[0m \u001b[0mgraph_function\u001b[0m\u001b[0;34m\u001b[0m\u001b[0;34m\u001b[0m\u001b[0m\n\u001b[1;32m   3215\u001b[0m       \u001b[0;32mreturn\u001b[0m \u001b[0mgraph_function\u001b[0m\u001b[0;34m,\u001b[0m \u001b[0margs\u001b[0m\u001b[0;34m,\u001b[0m \u001b[0mkwargs\u001b[0m\u001b[0;34m\u001b[0m\u001b[0;34m\u001b[0m\u001b[0m\n",
      "\u001b[0;32m/usr/local/lib/python3.6/dist-packages/tensorflow/python/eager/function.py\u001b[0m in \u001b[0;36m_create_graph_function\u001b[0;34m(self, args, kwargs, override_flat_arg_shapes)\u001b[0m\n\u001b[1;32m   3073\u001b[0m             \u001b[0marg_names\u001b[0m\u001b[0;34m=\u001b[0m\u001b[0marg_names\u001b[0m\u001b[0;34m,\u001b[0m\u001b[0;34m\u001b[0m\u001b[0;34m\u001b[0m\u001b[0m\n\u001b[1;32m   3074\u001b[0m             \u001b[0moverride_flat_arg_shapes\u001b[0m\u001b[0;34m=\u001b[0m\u001b[0moverride_flat_arg_shapes\u001b[0m\u001b[0;34m,\u001b[0m\u001b[0;34m\u001b[0m\u001b[0;34m\u001b[0m\u001b[0m\n\u001b[0;32m-> 3075\u001b[0;31m             capture_by_value=self._capture_by_value),\n\u001b[0m\u001b[1;32m   3076\u001b[0m         \u001b[0mself\u001b[0m\u001b[0;34m.\u001b[0m\u001b[0m_function_attributes\u001b[0m\u001b[0;34m,\u001b[0m\u001b[0;34m\u001b[0m\u001b[0;34m\u001b[0m\u001b[0m\n\u001b[1;32m   3077\u001b[0m         \u001b[0mfunction_spec\u001b[0m\u001b[0;34m=\u001b[0m\u001b[0mself\u001b[0m\u001b[0;34m.\u001b[0m\u001b[0mfunction_spec\u001b[0m\u001b[0;34m,\u001b[0m\u001b[0;34m\u001b[0m\u001b[0;34m\u001b[0m\u001b[0m\n",
      "\u001b[0;32m/usr/local/lib/python3.6/dist-packages/tensorflow/python/framework/func_graph.py\u001b[0m in \u001b[0;36mfunc_graph_from_py_func\u001b[0;34m(name, python_func, args, kwargs, signature, func_graph, autograph, autograph_options, add_control_dependencies, arg_names, op_return_value, collections, capture_by_value, override_flat_arg_shapes)\u001b[0m\n\u001b[1;32m    984\u001b[0m         \u001b[0m_\u001b[0m\u001b[0;34m,\u001b[0m \u001b[0moriginal_func\u001b[0m \u001b[0;34m=\u001b[0m \u001b[0mtf_decorator\u001b[0m\u001b[0;34m.\u001b[0m\u001b[0munwrap\u001b[0m\u001b[0;34m(\u001b[0m\u001b[0mpython_func\u001b[0m\u001b[0;34m)\u001b[0m\u001b[0;34m\u001b[0m\u001b[0;34m\u001b[0m\u001b[0m\n\u001b[1;32m    985\u001b[0m \u001b[0;34m\u001b[0m\u001b[0m\n\u001b[0;32m--> 986\u001b[0;31m       \u001b[0mfunc_outputs\u001b[0m \u001b[0;34m=\u001b[0m \u001b[0mpython_func\u001b[0m\u001b[0;34m(\u001b[0m\u001b[0;34m*\u001b[0m\u001b[0mfunc_args\u001b[0m\u001b[0;34m,\u001b[0m \u001b[0;34m**\u001b[0m\u001b[0mfunc_kwargs\u001b[0m\u001b[0;34m)\u001b[0m\u001b[0;34m\u001b[0m\u001b[0;34m\u001b[0m\u001b[0m\n\u001b[0m\u001b[1;32m    987\u001b[0m \u001b[0;34m\u001b[0m\u001b[0m\n\u001b[1;32m    988\u001b[0m       \u001b[0;31m# invariant: `func_outputs` contains only Tensors, CompositeTensors,\u001b[0m\u001b[0;34m\u001b[0m\u001b[0;34m\u001b[0m\u001b[0;34m\u001b[0m\u001b[0m\n",
      "\u001b[0;32m/usr/local/lib/python3.6/dist-packages/tensorflow/python/eager/def_function.py\u001b[0m in \u001b[0;36mwrapped_fn\u001b[0;34m(*args, **kwds)\u001b[0m\n\u001b[1;32m    598\u001b[0m         \u001b[0;31m# __wrapped__ allows AutoGraph to swap in a converted function. We give\u001b[0m\u001b[0;34m\u001b[0m\u001b[0;34m\u001b[0m\u001b[0;34m\u001b[0m\u001b[0m\n\u001b[1;32m    599\u001b[0m         \u001b[0;31m# the function a weak reference to itself to avoid a reference cycle.\u001b[0m\u001b[0;34m\u001b[0m\u001b[0;34m\u001b[0m\u001b[0;34m\u001b[0m\u001b[0m\n\u001b[0;32m--> 600\u001b[0;31m         \u001b[0;32mreturn\u001b[0m \u001b[0mweak_wrapped_fn\u001b[0m\u001b[0;34m(\u001b[0m\u001b[0;34m)\u001b[0m\u001b[0;34m.\u001b[0m\u001b[0m__wrapped__\u001b[0m\u001b[0;34m(\u001b[0m\u001b[0;34m*\u001b[0m\u001b[0margs\u001b[0m\u001b[0;34m,\u001b[0m \u001b[0;34m**\u001b[0m\u001b[0mkwds\u001b[0m\u001b[0;34m)\u001b[0m\u001b[0;34m\u001b[0m\u001b[0;34m\u001b[0m\u001b[0m\n\u001b[0m\u001b[1;32m    601\u001b[0m     \u001b[0mweak_wrapped_fn\u001b[0m \u001b[0;34m=\u001b[0m \u001b[0mweakref\u001b[0m\u001b[0;34m.\u001b[0m\u001b[0mref\u001b[0m\u001b[0;34m(\u001b[0m\u001b[0mwrapped_fn\u001b[0m\u001b[0;34m)\u001b[0m\u001b[0;34m\u001b[0m\u001b[0;34m\u001b[0m\u001b[0m\n\u001b[1;32m    602\u001b[0m \u001b[0;34m\u001b[0m\u001b[0m\n",
      "\u001b[0;32m/usr/local/lib/python3.6/dist-packages/tensorflow/python/framework/func_graph.py\u001b[0m in \u001b[0;36mwrapper\u001b[0;34m(*args, **kwargs)\u001b[0m\n\u001b[1;32m    971\u001b[0m           \u001b[0;32mexcept\u001b[0m \u001b[0mException\u001b[0m \u001b[0;32mas\u001b[0m \u001b[0me\u001b[0m\u001b[0;34m:\u001b[0m  \u001b[0;31m# pylint:disable=broad-except\u001b[0m\u001b[0;34m\u001b[0m\u001b[0;34m\u001b[0m\u001b[0m\n\u001b[1;32m    972\u001b[0m             \u001b[0;32mif\u001b[0m \u001b[0mhasattr\u001b[0m\u001b[0;34m(\u001b[0m\u001b[0me\u001b[0m\u001b[0;34m,\u001b[0m \u001b[0;34m\"ag_error_metadata\"\u001b[0m\u001b[0;34m)\u001b[0m\u001b[0;34m:\u001b[0m\u001b[0;34m\u001b[0m\u001b[0;34m\u001b[0m\u001b[0m\n\u001b[0;32m--> 973\u001b[0;31m               \u001b[0;32mraise\u001b[0m \u001b[0me\u001b[0m\u001b[0;34m.\u001b[0m\u001b[0mag_error_metadata\u001b[0m\u001b[0;34m.\u001b[0m\u001b[0mto_exception\u001b[0m\u001b[0;34m(\u001b[0m\u001b[0me\u001b[0m\u001b[0;34m)\u001b[0m\u001b[0;34m\u001b[0m\u001b[0;34m\u001b[0m\u001b[0m\n\u001b[0m\u001b[1;32m    974\u001b[0m             \u001b[0;32melse\u001b[0m\u001b[0;34m:\u001b[0m\u001b[0;34m\u001b[0m\u001b[0;34m\u001b[0m\u001b[0m\n\u001b[1;32m    975\u001b[0m               \u001b[0;32mraise\u001b[0m\u001b[0;34m\u001b[0m\u001b[0;34m\u001b[0m\u001b[0m\n",
      "\u001b[0;31mValueError\u001b[0m: in user code:\n\n    /usr/local/lib/python3.6/dist-packages/tensorflow/python/keras/engine/training.py:806 train_function  *\n        return step_function(self, iterator)\n    /usr/local/lib/python3.6/dist-packages/tensorflow/python/keras/engine/training.py:796 step_function  **\n        outputs = model.distribute_strategy.run(run_step, args=(data,))\n    /usr/local/lib/python3.6/dist-packages/tensorflow/python/distribute/distribute_lib.py:1211 run\n        return self._extended.call_for_each_replica(fn, args=args, kwargs=kwargs)\n    /usr/local/lib/python3.6/dist-packages/tensorflow/python/distribute/distribute_lib.py:2585 call_for_each_replica\n        return self._call_for_each_replica(fn, args, kwargs)\n    /usr/local/lib/python3.6/dist-packages/tensorflow/python/distribute/distribute_lib.py:2945 _call_for_each_replica\n        return fn(*args, **kwargs)\n    /usr/local/lib/python3.6/dist-packages/tensorflow/python/keras/engine/training.py:789 run_step  **\n        outputs = model.train_step(data)\n    /usr/local/lib/python3.6/dist-packages/tensorflow/python/keras/engine/training.py:747 train_step\n        y_pred = self(x, training=True)\n    /usr/local/lib/python3.6/dist-packages/tensorflow/python/keras/engine/base_layer.py:976 __call__\n        self.name)\n    /usr/local/lib/python3.6/dist-packages/tensorflow/python/keras/engine/input_spec.py:216 assert_input_compatibility\n        ' but received input with shape ' + str(shape))\n\n    ValueError: Input 0 of layer sequential_2 is incompatible with the layer: expected axis -1 of input shape to have value 100 but received input with shape [32, 100, 100, 3]\n"
     ]
    }
   ],
   "source": [
    "#Multiple layers\n",
    "\n",
    "#Defining the model\n",
    "model2 = Sequential()\n",
    "model2.add(Dense(512, activation = 'relu', input_shape = (train_images.shape[1],)))   \n",
    "model2.add(Dense(128, activation = 'relu'))\n",
    "model2.add(Dense(64, activation = 'relu'))\n",
    "model2.add(Dense(32, activation = 'relu'))\n",
    "model2.add(Dense(1, activation = 'sigmoid'))\n",
    "\n",
    "#Compiling the model\n",
    "optimizer = Adam(0.001)\n",
    "model2.compile (optimizer = optimizer, loss = 'binary_crossentropy', metrics = [\"accuracy\"])\n",
    "\n",
    "#Early Stopping\n",
    "earlystopping_callback = EarlyStopping(monitor = \"val_loss\", \n",
    "                                       min_delta = 0, \n",
    "                                       patience = 3, \n",
    "                                       verbose = 1, \n",
    "                                       mode = \"auto\", \n",
    "                                       baseline = None, \n",
    "                                       restore_best_weights = False)\n",
    "\n",
    "#Training the model\n",
    "history = model2.fit(x= train_images,\n",
    "                     y =train_labels,\n",
    "                     epochs = 100,\n",
    "                     verbose = 1,\n",
    "                     validation_split = 0.2,\n",
    "                     callbacks = earlystopping_callback)\n",
    "\n",
    "#Evaluate the model\n",
    "test_loss, test_accuracy = model1.evaluate(test_images, test_labels, verbose = 1)\n",
    "print('\\nTest accuracy:', test_accuracy)"
   ]
  },
  {
   "cell_type": "markdown",
   "metadata": {
    "colab_type": "text",
    "id": "08_g1sLDqnoz"
   },
   "source": [
    "# Loading the test data"
   ]
  },
  {
   "cell_type": "code",
   "execution_count": 76,
   "metadata": {
    "colab": {
     "base_uri": "https://localhost:8080/",
     "height": 1000
    },
    "colab_type": "code",
    "id": "v9u0vlzXVTDi",
    "outputId": "ca1ec1ba-cdb4-47c0-aa24-affef34e2b7c"
   },
   "outputs": [
    {
     "name": "stdout",
     "output_type": "stream",
     "text": [
      "Archive:  animal_data/test_beg.zip\n",
      "   creating: test_beg/\n",
      "  inflating: test_beg/Image_1.jpg    \n",
      "  inflating: test_beg/Image_10.jpg   \n",
      "  inflating: test_beg/Image_100.jpg  \n",
      "  inflating: test_beg/Image_101.jpg  \n",
      "  inflating: test_beg/Image_102.jpg  \n",
      "  inflating: test_beg/Image_103.jpg  \n",
      "  inflating: test_beg/Image_104.jpg  \n",
      "  inflating: test_beg/Image_105.jpg  \n",
      "  inflating: test_beg/Image_106.jpg  \n",
      "  inflating: test_beg/Image_107.jpg  \n",
      "  inflating: test_beg/Image_108.jpg  \n",
      "  inflating: test_beg/Image_109.jpg  \n",
      "  inflating: test_beg/Image_11.jpg   \n",
      "  inflating: test_beg/Image_110.jpg  \n",
      "  inflating: test_beg/Image_111.jpg  \n",
      "  inflating: test_beg/Image_112.jpg  \n",
      "  inflating: test_beg/Image_113.jpg  \n",
      "  inflating: test_beg/Image_114.jpg  \n",
      "  inflating: test_beg/Image_115.jpg  \n",
      "  inflating: test_beg/Image_116.jpg  \n",
      "  inflating: test_beg/Image_117.jpg  \n",
      "  inflating: test_beg/Image_118.jpg  \n",
      "  inflating: test_beg/Image_119.jpg  \n",
      "  inflating: test_beg/Image_12.jpg   \n",
      "  inflating: test_beg/Image_120.jpg  \n",
      "  inflating: test_beg/Image_121.jpg  \n",
      "  inflating: test_beg/Image_122.jpg  \n",
      "  inflating: test_beg/Image_123.jpg  \n",
      "  inflating: test_beg/Image_124.jpg  \n",
      "  inflating: test_beg/Image_125.jpg  \n",
      "  inflating: test_beg/Image_126.jpg  \n",
      "  inflating: test_beg/Image_127.jpg  \n",
      "  inflating: test_beg/Image_128.jpg  \n",
      "  inflating: test_beg/Image_129.jpg  \n",
      "  inflating: test_beg/Image_13.jpg   \n",
      "  inflating: test_beg/Image_130.jpg  \n",
      "  inflating: test_beg/Image_131.jpg  \n",
      "  inflating: test_beg/Image_132.jpg  \n",
      "  inflating: test_beg/Image_133.jpg  \n",
      "  inflating: test_beg/Image_134.jpg  \n",
      "  inflating: test_beg/Image_135.jpg  \n",
      "  inflating: test_beg/Image_136.jpg  \n",
      "  inflating: test_beg/Image_137.jpg  \n",
      "  inflating: test_beg/Image_138.jpg  \n",
      "  inflating: test_beg/Image_139.jpg  \n",
      "  inflating: test_beg/Image_14.jpg   \n",
      "  inflating: test_beg/Image_140.jpg  \n",
      "  inflating: test_beg/Image_141.jpg  \n",
      "  inflating: test_beg/Image_142.jpg  \n",
      "  inflating: test_beg/Image_143.jpg  \n",
      "  inflating: test_beg/Image_144.jpg  \n",
      "  inflating: test_beg/Image_145.jpg  \n",
      "  inflating: test_beg/Image_146.jpg  \n",
      "  inflating: test_beg/Image_147.jpg  \n",
      "  inflating: test_beg/Image_148.jpg  \n",
      "  inflating: test_beg/Image_149.jpg  \n",
      "  inflating: test_beg/Image_15.jpg   \n",
      "  inflating: test_beg/Image_150.jpg  \n",
      "  inflating: test_beg/Image_151.jpg  \n",
      "  inflating: test_beg/Image_152.jpg  \n",
      "  inflating: test_beg/Image_153.jpg  \n",
      "  inflating: test_beg/Image_154.jpg  \n",
      "  inflating: test_beg/Image_155.jpg  \n",
      "  inflating: test_beg/Image_156.jpg  \n",
      "  inflating: test_beg/Image_157.jpg  \n",
      "  inflating: test_beg/Image_158.jpg  \n",
      "  inflating: test_beg/Image_159.jpg  \n",
      "  inflating: test_beg/Image_16.jpg   \n",
      "  inflating: test_beg/Image_160.jpg  \n",
      "  inflating: test_beg/Image_161.jpg  \n",
      "  inflating: test_beg/Image_162.jpg  \n",
      "  inflating: test_beg/Image_163.jpg  \n",
      "  inflating: test_beg/Image_164.jpg  \n",
      "  inflating: test_beg/Image_165.jpg  \n",
      "  inflating: test_beg/Image_166.jpg  \n",
      "  inflating: test_beg/Image_167.jpg  \n",
      "  inflating: test_beg/Image_168.jpg  \n",
      "  inflating: test_beg/Image_169.jpg  \n",
      "  inflating: test_beg/Image_17.jpg   \n",
      "  inflating: test_beg/Image_170.jpg  \n",
      "  inflating: test_beg/Image_171.jpg  \n",
      "  inflating: test_beg/Image_172.jpg  \n",
      "  inflating: test_beg/Image_173.jpg  \n",
      "  inflating: test_beg/Image_174.jpg  \n",
      "  inflating: test_beg/Image_175.jpg  \n",
      "  inflating: test_beg/Image_176.jpg  \n",
      "  inflating: test_beg/Image_177.jpg  \n",
      "  inflating: test_beg/Image_178.jpg  \n",
      "  inflating: test_beg/Image_179.jpg  \n",
      "  inflating: test_beg/Image_18.jpg   \n",
      "  inflating: test_beg/Image_180.jpg  \n",
      "  inflating: test_beg/Image_181.jpg  \n",
      "  inflating: test_beg/Image_182.jpg  \n",
      "  inflating: test_beg/Image_183.jpg  \n",
      "  inflating: test_beg/Image_184.jpg  \n",
      "  inflating: test_beg/Image_185.jpg  \n",
      "  inflating: test_beg/Image_186.jpg  \n",
      "  inflating: test_beg/Image_187.jpg  \n",
      "  inflating: test_beg/Image_188.jpg  \n",
      "  inflating: test_beg/Image_189.jpg  \n",
      "  inflating: test_beg/Image_19.jpg   \n",
      "  inflating: test_beg/Image_190.jpg  \n",
      "  inflating: test_beg/Image_191.jpg  \n",
      "  inflating: test_beg/Image_192.jpg  \n",
      "  inflating: test_beg/Image_193.jpg  \n",
      "  inflating: test_beg/Image_194.jpg  \n",
      "  inflating: test_beg/Image_195.jpg  \n",
      "  inflating: test_beg/Image_196.jpg  \n",
      "  inflating: test_beg/Image_197.jpg  \n",
      "  inflating: test_beg/Image_198.jpg  \n",
      "  inflating: test_beg/Image_199.jpg  \n",
      "  inflating: test_beg/Image_2.jpg    \n",
      "  inflating: test_beg/Image_20.jpg   \n",
      "  inflating: test_beg/Image_200.jpg  \n",
      "  inflating: test_beg/Image_201.jpg  \n",
      "  inflating: test_beg/Image_202.jpg  \n",
      "  inflating: test_beg/Image_203.jpg  \n",
      "  inflating: test_beg/Image_204.jpg  \n",
      "  inflating: test_beg/Image_205.jpg  \n",
      "  inflating: test_beg/Image_206.jpg  \n",
      "  inflating: test_beg/Image_207.jpg  \n",
      "  inflating: test_beg/Image_208.jpg  \n",
      "  inflating: test_beg/Image_209.jpg  \n",
      "  inflating: test_beg/Image_21.jpg   \n",
      "  inflating: test_beg/Image_210.jpg  \n",
      "  inflating: test_beg/Image_211.jpg  \n",
      "  inflating: test_beg/Image_212.jpg  \n",
      "  inflating: test_beg/Image_213.jpg  \n",
      "  inflating: test_beg/Image_214.jpg  \n",
      "  inflating: test_beg/Image_215.jpg  \n",
      "  inflating: test_beg/Image_216.jpg  \n",
      "  inflating: test_beg/Image_217.jpg  \n",
      "  inflating: test_beg/Image_218.jpg  \n",
      "  inflating: test_beg/Image_219.jpg  \n",
      "  inflating: test_beg/Image_22.jpg   \n",
      "  inflating: test_beg/Image_220.jpg  \n",
      "  inflating: test_beg/Image_221.jpg  \n",
      "  inflating: test_beg/Image_222.jpg  \n",
      "  inflating: test_beg/Image_223.jpg  \n",
      "  inflating: test_beg/Image_224.jpg  \n",
      "  inflating: test_beg/Image_225.jpg  \n",
      "  inflating: test_beg/Image_226.jpg  \n",
      "  inflating: test_beg/Image_227.jpg  \n",
      "  inflating: test_beg/Image_228.jpg  \n",
      "  inflating: test_beg/Image_229.jpg  \n",
      "  inflating: test_beg/Image_23.jpg   \n",
      "  inflating: test_beg/Image_230.jpg  \n",
      "  inflating: test_beg/Image_231.jpg  \n",
      "  inflating: test_beg/Image_232.jpg  \n",
      "  inflating: test_beg/Image_233.jpg  \n",
      "  inflating: test_beg/Image_234.jpg  \n",
      "  inflating: test_beg/Image_235.jpg  \n",
      "  inflating: test_beg/Image_236.jpg  \n",
      "  inflating: test_beg/Image_237.jpg  \n",
      "  inflating: test_beg/Image_238.jpg  \n",
      "  inflating: test_beg/Image_239.jpg  \n",
      "  inflating: test_beg/Image_24.jpg   \n",
      "  inflating: test_beg/Image_240.jpg  \n",
      "  inflating: test_beg/Image_241.jpg  \n",
      "  inflating: test_beg/Image_242.jpg  \n",
      "  inflating: test_beg/Image_243.jpg  \n",
      "  inflating: test_beg/Image_244.jpg  \n",
      "  inflating: test_beg/Image_245.jpg  \n",
      "  inflating: test_beg/Image_246.jpg  \n",
      "  inflating: test_beg/Image_247.jpg  \n",
      "  inflating: test_beg/Image_248.jpg  \n",
      "  inflating: test_beg/Image_249.jpg  \n",
      "  inflating: test_beg/Image_25.jpg   \n",
      "  inflating: test_beg/Image_250.jpg  \n",
      "  inflating: test_beg/Image_251.jpg  \n",
      "  inflating: test_beg/Image_252.jpg  \n",
      "  inflating: test_beg/Image_253.jpg  \n",
      "  inflating: test_beg/Image_254.jpg  \n",
      "  inflating: test_beg/Image_255.jpg  \n",
      "  inflating: test_beg/Image_256.jpg  \n",
      "  inflating: test_beg/Image_257.jpg  \n",
      "  inflating: test_beg/Image_258.jpg  \n",
      "  inflating: test_beg/Image_259.jpg  \n",
      "  inflating: test_beg/Image_26.jpg   \n",
      "  inflating: test_beg/Image_260.jpg  \n",
      "  inflating: test_beg/Image_261.jpg  \n",
      "  inflating: test_beg/Image_262.jpg  \n",
      "  inflating: test_beg/Image_263.jpg  \n",
      "  inflating: test_beg/Image_264.jpg  \n",
      "  inflating: test_beg/Image_265.jpg  \n",
      "  inflating: test_beg/Image_266.jpg  \n",
      "  inflating: test_beg/Image_267.jpg  \n",
      "  inflating: test_beg/Image_268.jpg  \n",
      "  inflating: test_beg/Image_269.jpg  \n",
      "  inflating: test_beg/Image_27.jpg   \n",
      "  inflating: test_beg/Image_270.jpg  \n",
      "  inflating: test_beg/Image_271.jpg  \n",
      "  inflating: test_beg/Image_272.jpg  \n",
      "  inflating: test_beg/Image_273.jpg  \n",
      "  inflating: test_beg/Image_274.jpg  \n",
      "  inflating: test_beg/Image_275.jpg  \n",
      "  inflating: test_beg/Image_276.jpg  \n",
      "  inflating: test_beg/Image_277.jpg  \n",
      "  inflating: test_beg/Image_278.jpg  \n",
      "  inflating: test_beg/Image_279.jpg  \n",
      "  inflating: test_beg/Image_28.jpg   \n",
      "  inflating: test_beg/Image_280.jpg  \n",
      "  inflating: test_beg/Image_281.jpg  \n",
      "  inflating: test_beg/Image_282.jpg  \n",
      "  inflating: test_beg/Image_283.jpg  \n",
      "  inflating: test_beg/Image_284.jpg  \n",
      "  inflating: test_beg/Image_285.jpg  \n",
      "  inflating: test_beg/Image_286.jpg  \n",
      "  inflating: test_beg/Image_287.jpg  \n",
      "  inflating: test_beg/Image_288.jpg  \n",
      "  inflating: test_beg/Image_289.jpg  \n",
      "  inflating: test_beg/Image_29.jpg   \n",
      "  inflating: test_beg/Image_290.jpg  \n",
      "  inflating: test_beg/Image_291.jpg  \n",
      "  inflating: test_beg/Image_292.jpg  \n",
      "  inflating: test_beg/Image_293.jpg  \n",
      "  inflating: test_beg/Image_294.jpg  \n",
      "  inflating: test_beg/Image_295.jpg  \n",
      "  inflating: test_beg/Image_296.jpg  \n",
      "  inflating: test_beg/Image_297.jpg  \n",
      "  inflating: test_beg/Image_298.jpg  \n",
      "  inflating: test_beg/Image_299.jpg  \n",
      "  inflating: test_beg/Image_3.jpg    \n",
      "  inflating: test_beg/Image_30.jpg   \n",
      "  inflating: test_beg/Image_300.jpg  \n",
      "  inflating: test_beg/Image_301.jpg  \n",
      "  inflating: test_beg/Image_302.jpg  \n",
      "  inflating: test_beg/Image_303.jpg  \n",
      "  inflating: test_beg/Image_304.jpg  \n",
      "  inflating: test_beg/Image_305.jpg  \n",
      "  inflating: test_beg/Image_306.jpg  \n",
      "  inflating: test_beg/Image_307.jpg  \n",
      "  inflating: test_beg/Image_308.jpg  \n",
      "  inflating: test_beg/Image_309.jpg  \n",
      "  inflating: test_beg/Image_31.jpg   \n",
      "  inflating: test_beg/Image_310.jpg  \n",
      "  inflating: test_beg/Image_311.jpg  \n",
      "  inflating: test_beg/Image_312.jpg  \n",
      "  inflating: test_beg/Image_313.jpg  \n",
      "  inflating: test_beg/Image_314.jpg  \n",
      "  inflating: test_beg/Image_315.jpg  \n",
      "  inflating: test_beg/Image_316.jpg  \n",
      "  inflating: test_beg/Image_317.jpg  \n",
      "  inflating: test_beg/Image_318.jpg  \n",
      "  inflating: test_beg/Image_319.jpg  \n",
      "  inflating: test_beg/Image_32.jpg   \n",
      "  inflating: test_beg/Image_320.jpg  \n",
      "  inflating: test_beg/Image_321.jpg  \n",
      "  inflating: test_beg/Image_322.jpg  \n",
      "  inflating: test_beg/Image_323.jpg  \n",
      "  inflating: test_beg/Image_324.jpg  \n",
      "  inflating: test_beg/Image_325.jpg  \n",
      "  inflating: test_beg/Image_326.jpg  \n",
      "  inflating: test_beg/Image_327.jpg  \n",
      "  inflating: test_beg/Image_328.jpg  \n",
      "  inflating: test_beg/Image_329.jpg  \n",
      "  inflating: test_beg/Image_33.jpg   \n",
      "  inflating: test_beg/Image_330.jpg  \n",
      "  inflating: test_beg/Image_331.jpg  \n",
      "  inflating: test_beg/Image_332.jpg  \n",
      "  inflating: test_beg/Image_333.jpg  \n",
      "  inflating: test_beg/Image_334.jpg  \n",
      "  inflating: test_beg/Image_335.jpg  \n",
      "  inflating: test_beg/Image_336.jpg  \n",
      "  inflating: test_beg/Image_337.jpg  \n",
      "  inflating: test_beg/Image_338.jpg  \n",
      "  inflating: test_beg/Image_339.jpg  \n",
      "  inflating: test_beg/Image_34.jpg   \n",
      "  inflating: test_beg/Image_340.jpg  \n",
      "  inflating: test_beg/Image_341.jpg  \n",
      "  inflating: test_beg/Image_342.jpg  \n",
      "  inflating: test_beg/Image_343.jpg  \n",
      "  inflating: test_beg/Image_344.jpg  \n",
      "  inflating: test_beg/Image_345.jpg  \n",
      "  inflating: test_beg/Image_346.jpg  \n",
      "  inflating: test_beg/Image_347.jpg  \n",
      "  inflating: test_beg/Image_348.jpg  \n",
      "  inflating: test_beg/Image_349.jpg  \n",
      "  inflating: test_beg/Image_35.jpg   \n",
      "  inflating: test_beg/Image_350.jpg  \n",
      "  inflating: test_beg/Image_351.jpg  \n",
      "  inflating: test_beg/Image_352.jpg  \n",
      "  inflating: test_beg/Image_353.jpg  \n",
      "  inflating: test_beg/Image_354.jpg  \n",
      "  inflating: test_beg/Image_355.jpg  \n",
      "  inflating: test_beg/Image_356.jpg  \n",
      "  inflating: test_beg/Image_357.jpg  \n",
      "  inflating: test_beg/Image_358.jpg  \n",
      "  inflating: test_beg/Image_359.jpg  \n",
      "  inflating: test_beg/Image_36.jpg   \n",
      "  inflating: test_beg/Image_360.jpg  \n",
      "  inflating: test_beg/Image_361.jpg  \n",
      "  inflating: test_beg/Image_362.jpg  \n",
      "  inflating: test_beg/Image_363.jpg  \n",
      "  inflating: test_beg/Image_364.jpg  \n",
      "  inflating: test_beg/Image_365.jpg  \n",
      "  inflating: test_beg/Image_366.jpg  \n",
      "  inflating: test_beg/Image_367.jpg  \n",
      "  inflating: test_beg/Image_368.jpg  \n",
      "  inflating: test_beg/Image_369.jpg  \n",
      "  inflating: test_beg/Image_37.jpg   \n",
      "  inflating: test_beg/Image_370.jpg  \n",
      "  inflating: test_beg/Image_371.jpg  \n",
      "  inflating: test_beg/Image_372.jpg  \n",
      "  inflating: test_beg/Image_373.jpg  \n",
      "  inflating: test_beg/Image_374.jpg  \n",
      "  inflating: test_beg/Image_375.jpg  \n",
      "  inflating: test_beg/Image_376.jpg  \n",
      "  inflating: test_beg/Image_377.jpg  \n",
      "  inflating: test_beg/Image_378.jpg  \n",
      "  inflating: test_beg/Image_379.jpg  \n",
      "  inflating: test_beg/Image_38.jpg   \n",
      "  inflating: test_beg/Image_380.jpg  \n",
      "  inflating: test_beg/Image_381.jpg  \n",
      "  inflating: test_beg/Image_382.jpg  \n",
      "  inflating: test_beg/Image_383.jpg  \n",
      "  inflating: test_beg/Image_384.jpg  \n",
      "  inflating: test_beg/Image_385.jpg  \n",
      "  inflating: test_beg/Image_386.jpg  \n",
      "  inflating: test_beg/Image_387.jpg  \n",
      "  inflating: test_beg/Image_388.jpg  \n",
      "  inflating: test_beg/Image_389.jpg  \n",
      "  inflating: test_beg/Image_39.jpg   \n",
      "  inflating: test_beg/Image_390.jpg  \n",
      "  inflating: test_beg/Image_391.jpg  \n",
      "  inflating: test_beg/Image_392.jpg  \n",
      "  inflating: test_beg/Image_393.jpg  \n",
      "  inflating: test_beg/Image_394.jpg  \n",
      "  inflating: test_beg/Image_395.jpg  \n",
      "  inflating: test_beg/Image_396.jpg  \n",
      "  inflating: test_beg/Image_397.jpg  \n",
      "  inflating: test_beg/Image_398.jpg  \n",
      "  inflating: test_beg/Image_399.jpg  \n",
      "  inflating: test_beg/Image_4.jpg    \n",
      "  inflating: test_beg/Image_40.jpg   \n",
      "  inflating: test_beg/Image_400.jpg  \n",
      "  inflating: test_beg/Image_41.jpg   \n",
      "  inflating: test_beg/Image_42.jpg   \n",
      "  inflating: test_beg/Image_43.jpg   \n",
      "  inflating: test_beg/Image_44.jpg   \n",
      "  inflating: test_beg/Image_45.jpg   \n",
      "  inflating: test_beg/Image_46.jpg   \n",
      "  inflating: test_beg/Image_47.jpg   \n",
      "  inflating: test_beg/Image_48.jpg   \n",
      "  inflating: test_beg/Image_49.jpg   \n",
      "  inflating: test_beg/Image_5.jpg    \n",
      "  inflating: test_beg/Image_50.jpg   \n",
      "  inflating: test_beg/Image_51.jpg   \n",
      "  inflating: test_beg/Image_52.jpg   \n",
      "  inflating: test_beg/Image_53.jpg   \n",
      "  inflating: test_beg/Image_54.jpg   \n",
      "  inflating: test_beg/Image_55.jpg   \n",
      "  inflating: test_beg/Image_56.jpg   \n",
      "  inflating: test_beg/Image_57.jpg   \n",
      "  inflating: test_beg/Image_58.jpg   \n",
      "  inflating: test_beg/Image_59.jpg   \n",
      "  inflating: test_beg/Image_6.jpg    \n",
      "  inflating: test_beg/Image_60.jpg   \n",
      "  inflating: test_beg/Image_61.jpg   \n",
      "  inflating: test_beg/Image_62.jpg   \n",
      "  inflating: test_beg/Image_63.jpg   \n",
      "  inflating: test_beg/Image_64.jpg   \n",
      "  inflating: test_beg/Image_65.jpg   \n",
      "  inflating: test_beg/Image_66.jpg   \n",
      "  inflating: test_beg/Image_67.jpg   \n",
      "  inflating: test_beg/Image_68.jpg   \n",
      "  inflating: test_beg/Image_69.jpg   \n",
      "  inflating: test_beg/Image_7.jpg    \n",
      "  inflating: test_beg/Image_70.jpg   \n",
      "  inflating: test_beg/Image_71.jpg   \n",
      "  inflating: test_beg/Image_72.jpg   \n",
      "  inflating: test_beg/Image_73.jpg   \n",
      "  inflating: test_beg/Image_74.jpg   \n",
      "  inflating: test_beg/Image_75.jpg   \n",
      "  inflating: test_beg/Image_76.jpg   \n",
      "  inflating: test_beg/Image_77.jpg   \n",
      "  inflating: test_beg/Image_78.jpg   \n",
      "  inflating: test_beg/Image_79.jpg   \n",
      "  inflating: test_beg/Image_8.jpg    \n",
      "  inflating: test_beg/Image_80.jpg   \n",
      "  inflating: test_beg/Image_81.jpg   \n",
      "  inflating: test_beg/Image_82.jpg   \n",
      "  inflating: test_beg/Image_83.jpg   \n",
      "  inflating: test_beg/Image_84.jpg   \n",
      "  inflating: test_beg/Image_85.jpg   \n",
      "  inflating: test_beg/Image_86.jpg   \n",
      "  inflating: test_beg/Image_87.jpg   \n",
      "  inflating: test_beg/Image_88.jpg   \n",
      "  inflating: test_beg/Image_89.jpg   \n",
      "  inflating: test_beg/Image_9.jpg    \n",
      "  inflating: test_beg/Image_90.jpg   \n",
      "  inflating: test_beg/Image_91.jpg   \n",
      "  inflating: test_beg/Image_92.jpg   \n",
      "  inflating: test_beg/Image_93.jpg   \n",
      "  inflating: test_beg/Image_94.jpg   \n",
      "  inflating: test_beg/Image_95.jpg   \n",
      "  inflating: test_beg/Image_96.jpg   \n",
      "  inflating: test_beg/Image_97.jpg   \n",
      "  inflating: test_beg/Image_98.jpg   \n",
      "  inflating: test_beg/Image_99.jpg   \n"
     ]
    }
   ],
   "source": [
    "# unzipping the test_beg.zip file\n",
    "!unzip animal_data/test_beg.zip"
   ]
  },
  {
   "cell_type": "code",
   "execution_count": 77,
   "metadata": {
    "colab": {
     "base_uri": "https://localhost:8080/",
     "height": 204
    },
    "colab_type": "code",
    "id": "jok_dqeMYx8m",
    "outputId": "47cecc93-c963-48c9-8cc7-0dfc6af0d0a3"
   },
   "outputs": [
    {
     "data": {
      "text/html": [
       "<div>\n",
       "<style scoped>\n",
       "    .dataframe tbody tr th:only-of-type {\n",
       "        vertical-align: middle;\n",
       "    }\n",
       "\n",
       "    .dataframe tbody tr th {\n",
       "        vertical-align: top;\n",
       "    }\n",
       "\n",
       "    .dataframe thead th {\n",
       "        text-align: right;\n",
       "    }\n",
       "</style>\n",
       "<table border=\"1\" class=\"dataframe\">\n",
       "  <thead>\n",
       "    <tr style=\"text-align: right;\">\n",
       "      <th></th>\n",
       "      <th>filename</th>\n",
       "    </tr>\n",
       "  </thead>\n",
       "  <tbody>\n",
       "    <tr>\n",
       "      <th>0</th>\n",
       "      <td>Image_1.jpg</td>\n",
       "    </tr>\n",
       "    <tr>\n",
       "      <th>1</th>\n",
       "      <td>Image_2.jpg</td>\n",
       "    </tr>\n",
       "    <tr>\n",
       "      <th>2</th>\n",
       "      <td>Image_3.jpg</td>\n",
       "    </tr>\n",
       "    <tr>\n",
       "      <th>3</th>\n",
       "      <td>Image_4.jpg</td>\n",
       "    </tr>\n",
       "    <tr>\n",
       "      <th>4</th>\n",
       "      <td>Image_5.jpg</td>\n",
       "    </tr>\n",
       "  </tbody>\n",
       "</table>\n",
       "</div>"
      ],
      "text/plain": [
       "      filename\n",
       "0  Image_1.jpg\n",
       "1  Image_2.jpg\n",
       "2  Image_3.jpg\n",
       "3  Image_4.jpg\n",
       "4  Image_5.jpg"
      ]
     },
     "execution_count": 77,
     "metadata": {
      "tags": []
     },
     "output_type": "execute_result"
    }
   ],
   "source": [
    "new_test_ids = pd.read_csv('https://raw.githubusercontent.com/dphi-official/Datasets/master/animal_data/Testing_set_animals.csv', names=['filename'])\n",
    "new_test_ids.head()"
   ]
  },
  {
   "cell_type": "markdown",
   "metadata": {
    "colab_type": "text",
    "id": "eVwItpdSQ9iX"
   },
   "source": [
    "### Getting the name and path of all image files\n"
   ]
  },
  {
   "cell_type": "code",
   "execution_count": 79,
   "metadata": {
    "colab": {
     "base_uri": "https://localhost:8080/",
     "height": 1000
    },
    "colab_type": "code",
    "id": "E-Qf-UiYRBYQ",
    "outputId": "477e8ac9-d696-40bb-f434-3d4b988f9745"
   },
   "outputs": [
    {
     "data": {
      "text/plain": [
       "[['Image_1.jpg', '/content/test_beg/Image_1.jpg'],\n",
       " ['Image_2.jpg', '/content/test_beg/Image_2.jpg'],\n",
       " ['Image_3.jpg', '/content/test_beg/Image_3.jpg'],\n",
       " ['Image_4.jpg', '/content/test_beg/Image_4.jpg'],\n",
       " ['Image_5.jpg', '/content/test_beg/Image_5.jpg'],\n",
       " ['Image_6.jpg', '/content/test_beg/Image_6.jpg'],\n",
       " ['Image_7.jpg', '/content/test_beg/Image_7.jpg'],\n",
       " ['Image_8.jpg', '/content/test_beg/Image_8.jpg'],\n",
       " ['Image_9.jpg', '/content/test_beg/Image_9.jpg'],\n",
       " ['Image_10.jpg', '/content/test_beg/Image_10.jpg'],\n",
       " ['Image_11.jpg', '/content/test_beg/Image_11.jpg'],\n",
       " ['Image_12.jpg', '/content/test_beg/Image_12.jpg'],\n",
       " ['Image_13.jpg', '/content/test_beg/Image_13.jpg'],\n",
       " ['Image_14.jpg', '/content/test_beg/Image_14.jpg'],\n",
       " ['Image_15.jpg', '/content/test_beg/Image_15.jpg'],\n",
       " ['Image_16.jpg', '/content/test_beg/Image_16.jpg'],\n",
       " ['Image_17.jpg', '/content/test_beg/Image_17.jpg'],\n",
       " ['Image_18.jpg', '/content/test_beg/Image_18.jpg'],\n",
       " ['Image_19.jpg', '/content/test_beg/Image_19.jpg'],\n",
       " ['Image_20.jpg', '/content/test_beg/Image_20.jpg'],\n",
       " ['Image_21.jpg', '/content/test_beg/Image_21.jpg'],\n",
       " ['Image_22.jpg', '/content/test_beg/Image_22.jpg'],\n",
       " ['Image_23.jpg', '/content/test_beg/Image_23.jpg'],\n",
       " ['Image_24.jpg', '/content/test_beg/Image_24.jpg'],\n",
       " ['Image_25.jpg', '/content/test_beg/Image_25.jpg'],\n",
       " ['Image_26.jpg', '/content/test_beg/Image_26.jpg'],\n",
       " ['Image_27.jpg', '/content/test_beg/Image_27.jpg'],\n",
       " ['Image_28.jpg', '/content/test_beg/Image_28.jpg'],\n",
       " ['Image_29.jpg', '/content/test_beg/Image_29.jpg'],\n",
       " ['Image_30.jpg', '/content/test_beg/Image_30.jpg'],\n",
       " ['Image_31.jpg', '/content/test_beg/Image_31.jpg'],\n",
       " ['Image_32.jpg', '/content/test_beg/Image_32.jpg'],\n",
       " ['Image_33.jpg', '/content/test_beg/Image_33.jpg'],\n",
       " ['Image_34.jpg', '/content/test_beg/Image_34.jpg'],\n",
       " ['Image_35.jpg', '/content/test_beg/Image_35.jpg'],\n",
       " ['Image_36.jpg', '/content/test_beg/Image_36.jpg'],\n",
       " ['Image_37.jpg', '/content/test_beg/Image_37.jpg'],\n",
       " ['Image_38.jpg', '/content/test_beg/Image_38.jpg'],\n",
       " ['Image_39.jpg', '/content/test_beg/Image_39.jpg'],\n",
       " ['Image_40.jpg', '/content/test_beg/Image_40.jpg'],\n",
       " ['Image_41.jpg', '/content/test_beg/Image_41.jpg'],\n",
       " ['Image_42.jpg', '/content/test_beg/Image_42.jpg'],\n",
       " ['Image_43.jpg', '/content/test_beg/Image_43.jpg'],\n",
       " ['Image_44.jpg', '/content/test_beg/Image_44.jpg'],\n",
       " ['Image_45.jpg', '/content/test_beg/Image_45.jpg'],\n",
       " ['Image_46.jpg', '/content/test_beg/Image_46.jpg'],\n",
       " ['Image_47.jpg', '/content/test_beg/Image_47.jpg'],\n",
       " ['Image_48.jpg', '/content/test_beg/Image_48.jpg'],\n",
       " ['Image_49.jpg', '/content/test_beg/Image_49.jpg'],\n",
       " ['Image_50.jpg', '/content/test_beg/Image_50.jpg'],\n",
       " ['Image_51.jpg', '/content/test_beg/Image_51.jpg'],\n",
       " ['Image_52.jpg', '/content/test_beg/Image_52.jpg'],\n",
       " ['Image_53.jpg', '/content/test_beg/Image_53.jpg'],\n",
       " ['Image_54.jpg', '/content/test_beg/Image_54.jpg'],\n",
       " ['Image_55.jpg', '/content/test_beg/Image_55.jpg'],\n",
       " ['Image_56.jpg', '/content/test_beg/Image_56.jpg'],\n",
       " ['Image_57.jpg', '/content/test_beg/Image_57.jpg'],\n",
       " ['Image_58.jpg', '/content/test_beg/Image_58.jpg'],\n",
       " ['Image_59.jpg', '/content/test_beg/Image_59.jpg'],\n",
       " ['Image_60.jpg', '/content/test_beg/Image_60.jpg'],\n",
       " ['Image_61.jpg', '/content/test_beg/Image_61.jpg'],\n",
       " ['Image_62.jpg', '/content/test_beg/Image_62.jpg'],\n",
       " ['Image_63.jpg', '/content/test_beg/Image_63.jpg'],\n",
       " ['Image_64.jpg', '/content/test_beg/Image_64.jpg'],\n",
       " ['Image_65.jpg', '/content/test_beg/Image_65.jpg'],\n",
       " ['Image_66.jpg', '/content/test_beg/Image_66.jpg'],\n",
       " ['Image_67.jpg', '/content/test_beg/Image_67.jpg'],\n",
       " ['Image_68.jpg', '/content/test_beg/Image_68.jpg'],\n",
       " ['Image_69.jpg', '/content/test_beg/Image_69.jpg'],\n",
       " ['Image_70.jpg', '/content/test_beg/Image_70.jpg'],\n",
       " ['Image_71.jpg', '/content/test_beg/Image_71.jpg'],\n",
       " ['Image_72.jpg', '/content/test_beg/Image_72.jpg'],\n",
       " ['Image_73.jpg', '/content/test_beg/Image_73.jpg'],\n",
       " ['Image_74.jpg', '/content/test_beg/Image_74.jpg'],\n",
       " ['Image_75.jpg', '/content/test_beg/Image_75.jpg'],\n",
       " ['Image_76.jpg', '/content/test_beg/Image_76.jpg'],\n",
       " ['Image_77.jpg', '/content/test_beg/Image_77.jpg'],\n",
       " ['Image_78.jpg', '/content/test_beg/Image_78.jpg'],\n",
       " ['Image_79.jpg', '/content/test_beg/Image_79.jpg'],\n",
       " ['Image_80.jpg', '/content/test_beg/Image_80.jpg'],\n",
       " ['Image_81.jpg', '/content/test_beg/Image_81.jpg'],\n",
       " ['Image_82.jpg', '/content/test_beg/Image_82.jpg'],\n",
       " ['Image_83.jpg', '/content/test_beg/Image_83.jpg'],\n",
       " ['Image_84.jpg', '/content/test_beg/Image_84.jpg'],\n",
       " ['Image_85.jpg', '/content/test_beg/Image_85.jpg'],\n",
       " ['Image_86.jpg', '/content/test_beg/Image_86.jpg'],\n",
       " ['Image_87.jpg', '/content/test_beg/Image_87.jpg'],\n",
       " ['Image_88.jpg', '/content/test_beg/Image_88.jpg'],\n",
       " ['Image_89.jpg', '/content/test_beg/Image_89.jpg'],\n",
       " ['Image_90.jpg', '/content/test_beg/Image_90.jpg'],\n",
       " ['Image_91.jpg', '/content/test_beg/Image_91.jpg'],\n",
       " ['Image_92.jpg', '/content/test_beg/Image_92.jpg'],\n",
       " ['Image_93.jpg', '/content/test_beg/Image_93.jpg'],\n",
       " ['Image_94.jpg', '/content/test_beg/Image_94.jpg'],\n",
       " ['Image_95.jpg', '/content/test_beg/Image_95.jpg'],\n",
       " ['Image_96.jpg', '/content/test_beg/Image_96.jpg'],\n",
       " ['Image_97.jpg', '/content/test_beg/Image_97.jpg'],\n",
       " ['Image_98.jpg', '/content/test_beg/Image_98.jpg'],\n",
       " ['Image_99.jpg', '/content/test_beg/Image_99.jpg'],\n",
       " ['Image_100.jpg', '/content/test_beg/Image_100.jpg'],\n",
       " ['Image_101.jpg', '/content/test_beg/Image_101.jpg'],\n",
       " ['Image_102.jpg', '/content/test_beg/Image_102.jpg'],\n",
       " ['Image_103.jpg', '/content/test_beg/Image_103.jpg'],\n",
       " ['Image_104.jpg', '/content/test_beg/Image_104.jpg'],\n",
       " ['Image_105.jpg', '/content/test_beg/Image_105.jpg'],\n",
       " ['Image_106.jpg', '/content/test_beg/Image_106.jpg'],\n",
       " ['Image_107.jpg', '/content/test_beg/Image_107.jpg'],\n",
       " ['Image_108.jpg', '/content/test_beg/Image_108.jpg'],\n",
       " ['Image_109.jpg', '/content/test_beg/Image_109.jpg'],\n",
       " ['Image_110.jpg', '/content/test_beg/Image_110.jpg'],\n",
       " ['Image_111.jpg', '/content/test_beg/Image_111.jpg'],\n",
       " ['Image_112.jpg', '/content/test_beg/Image_112.jpg'],\n",
       " ['Image_113.jpg', '/content/test_beg/Image_113.jpg'],\n",
       " ['Image_114.jpg', '/content/test_beg/Image_114.jpg'],\n",
       " ['Image_115.jpg', '/content/test_beg/Image_115.jpg'],\n",
       " ['Image_116.jpg', '/content/test_beg/Image_116.jpg'],\n",
       " ['Image_117.jpg', '/content/test_beg/Image_117.jpg'],\n",
       " ['Image_118.jpg', '/content/test_beg/Image_118.jpg'],\n",
       " ['Image_119.jpg', '/content/test_beg/Image_119.jpg'],\n",
       " ['Image_120.jpg', '/content/test_beg/Image_120.jpg'],\n",
       " ['Image_121.jpg', '/content/test_beg/Image_121.jpg'],\n",
       " ['Image_122.jpg', '/content/test_beg/Image_122.jpg'],\n",
       " ['Image_123.jpg', '/content/test_beg/Image_123.jpg'],\n",
       " ['Image_124.jpg', '/content/test_beg/Image_124.jpg'],\n",
       " ['Image_125.jpg', '/content/test_beg/Image_125.jpg'],\n",
       " ['Image_126.jpg', '/content/test_beg/Image_126.jpg'],\n",
       " ['Image_127.jpg', '/content/test_beg/Image_127.jpg'],\n",
       " ['Image_128.jpg', '/content/test_beg/Image_128.jpg'],\n",
       " ['Image_129.jpg', '/content/test_beg/Image_129.jpg'],\n",
       " ['Image_130.jpg', '/content/test_beg/Image_130.jpg'],\n",
       " ['Image_131.jpg', '/content/test_beg/Image_131.jpg'],\n",
       " ['Image_132.jpg', '/content/test_beg/Image_132.jpg'],\n",
       " ['Image_133.jpg', '/content/test_beg/Image_133.jpg'],\n",
       " ['Image_134.jpg', '/content/test_beg/Image_134.jpg'],\n",
       " ['Image_135.jpg', '/content/test_beg/Image_135.jpg'],\n",
       " ['Image_136.jpg', '/content/test_beg/Image_136.jpg'],\n",
       " ['Image_137.jpg', '/content/test_beg/Image_137.jpg'],\n",
       " ['Image_138.jpg', '/content/test_beg/Image_138.jpg'],\n",
       " ['Image_139.jpg', '/content/test_beg/Image_139.jpg'],\n",
       " ['Image_140.jpg', '/content/test_beg/Image_140.jpg'],\n",
       " ['Image_141.jpg', '/content/test_beg/Image_141.jpg'],\n",
       " ['Image_142.jpg', '/content/test_beg/Image_142.jpg'],\n",
       " ['Image_143.jpg', '/content/test_beg/Image_143.jpg'],\n",
       " ['Image_144.jpg', '/content/test_beg/Image_144.jpg'],\n",
       " ['Image_145.jpg', '/content/test_beg/Image_145.jpg'],\n",
       " ['Image_146.jpg', '/content/test_beg/Image_146.jpg'],\n",
       " ['Image_147.jpg', '/content/test_beg/Image_147.jpg'],\n",
       " ['Image_148.jpg', '/content/test_beg/Image_148.jpg'],\n",
       " ['Image_149.jpg', '/content/test_beg/Image_149.jpg'],\n",
       " ['Image_150.jpg', '/content/test_beg/Image_150.jpg'],\n",
       " ['Image_151.jpg', '/content/test_beg/Image_151.jpg'],\n",
       " ['Image_152.jpg', '/content/test_beg/Image_152.jpg'],\n",
       " ['Image_153.jpg', '/content/test_beg/Image_153.jpg'],\n",
       " ['Image_154.jpg', '/content/test_beg/Image_154.jpg'],\n",
       " ['Image_155.jpg', '/content/test_beg/Image_155.jpg'],\n",
       " ['Image_156.jpg', '/content/test_beg/Image_156.jpg'],\n",
       " ['Image_157.jpg', '/content/test_beg/Image_157.jpg'],\n",
       " ['Image_158.jpg', '/content/test_beg/Image_158.jpg'],\n",
       " ['Image_159.jpg', '/content/test_beg/Image_159.jpg'],\n",
       " ['Image_160.jpg', '/content/test_beg/Image_160.jpg'],\n",
       " ['Image_161.jpg', '/content/test_beg/Image_161.jpg'],\n",
       " ['Image_162.jpg', '/content/test_beg/Image_162.jpg'],\n",
       " ['Image_163.jpg', '/content/test_beg/Image_163.jpg'],\n",
       " ['Image_164.jpg', '/content/test_beg/Image_164.jpg'],\n",
       " ['Image_165.jpg', '/content/test_beg/Image_165.jpg'],\n",
       " ['Image_166.jpg', '/content/test_beg/Image_166.jpg'],\n",
       " ['Image_167.jpg', '/content/test_beg/Image_167.jpg'],\n",
       " ['Image_168.jpg', '/content/test_beg/Image_168.jpg'],\n",
       " ['Image_169.jpg', '/content/test_beg/Image_169.jpg'],\n",
       " ['Image_170.jpg', '/content/test_beg/Image_170.jpg'],\n",
       " ['Image_171.jpg', '/content/test_beg/Image_171.jpg'],\n",
       " ['Image_172.jpg', '/content/test_beg/Image_172.jpg'],\n",
       " ['Image_173.jpg', '/content/test_beg/Image_173.jpg'],\n",
       " ['Image_174.jpg', '/content/test_beg/Image_174.jpg'],\n",
       " ['Image_175.jpg', '/content/test_beg/Image_175.jpg'],\n",
       " ['Image_176.jpg', '/content/test_beg/Image_176.jpg'],\n",
       " ['Image_177.jpg', '/content/test_beg/Image_177.jpg'],\n",
       " ['Image_178.jpg', '/content/test_beg/Image_178.jpg'],\n",
       " ['Image_179.jpg', '/content/test_beg/Image_179.jpg'],\n",
       " ['Image_180.jpg', '/content/test_beg/Image_180.jpg'],\n",
       " ['Image_181.jpg', '/content/test_beg/Image_181.jpg'],\n",
       " ['Image_182.jpg', '/content/test_beg/Image_182.jpg'],\n",
       " ['Image_183.jpg', '/content/test_beg/Image_183.jpg'],\n",
       " ['Image_184.jpg', '/content/test_beg/Image_184.jpg'],\n",
       " ['Image_185.jpg', '/content/test_beg/Image_185.jpg'],\n",
       " ['Image_186.jpg', '/content/test_beg/Image_186.jpg'],\n",
       " ['Image_187.jpg', '/content/test_beg/Image_187.jpg'],\n",
       " ['Image_188.jpg', '/content/test_beg/Image_188.jpg'],\n",
       " ['Image_189.jpg', '/content/test_beg/Image_189.jpg'],\n",
       " ['Image_190.jpg', '/content/test_beg/Image_190.jpg'],\n",
       " ['Image_191.jpg', '/content/test_beg/Image_191.jpg'],\n",
       " ['Image_192.jpg', '/content/test_beg/Image_192.jpg'],\n",
       " ['Image_193.jpg', '/content/test_beg/Image_193.jpg'],\n",
       " ['Image_194.jpg', '/content/test_beg/Image_194.jpg'],\n",
       " ['Image_195.jpg', '/content/test_beg/Image_195.jpg'],\n",
       " ['Image_196.jpg', '/content/test_beg/Image_196.jpg'],\n",
       " ['Image_197.jpg', '/content/test_beg/Image_197.jpg'],\n",
       " ['Image_198.jpg', '/content/test_beg/Image_198.jpg'],\n",
       " ['Image_199.jpg', '/content/test_beg/Image_199.jpg'],\n",
       " ['Image_200.jpg', '/content/test_beg/Image_200.jpg'],\n",
       " ['Image_201.jpg', '/content/test_beg/Image_201.jpg'],\n",
       " ['Image_202.jpg', '/content/test_beg/Image_202.jpg'],\n",
       " ['Image_203.jpg', '/content/test_beg/Image_203.jpg'],\n",
       " ['Image_204.jpg', '/content/test_beg/Image_204.jpg'],\n",
       " ['Image_205.jpg', '/content/test_beg/Image_205.jpg'],\n",
       " ['Image_206.jpg', '/content/test_beg/Image_206.jpg'],\n",
       " ['Image_207.jpg', '/content/test_beg/Image_207.jpg'],\n",
       " ['Image_208.jpg', '/content/test_beg/Image_208.jpg'],\n",
       " ['Image_209.jpg', '/content/test_beg/Image_209.jpg'],\n",
       " ['Image_210.jpg', '/content/test_beg/Image_210.jpg'],\n",
       " ['Image_211.jpg', '/content/test_beg/Image_211.jpg'],\n",
       " ['Image_212.jpg', '/content/test_beg/Image_212.jpg'],\n",
       " ['Image_213.jpg', '/content/test_beg/Image_213.jpg'],\n",
       " ['Image_214.jpg', '/content/test_beg/Image_214.jpg'],\n",
       " ['Image_215.jpg', '/content/test_beg/Image_215.jpg'],\n",
       " ['Image_216.jpg', '/content/test_beg/Image_216.jpg'],\n",
       " ['Image_217.jpg', '/content/test_beg/Image_217.jpg'],\n",
       " ['Image_218.jpg', '/content/test_beg/Image_218.jpg'],\n",
       " ['Image_219.jpg', '/content/test_beg/Image_219.jpg'],\n",
       " ['Image_220.jpg', '/content/test_beg/Image_220.jpg'],\n",
       " ['Image_221.jpg', '/content/test_beg/Image_221.jpg'],\n",
       " ['Image_222.jpg', '/content/test_beg/Image_222.jpg'],\n",
       " ['Image_223.jpg', '/content/test_beg/Image_223.jpg'],\n",
       " ['Image_224.jpg', '/content/test_beg/Image_224.jpg'],\n",
       " ['Image_225.jpg', '/content/test_beg/Image_225.jpg'],\n",
       " ['Image_226.jpg', '/content/test_beg/Image_226.jpg'],\n",
       " ['Image_227.jpg', '/content/test_beg/Image_227.jpg'],\n",
       " ['Image_228.jpg', '/content/test_beg/Image_228.jpg'],\n",
       " ['Image_229.jpg', '/content/test_beg/Image_229.jpg'],\n",
       " ['Image_230.jpg', '/content/test_beg/Image_230.jpg'],\n",
       " ['Image_231.jpg', '/content/test_beg/Image_231.jpg'],\n",
       " ['Image_232.jpg', '/content/test_beg/Image_232.jpg'],\n",
       " ['Image_233.jpg', '/content/test_beg/Image_233.jpg'],\n",
       " ['Image_234.jpg', '/content/test_beg/Image_234.jpg'],\n",
       " ['Image_235.jpg', '/content/test_beg/Image_235.jpg'],\n",
       " ['Image_236.jpg', '/content/test_beg/Image_236.jpg'],\n",
       " ['Image_237.jpg', '/content/test_beg/Image_237.jpg'],\n",
       " ['Image_238.jpg', '/content/test_beg/Image_238.jpg'],\n",
       " ['Image_239.jpg', '/content/test_beg/Image_239.jpg'],\n",
       " ['Image_240.jpg', '/content/test_beg/Image_240.jpg'],\n",
       " ['Image_241.jpg', '/content/test_beg/Image_241.jpg'],\n",
       " ['Image_242.jpg', '/content/test_beg/Image_242.jpg'],\n",
       " ['Image_243.jpg', '/content/test_beg/Image_243.jpg'],\n",
       " ['Image_244.jpg', '/content/test_beg/Image_244.jpg'],\n",
       " ['Image_245.jpg', '/content/test_beg/Image_245.jpg'],\n",
       " ['Image_246.jpg', '/content/test_beg/Image_246.jpg'],\n",
       " ['Image_247.jpg', '/content/test_beg/Image_247.jpg'],\n",
       " ['Image_248.jpg', '/content/test_beg/Image_248.jpg'],\n",
       " ['Image_249.jpg', '/content/test_beg/Image_249.jpg'],\n",
       " ['Image_250.jpg', '/content/test_beg/Image_250.jpg'],\n",
       " ['Image_251.jpg', '/content/test_beg/Image_251.jpg'],\n",
       " ['Image_252.jpg', '/content/test_beg/Image_252.jpg'],\n",
       " ['Image_253.jpg', '/content/test_beg/Image_253.jpg'],\n",
       " ['Image_254.jpg', '/content/test_beg/Image_254.jpg'],\n",
       " ['Image_255.jpg', '/content/test_beg/Image_255.jpg'],\n",
       " ['Image_256.jpg', '/content/test_beg/Image_256.jpg'],\n",
       " ['Image_257.jpg', '/content/test_beg/Image_257.jpg'],\n",
       " ['Image_258.jpg', '/content/test_beg/Image_258.jpg'],\n",
       " ['Image_259.jpg', '/content/test_beg/Image_259.jpg'],\n",
       " ['Image_260.jpg', '/content/test_beg/Image_260.jpg'],\n",
       " ['Image_261.jpg', '/content/test_beg/Image_261.jpg'],\n",
       " ['Image_262.jpg', '/content/test_beg/Image_262.jpg'],\n",
       " ['Image_263.jpg', '/content/test_beg/Image_263.jpg'],\n",
       " ['Image_264.jpg', '/content/test_beg/Image_264.jpg'],\n",
       " ['Image_265.jpg', '/content/test_beg/Image_265.jpg'],\n",
       " ['Image_266.jpg', '/content/test_beg/Image_266.jpg'],\n",
       " ['Image_267.jpg', '/content/test_beg/Image_267.jpg'],\n",
       " ['Image_268.jpg', '/content/test_beg/Image_268.jpg'],\n",
       " ['Image_269.jpg', '/content/test_beg/Image_269.jpg'],\n",
       " ['Image_270.jpg', '/content/test_beg/Image_270.jpg'],\n",
       " ['Image_271.jpg', '/content/test_beg/Image_271.jpg'],\n",
       " ['Image_272.jpg', '/content/test_beg/Image_272.jpg'],\n",
       " ['Image_273.jpg', '/content/test_beg/Image_273.jpg'],\n",
       " ['Image_274.jpg', '/content/test_beg/Image_274.jpg'],\n",
       " ['Image_275.jpg', '/content/test_beg/Image_275.jpg'],\n",
       " ['Image_276.jpg', '/content/test_beg/Image_276.jpg'],\n",
       " ['Image_277.jpg', '/content/test_beg/Image_277.jpg'],\n",
       " ['Image_278.jpg', '/content/test_beg/Image_278.jpg'],\n",
       " ['Image_279.jpg', '/content/test_beg/Image_279.jpg'],\n",
       " ['Image_280.jpg', '/content/test_beg/Image_280.jpg'],\n",
       " ['Image_281.jpg', '/content/test_beg/Image_281.jpg'],\n",
       " ['Image_282.jpg', '/content/test_beg/Image_282.jpg'],\n",
       " ['Image_283.jpg', '/content/test_beg/Image_283.jpg'],\n",
       " ['Image_284.jpg', '/content/test_beg/Image_284.jpg'],\n",
       " ['Image_285.jpg', '/content/test_beg/Image_285.jpg'],\n",
       " ['Image_286.jpg', '/content/test_beg/Image_286.jpg'],\n",
       " ['Image_287.jpg', '/content/test_beg/Image_287.jpg'],\n",
       " ['Image_288.jpg', '/content/test_beg/Image_288.jpg'],\n",
       " ['Image_289.jpg', '/content/test_beg/Image_289.jpg'],\n",
       " ['Image_290.jpg', '/content/test_beg/Image_290.jpg'],\n",
       " ['Image_291.jpg', '/content/test_beg/Image_291.jpg'],\n",
       " ['Image_292.jpg', '/content/test_beg/Image_292.jpg'],\n",
       " ['Image_293.jpg', '/content/test_beg/Image_293.jpg'],\n",
       " ['Image_294.jpg', '/content/test_beg/Image_294.jpg'],\n",
       " ['Image_295.jpg', '/content/test_beg/Image_295.jpg'],\n",
       " ['Image_296.jpg', '/content/test_beg/Image_296.jpg'],\n",
       " ['Image_297.jpg', '/content/test_beg/Image_297.jpg'],\n",
       " ['Image_298.jpg', '/content/test_beg/Image_298.jpg'],\n",
       " ['Image_299.jpg', '/content/test_beg/Image_299.jpg'],\n",
       " ['Image_300.jpg', '/content/test_beg/Image_300.jpg'],\n",
       " ['Image_301.jpg', '/content/test_beg/Image_301.jpg'],\n",
       " ['Image_302.jpg', '/content/test_beg/Image_302.jpg'],\n",
       " ['Image_303.jpg', '/content/test_beg/Image_303.jpg'],\n",
       " ['Image_304.jpg', '/content/test_beg/Image_304.jpg'],\n",
       " ['Image_305.jpg', '/content/test_beg/Image_305.jpg'],\n",
       " ['Image_306.jpg', '/content/test_beg/Image_306.jpg'],\n",
       " ['Image_307.jpg', '/content/test_beg/Image_307.jpg'],\n",
       " ['Image_308.jpg', '/content/test_beg/Image_308.jpg'],\n",
       " ['Image_309.jpg', '/content/test_beg/Image_309.jpg'],\n",
       " ['Image_310.jpg', '/content/test_beg/Image_310.jpg'],\n",
       " ['Image_311.jpg', '/content/test_beg/Image_311.jpg'],\n",
       " ['Image_312.jpg', '/content/test_beg/Image_312.jpg'],\n",
       " ['Image_313.jpg', '/content/test_beg/Image_313.jpg'],\n",
       " ['Image_314.jpg', '/content/test_beg/Image_314.jpg'],\n",
       " ['Image_315.jpg', '/content/test_beg/Image_315.jpg'],\n",
       " ['Image_316.jpg', '/content/test_beg/Image_316.jpg'],\n",
       " ['Image_317.jpg', '/content/test_beg/Image_317.jpg'],\n",
       " ['Image_318.jpg', '/content/test_beg/Image_318.jpg'],\n",
       " ['Image_319.jpg', '/content/test_beg/Image_319.jpg'],\n",
       " ['Image_320.jpg', '/content/test_beg/Image_320.jpg'],\n",
       " ['Image_321.jpg', '/content/test_beg/Image_321.jpg'],\n",
       " ['Image_322.jpg', '/content/test_beg/Image_322.jpg'],\n",
       " ['Image_323.jpg', '/content/test_beg/Image_323.jpg'],\n",
       " ['Image_324.jpg', '/content/test_beg/Image_324.jpg'],\n",
       " ['Image_325.jpg', '/content/test_beg/Image_325.jpg'],\n",
       " ['Image_326.jpg', '/content/test_beg/Image_326.jpg'],\n",
       " ['Image_327.jpg', '/content/test_beg/Image_327.jpg'],\n",
       " ['Image_328.jpg', '/content/test_beg/Image_328.jpg'],\n",
       " ['Image_329.jpg', '/content/test_beg/Image_329.jpg'],\n",
       " ['Image_330.jpg', '/content/test_beg/Image_330.jpg'],\n",
       " ['Image_331.jpg', '/content/test_beg/Image_331.jpg'],\n",
       " ['Image_332.jpg', '/content/test_beg/Image_332.jpg'],\n",
       " ['Image_333.jpg', '/content/test_beg/Image_333.jpg'],\n",
       " ['Image_334.jpg', '/content/test_beg/Image_334.jpg'],\n",
       " ['Image_335.jpg', '/content/test_beg/Image_335.jpg'],\n",
       " ['Image_336.jpg', '/content/test_beg/Image_336.jpg'],\n",
       " ['Image_337.jpg', '/content/test_beg/Image_337.jpg'],\n",
       " ['Image_338.jpg', '/content/test_beg/Image_338.jpg'],\n",
       " ['Image_339.jpg', '/content/test_beg/Image_339.jpg'],\n",
       " ['Image_340.jpg', '/content/test_beg/Image_340.jpg'],\n",
       " ['Image_341.jpg', '/content/test_beg/Image_341.jpg'],\n",
       " ['Image_342.jpg', '/content/test_beg/Image_342.jpg'],\n",
       " ['Image_343.jpg', '/content/test_beg/Image_343.jpg'],\n",
       " ['Image_344.jpg', '/content/test_beg/Image_344.jpg'],\n",
       " ['Image_345.jpg', '/content/test_beg/Image_345.jpg'],\n",
       " ['Image_346.jpg', '/content/test_beg/Image_346.jpg'],\n",
       " ['Image_347.jpg', '/content/test_beg/Image_347.jpg'],\n",
       " ['Image_348.jpg', '/content/test_beg/Image_348.jpg'],\n",
       " ['Image_349.jpg', '/content/test_beg/Image_349.jpg'],\n",
       " ['Image_350.jpg', '/content/test_beg/Image_350.jpg'],\n",
       " ['Image_351.jpg', '/content/test_beg/Image_351.jpg'],\n",
       " ['Image_352.jpg', '/content/test_beg/Image_352.jpg'],\n",
       " ['Image_353.jpg', '/content/test_beg/Image_353.jpg'],\n",
       " ['Image_354.jpg', '/content/test_beg/Image_354.jpg'],\n",
       " ['Image_355.jpg', '/content/test_beg/Image_355.jpg'],\n",
       " ['Image_356.jpg', '/content/test_beg/Image_356.jpg'],\n",
       " ['Image_357.jpg', '/content/test_beg/Image_357.jpg'],\n",
       " ['Image_358.jpg', '/content/test_beg/Image_358.jpg'],\n",
       " ['Image_359.jpg', '/content/test_beg/Image_359.jpg'],\n",
       " ['Image_360.jpg', '/content/test_beg/Image_360.jpg'],\n",
       " ['Image_361.jpg', '/content/test_beg/Image_361.jpg'],\n",
       " ['Image_362.jpg', '/content/test_beg/Image_362.jpg'],\n",
       " ['Image_363.jpg', '/content/test_beg/Image_363.jpg'],\n",
       " ['Image_364.jpg', '/content/test_beg/Image_364.jpg'],\n",
       " ['Image_365.jpg', '/content/test_beg/Image_365.jpg'],\n",
       " ['Image_366.jpg', '/content/test_beg/Image_366.jpg'],\n",
       " ['Image_367.jpg', '/content/test_beg/Image_367.jpg'],\n",
       " ['Image_368.jpg', '/content/test_beg/Image_368.jpg'],\n",
       " ['Image_369.jpg', '/content/test_beg/Image_369.jpg'],\n",
       " ['Image_370.jpg', '/content/test_beg/Image_370.jpg'],\n",
       " ['Image_371.jpg', '/content/test_beg/Image_371.jpg'],\n",
       " ['Image_372.jpg', '/content/test_beg/Image_372.jpg'],\n",
       " ['Image_373.jpg', '/content/test_beg/Image_373.jpg'],\n",
       " ['Image_374.jpg', '/content/test_beg/Image_374.jpg'],\n",
       " ['Image_375.jpg', '/content/test_beg/Image_375.jpg'],\n",
       " ['Image_376.jpg', '/content/test_beg/Image_376.jpg'],\n",
       " ['Image_377.jpg', '/content/test_beg/Image_377.jpg'],\n",
       " ['Image_378.jpg', '/content/test_beg/Image_378.jpg'],\n",
       " ['Image_379.jpg', '/content/test_beg/Image_379.jpg'],\n",
       " ['Image_380.jpg', '/content/test_beg/Image_380.jpg'],\n",
       " ['Image_381.jpg', '/content/test_beg/Image_381.jpg'],\n",
       " ['Image_382.jpg', '/content/test_beg/Image_382.jpg'],\n",
       " ['Image_383.jpg', '/content/test_beg/Image_383.jpg'],\n",
       " ['Image_384.jpg', '/content/test_beg/Image_384.jpg'],\n",
       " ['Image_385.jpg', '/content/test_beg/Image_385.jpg'],\n",
       " ['Image_386.jpg', '/content/test_beg/Image_386.jpg'],\n",
       " ['Image_387.jpg', '/content/test_beg/Image_387.jpg'],\n",
       " ['Image_388.jpg', '/content/test_beg/Image_388.jpg'],\n",
       " ['Image_389.jpg', '/content/test_beg/Image_389.jpg'],\n",
       " ['Image_390.jpg', '/content/test_beg/Image_390.jpg'],\n",
       " ['Image_391.jpg', '/content/test_beg/Image_391.jpg'],\n",
       " ['Image_392.jpg', '/content/test_beg/Image_392.jpg'],\n",
       " ['Image_393.jpg', '/content/test_beg/Image_393.jpg'],\n",
       " ['Image_394.jpg', '/content/test_beg/Image_394.jpg'],\n",
       " ['Image_395.jpg', '/content/test_beg/Image_395.jpg'],\n",
       " ['Image_396.jpg', '/content/test_beg/Image_396.jpg'],\n",
       " ['Image_397.jpg', '/content/test_beg/Image_397.jpg'],\n",
       " ['Image_398.jpg', '/content/test_beg/Image_398.jpg'],\n",
       " ['Image_399.jpg', '/content/test_beg/Image_399.jpg'],\n",
       " ['Image_400.jpg', '/content/test_beg/Image_400.jpg']]"
      ]
     },
     "execution_count": 79,
     "metadata": {
      "tags": []
     },
     "output_type": "execute_result"
    }
   ],
   "source": [
    "new_image_paths = [[fname, '/content/test_beg/' + fname[:-4] + '.jpg'] for fname in new_test_ids['filename']]\n",
    "new_image_paths\n"
   ]
  },
  {
   "cell_type": "markdown",
   "metadata": {
    "colab_type": "text",
    "id": "_-i0S820RQbe"
   },
   "source": [
    "### Confirming if no. of labels is equal to the no. of images"
   ]
  },
  {
   "cell_type": "code",
   "execution_count": 81,
   "metadata": {
    "colab": {
     "base_uri": "https://localhost:8080/",
     "height": 34
    },
    "colab_type": "code",
    "id": "0qTNew7PRTP8",
    "outputId": "47b169ec-0bb6-4a20-e25b-8b3318525e3e"
   },
   "outputs": [
    {
     "name": "stdout",
     "output_type": "stream",
     "text": [
      "Number of labels i.e. 400 matches the number of filenames 400\n"
     ]
    }
   ],
   "source": [
    "# Confirm if number of labels(from csv file) is equal to the number of images(from image_path) \n",
    "if len(new_test_ids) == len(new_image_paths):\n",
    "  print(\"Number of labels i.e.\", len (new_test_ids), \"matches the number of filenames\", len(new_image_paths))\n",
    "else:\n",
    "  print(\"Number of labels does not match the number of file names\")"
   ]
  },
  {
   "cell_type": "markdown",
   "metadata": {
    "colab_type": "text",
    "id": "kdM7R0P0ScQS"
   },
   "source": [
    "### Creating a DataFrame for image names and image paths\n"
   ]
  },
  {
   "cell_type": "code",
   "execution_count": 86,
   "metadata": {
    "colab": {
     "base_uri": "https://localhost:8080/",
     "height": 204
    },
    "colab_type": "code",
    "id": "IrjteaZ1S9bR",
    "outputId": "ac17aacc-3da0-4258-82e0-2fa60ea10a53"
   },
   "outputs": [
    {
     "data": {
      "text/html": [
       "<div>\n",
       "<style scoped>\n",
       "    .dataframe tbody tr th:only-of-type {\n",
       "        vertical-align: middle;\n",
       "    }\n",
       "\n",
       "    .dataframe tbody tr th {\n",
       "        vertical-align: top;\n",
       "    }\n",
       "\n",
       "    .dataframe thead th {\n",
       "        text-align: right;\n",
       "    }\n",
       "</style>\n",
       "<table border=\"1\" class=\"dataframe\">\n",
       "  <thead>\n",
       "    <tr style=\"text-align: right;\">\n",
       "      <th></th>\n",
       "      <th>filename</th>\n",
       "      <th>filepath</th>\n",
       "    </tr>\n",
       "  </thead>\n",
       "  <tbody>\n",
       "    <tr>\n",
       "      <th>0</th>\n",
       "      <td>Image_1.jpg</td>\n",
       "      <td>/content/test_beg/Image_1.jpg</td>\n",
       "    </tr>\n",
       "    <tr>\n",
       "      <th>1</th>\n",
       "      <td>Image_2.jpg</td>\n",
       "      <td>/content/test_beg/Image_2.jpg</td>\n",
       "    </tr>\n",
       "    <tr>\n",
       "      <th>2</th>\n",
       "      <td>Image_3.jpg</td>\n",
       "      <td>/content/test_beg/Image_3.jpg</td>\n",
       "    </tr>\n",
       "    <tr>\n",
       "      <th>3</th>\n",
       "      <td>Image_4.jpg</td>\n",
       "      <td>/content/test_beg/Image_4.jpg</td>\n",
       "    </tr>\n",
       "    <tr>\n",
       "      <th>4</th>\n",
       "      <td>Image_5.jpg</td>\n",
       "      <td>/content/test_beg/Image_5.jpg</td>\n",
       "    </tr>\n",
       "  </tbody>\n",
       "</table>\n",
       "</div>"
      ],
      "text/plain": [
       "      filename                       filepath\n",
       "0  Image_1.jpg  /content/test_beg/Image_1.jpg\n",
       "1  Image_2.jpg  /content/test_beg/Image_2.jpg\n",
       "2  Image_3.jpg  /content/test_beg/Image_3.jpg\n",
       "3  Image_4.jpg  /content/test_beg/Image_4.jpg\n",
       "4  Image_5.jpg  /content/test_beg/Image_5.jpg"
      ]
     },
     "execution_count": 86,
     "metadata": {
      "tags": []
     },
     "output_type": "execute_result"
    }
   ],
   "source": [
    "new_test_data = pd.DataFrame(new_image_paths)\n",
    "new_test_data.columns = ['filename', 'filepath']\n",
    "new_test_data.head()"
   ]
  },
  {
   "cell_type": "code",
   "execution_count": 87,
   "metadata": {
    "colab": {},
    "colab_type": "code",
    "id": "nYsky13DT8iu"
   },
   "outputs": [],
   "source": [
    "#combining 'new_test_images' dataset with 'new_test_labels' dataset\n",
    "#new_test_images = pd.merge(new_test_images, new_test_labels, how = \"inner\", on = \"filename\")  # inner: use intersection of keys from both frames.\n",
    "#new_test_images.head()  "
   ]
  },
  {
   "cell_type": "code",
   "execution_count": 88,
   "metadata": {
    "colab": {
     "base_uri": "https://localhost:8080/",
     "height": 34
    },
    "colab_type": "code",
    "id": "y7mqUk0XUgsW",
    "outputId": "ed3ca9cf-f9a3-431c-8b98-a7aeb9ad8bfe"
   },
   "outputs": [
    {
     "data": {
      "text/plain": [
       "(400, 2)"
      ]
     },
     "execution_count": 88,
     "metadata": {
      "tags": []
     },
     "output_type": "execute_result"
    }
   ],
   "source": [
    "new_test_data.shape"
   ]
  },
  {
   "cell_type": "code",
   "execution_count": 91,
   "metadata": {
    "colab": {
     "base_uri": "https://localhost:8080/",
     "height": 850
    },
    "colab_type": "code",
    "id": "iFyo_gZXU0AZ",
    "outputId": "1c8b8e67-a815-4010-8f0e-50a629155c7a"
   },
   "outputs": [
    {
     "data": {
      "text/plain": [
       "array([[[208, 186, 168],\n",
       "        [207, 185, 167],\n",
       "        [205, 183, 165],\n",
       "        ...,\n",
       "        [224, 206, 195],\n",
       "        [223, 205, 194],\n",
       "        [226, 208, 197]],\n",
       "\n",
       "       [[209, 187, 169],\n",
       "        [208, 186, 168],\n",
       "        [206, 184, 166],\n",
       "        ...,\n",
       "        [224, 206, 195],\n",
       "        [223, 205, 194],\n",
       "        [227, 209, 198]],\n",
       "\n",
       "       [[211, 189, 171],\n",
       "        [210, 188, 170],\n",
       "        [208, 186, 168],\n",
       "        ...,\n",
       "        [222, 206, 193],\n",
       "        [222, 206, 193],\n",
       "        [225, 209, 196]],\n",
       "\n",
       "       ...,\n",
       "\n",
       "       [[ 36,  89,  67],\n",
       "        [  6,  44,  26],\n",
       "        [ 51,  88,  71],\n",
       "        ...,\n",
       "        [ 51,  91,  91],\n",
       "        [ 38,  82,  77],\n",
       "        [ 43,  87,  83]],\n",
       "\n",
       "       [[ 28,  77,  60],\n",
       "        [ 23,  60,  44],\n",
       "        [ 31,  68,  49],\n",
       "        ...,\n",
       "        [ 34,  72,  76],\n",
       "        [ 33,  72,  73],\n",
       "        [ 36,  76,  75]],\n",
       "\n",
       "       [[ 37,  83,  70],\n",
       "        [ 13,  56,  40],\n",
       "        [ 33,  71,  51],\n",
       "        ...,\n",
       "        [ 40,  76,  82],\n",
       "        [ 18,  55,  59],\n",
       "        [  5,  43,  45]]], dtype=uint8)"
      ]
     },
     "execution_count": 91,
     "metadata": {
      "tags": []
     },
     "output_type": "execute_result"
    }
   ],
   "source": [
    "#loading images using cv2\n",
    "\n",
    "img_size = 100\n",
    "new_test_images = []\n",
    "\n",
    "for i in range(len(new_test_data)):\n",
    "  image = cv2.imread(new_test_data[\"filepath\"][i], 1)\n",
    "  image = cv2.resize(image,(img_size,img_size))\n",
    "  new_test_images.append(image)\n",
    "\n",
    "new_test_images[1]"
   ]
  },
  {
   "cell_type": "code",
   "execution_count": 92,
   "metadata": {
    "colab": {
     "base_uri": "https://localhost:8080/",
     "height": 850
    },
    "colab_type": "code",
    "id": "yFqJlKCKYSu5",
    "outputId": "db1547a1-e00e-4f1c-bb59-7d379ddffd11"
   },
   "outputs": [
    {
     "data": {
      "text/plain": [
       "array([[[0.81568627, 0.72941176, 0.65882353],\n",
       "        [0.81176471, 0.7254902 , 0.65490196],\n",
       "        [0.80392157, 0.71764706, 0.64705882],\n",
       "        ...,\n",
       "        [0.87843137, 0.80784314, 0.76470588],\n",
       "        [0.8745098 , 0.80392157, 0.76078431],\n",
       "        [0.88627451, 0.81568627, 0.77254902]],\n",
       "\n",
       "       [[0.81960784, 0.73333333, 0.6627451 ],\n",
       "        [0.81568627, 0.72941176, 0.65882353],\n",
       "        [0.80784314, 0.72156863, 0.65098039],\n",
       "        ...,\n",
       "        [0.87843137, 0.80784314, 0.76470588],\n",
       "        [0.8745098 , 0.80392157, 0.76078431],\n",
       "        [0.89019608, 0.81960784, 0.77647059]],\n",
       "\n",
       "       [[0.82745098, 0.74117647, 0.67058824],\n",
       "        [0.82352941, 0.7372549 , 0.66666667],\n",
       "        [0.81568627, 0.72941176, 0.65882353],\n",
       "        ...,\n",
       "        [0.87058824, 0.80784314, 0.75686275],\n",
       "        [0.87058824, 0.80784314, 0.75686275],\n",
       "        [0.88235294, 0.81960784, 0.76862745]],\n",
       "\n",
       "       ...,\n",
       "\n",
       "       [[0.14117647, 0.34901961, 0.2627451 ],\n",
       "        [0.02352941, 0.17254902, 0.10196078],\n",
       "        [0.2       , 0.34509804, 0.27843137],\n",
       "        ...,\n",
       "        [0.2       , 0.35686275, 0.35686275],\n",
       "        [0.14901961, 0.32156863, 0.30196078],\n",
       "        [0.16862745, 0.34117647, 0.3254902 ]],\n",
       "\n",
       "       [[0.10980392, 0.30196078, 0.23529412],\n",
       "        [0.09019608, 0.23529412, 0.17254902],\n",
       "        [0.12156863, 0.26666667, 0.19215686],\n",
       "        ...,\n",
       "        [0.13333333, 0.28235294, 0.29803922],\n",
       "        [0.12941176, 0.28235294, 0.28627451],\n",
       "        [0.14117647, 0.29803922, 0.29411765]],\n",
       "\n",
       "       [[0.14509804, 0.3254902 , 0.2745098 ],\n",
       "        [0.05098039, 0.21960784, 0.15686275],\n",
       "        [0.12941176, 0.27843137, 0.2       ],\n",
       "        ...,\n",
       "        [0.15686275, 0.29803922, 0.32156863],\n",
       "        [0.07058824, 0.21568627, 0.23137255],\n",
       "        [0.01960784, 0.16862745, 0.17647059]]])"
      ]
     },
     "execution_count": 92,
     "metadata": {
      "tags": []
     },
     "output_type": "execute_result"
    }
   ],
   "source": [
    "#Normalizing \n",
    "new_test_images = np.array(new_test_images)/255\n",
    "new_test_images[1]"
   ]
  },
  {
   "cell_type": "code",
   "execution_count": 93,
   "metadata": {
    "colab": {
     "base_uri": "https://localhost:8080/",
     "height": 34
    },
    "colab_type": "code",
    "id": "Gpl3kubaY-UQ",
    "outputId": "bdf019de-3938-4c46-a093-159381fbc1cb"
   },
   "outputs": [
    {
     "data": {
      "text/plain": [
       "(400, 100, 100, 3)"
      ]
     },
     "execution_count": 93,
     "metadata": {
      "tags": []
     },
     "output_type": "execute_result"
    }
   ],
   "source": [
    "new_test_images.shape"
   ]
  },
  {
   "cell_type": "markdown",
   "metadata": {
    "colab_type": "text",
    "id": "lCOoRcqsr5eU"
   },
   "source": [
    "# Prediction"
   ]
  },
  {
   "cell_type": "code",
   "execution_count": 94,
   "metadata": {
    "colab": {},
    "colab_type": "code",
    "id": "7zQgYbiAr7Ds"
   },
   "outputs": [],
   "source": [
    "predictions = (model1.predict(new_test_images) > 0.5).astype(\"int32\")"
   ]
  },
  {
   "cell_type": "code",
   "execution_count": 95,
   "metadata": {
    "colab": {
     "base_uri": "https://localhost:8080/",
     "height": 34
    },
    "colab_type": "code",
    "id": "4ZlpqTqrakg_",
    "outputId": "0edd7419-6f84-4cf1-8f22-b18d28326d4f"
   },
   "outputs": [
    {
     "data": {
      "text/plain": [
       "(400, 1)"
      ]
     },
     "execution_count": 95,
     "metadata": {
      "tags": []
     },
     "output_type": "execute_result"
    }
   ],
   "source": [
    "predictions.shape"
   ]
  },
  {
   "cell_type": "code",
   "execution_count": 96,
   "metadata": {
    "colab": {
     "base_uri": "https://localhost:8080/",
     "height": 85
    },
    "colab_type": "code",
    "id": "4yGykIdcZI_1",
    "outputId": "d25d5224-eec9-40df-d39d-74d324f29866"
   },
   "outputs": [
    {
     "data": {
      "text/plain": [
       "array([[1],\n",
       "       [0],\n",
       "       [0],\n",
       "       [1]], dtype=int32)"
      ]
     },
     "execution_count": 96,
     "metadata": {
      "tags": []
     },
     "output_type": "execute_result"
    }
   ],
   "source": [
    "predictions[1:5]\n"
   ]
  },
  {
   "cell_type": "code",
   "execution_count": 93,
   "metadata": {
    "colab": {},
    "colab_type": "code",
    "id": "0jO6TFjAlZ9s"
   },
   "outputs": [],
   "source": [
    "#predictions = np.array(predictions)"
   ]
  },
  {
   "cell_type": "code",
   "execution_count": 97,
   "metadata": {
    "colab": {},
    "colab_type": "code",
    "id": "0PLLnwTCzCGd"
   },
   "outputs": [],
   "source": [
    "#Converting 0s and 1s to labels\n",
    "\n",
    "image_pred = []\n",
    "\n",
    "for i in range (len(predictions)):\n",
    "    if i == 1:\n",
    "       image_pred.append('mucca')\n",
    "    else:\n",
    "       image_pred.append('pecora')\n",
    "\n",
    "\n"
   ]
  },
  {
   "cell_type": "code",
   "execution_count": 98,
   "metadata": {
    "colab": {
     "base_uri": "https://localhost:8080/",
     "height": 170
    },
    "colab_type": "code",
    "id": "OYjFbMEcy8vN",
    "outputId": "101a3e36-ddc9-4d8a-e03b-9776ac0cec13"
   },
   "outputs": [
    {
     "data": {
      "text/plain": [
       "['mucca',\n",
       " 'pecora',\n",
       " 'pecora',\n",
       " 'pecora',\n",
       " 'pecora',\n",
       " 'pecora',\n",
       " 'pecora',\n",
       " 'pecora',\n",
       " 'pecora']"
      ]
     },
     "execution_count": 98,
     "metadata": {
      "tags": []
     },
     "output_type": "execute_result"
    }
   ],
   "source": [
    "image_pred[1:10]   #check"
   ]
  },
  {
   "cell_type": "markdown",
   "metadata": {
    "colab_type": "text",
    "id": "Fz2VhWCpr_Kh"
   },
   "source": [
    "# Downloading the Data"
   ]
  },
  {
   "cell_type": "code",
   "execution_count": 101,
   "metadata": {
    "colab": {
     "base_uri": "https://localhost:8080/",
     "height": 17
    },
    "colab_type": "code",
    "id": "CLunPb0psAf7",
    "outputId": "389370a4-47fc-4865-fcd4-e9ece97cddc2"
   },
   "outputs": [
    {
     "data": {
      "application/javascript": [
       "\n",
       "    async function download(id, filename, size) {\n",
       "      if (!google.colab.kernel.accessAllowed) {\n",
       "        return;\n",
       "      }\n",
       "      const div = document.createElement('div');\n",
       "      const label = document.createElement('label');\n",
       "      label.textContent = `Downloading \"${filename}\": `;\n",
       "      div.appendChild(label);\n",
       "      const progress = document.createElement('progress');\n",
       "      progress.max = size;\n",
       "      div.appendChild(progress);\n",
       "      document.body.appendChild(div);\n",
       "\n",
       "      const buffers = [];\n",
       "      let downloaded = 0;\n",
       "\n",
       "      const channel = await google.colab.kernel.comms.open(id);\n",
       "      // Send a message to notify the kernel that we're ready.\n",
       "      channel.send({})\n",
       "\n",
       "      for await (const message of channel.messages) {\n",
       "        // Send a message to notify the kernel that we're ready.\n",
       "        channel.send({})\n",
       "        if (message.buffers) {\n",
       "          for (const buffer of message.buffers) {\n",
       "            buffers.push(buffer);\n",
       "            downloaded += buffer.byteLength;\n",
       "            progress.value = downloaded;\n",
       "          }\n",
       "        }\n",
       "      }\n",
       "      const blob = new Blob(buffers, {type: 'application/binary'});\n",
       "      const a = document.createElement('a');\n",
       "      a.href = window.URL.createObjectURL(blob);\n",
       "      a.download = filename;\n",
       "      div.appendChild(a);\n",
       "      a.click();\n",
       "      div.remove();\n",
       "    }\n",
       "  "
      ],
      "text/plain": [
       "<IPython.core.display.Javascript object>"
      ]
     },
     "metadata": {
      "tags": []
     },
     "output_type": "display_data"
    },
    {
     "data": {
      "application/javascript": [
       "download(\"download_396fe145-30d0-4192-b309-b96519ab9964\", \"submission.csv\", 9803)"
      ],
      "text/plain": [
       "<IPython.core.display.Javascript object>"
      ]
     },
     "metadata": {
      "tags": []
     },
     "output_type": "display_data"
    }
   ],
   "source": [
    "res = pd.DataFrame({\"filename\": new_test_data[\"filename\"], 'animal_type': image_pred}) \n",
    "res.to_csv(\"submission.csv\")\n",
    "\n",
    "# To download the csv file locally\n",
    "from google.colab import files        \n",
    "files.download('submission.csv')\n"
   ]
  }
 ],
 "metadata": {
  "accelerator": "GPU",
  "colab": {
   "collapsed_sections": [],
   "name": "Assignment_2_Johny_18th.ipynb",
   "provenance": []
  },
  "kernelspec": {
   "display_name": "Python 3",
   "language": "python",
   "name": "python3"
  },
  "language_info": {
   "codemirror_mode": {
    "name": "ipython",
    "version": 3
   },
   "file_extension": ".py",
   "mimetype": "text/x-python",
   "name": "python",
   "nbconvert_exporter": "python",
   "pygments_lexer": "ipython3",
   "version": "3.8.3"
  }
 },
 "nbformat": 4,
 "nbformat_minor": 1
}
